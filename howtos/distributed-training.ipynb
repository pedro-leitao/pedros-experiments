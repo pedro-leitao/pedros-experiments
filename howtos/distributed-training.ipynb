{
 "cells": [
  {
   "cell_type": "markdown",
   "id": "621a8f5d-e909-41c2-9af8-259509352415",
   "metadata": {
    "editable": true,
    "slideshow": {
     "slide_type": ""
    },
    "tags": []
   },
   "source": [
    "# Distributed Training with Keras & Tensorflow\n",
    "\n",
    "Training a model can be extremely compute intensive, even for relatively small problems and even with access to powerful GPU hardware, network training can run for many hours, days or weeks!\n",
    "\n",
    "If you are experimenting or learning machine learning with Tensorflow, and you have access to multiple machines (with or without GPUs), you can make your training run a bit faster by using the [inbuilt multi-worker](https://www.tensorflow.org/tutorials/distribute/multi_worker_with_keras) features which come with Keras and Tensorflow."
   ]
  },
  {
   "cell_type": "markdown",
   "id": "d375ebd2-9cb3-44d9-ab24-d269d8d1d0a0",
   "metadata": {},
   "source": [
    "## Caveats\n",
    "\n",
    "If you are just now starting with Tensorflow, you should know that it can be **extremely** finicky, and Tensorflow documentation really needs to be understood properly to work out problems along the way. Before you try any form of distributed workloads, ensure the following:\n",
    "\n",
    "- You have a stable Tensorflow/Keras environment which is of a recent enough version (2.15.x+)\n",
    "- You have multiple nodes in the same network with good connectivity\n",
    "- All nodes **should** have the same version of Tensorflow and Keras\n",
    "\n",
    "Even with the above considerations, you might find that some things might or might not work very well, for example, I couldn't get distributed model predictions to work in my environment (therefore, saving the model and reloading it when predicting).\n"
   ]
  },
  {
   "cell_type": "markdown",
   "id": "19f6e244-3231-403a-9422-42b7f8cf3851",
   "metadata": {},
   "source": [
    "## Setting up a distributed environment\n",
    "\n",
    "To illustrate multi-worker distribution, we are going to set up a two node environment. In this case running on a Mac Mini and a Macbook with Apple silicon.\n",
    "\n",
    "Here are my software versions:\n"
   ]
  },
  {
   "cell_type": "code",
   "execution_count": 1,
   "id": "db0ace50-afc2-4d2f-9aeb-c3727822ea9f",
   "metadata": {
    "editable": true,
    "slideshow": {
     "slide_type": ""
    },
    "tags": [
     "hide-input"
    ]
   },
   "outputs": [
    {
     "name": "stdout",
     "output_type": "stream",
     "text": [
      "Tensorflow version is 2.16.1\n",
      "Keras version is 3.0.5\n"
     ]
    }
   ],
   "source": [
    "import tensorflow as tf\n",
    "import keras as k\n",
    "\n",
    "print(\"Tensorflow version is \" + tf.__version__)\n",
    "print(\"Keras version is \" + k.__version__)"
   ]
  },
  {
   "cell_type": "markdown",
   "id": "5d71e4a5-2677-448b-8ba2-c6d2475a994c",
   "metadata": {
    "editable": true,
    "slideshow": {
     "slide_type": ""
    },
    "tags": []
   },
   "source": [
    "## Files\n",
    "\n",
    "For clarity, we will be setting up the environment in three separate files with different methods. This is for illustration only, and you can go about a different way."
   ]
  },
  {
   "cell_type": "markdown",
   "id": "5abd247a-320a-4e5d-82cc-1728a7d78ba6",
   "metadata": {},
   "source": [
    "## Setting up nodes\n",
    "\n",
    "Tensorflow uses the `TF_CONFIG` environment variable for configuration. In a multi-worker setup we need to define our cluster in this environment variable."
   ]
  },
  {
   "cell_type": "code",
   "execution_count": 2,
   "id": "2db2b431-02dd-4fec-8723-1b194d4b26c6",
   "metadata": {
    "editable": true,
    "slideshow": {
     "slide_type": ""
    },
    "tags": [
     "hide-input"
    ]
   },
   "outputs": [
    {
     "name": "stdout",
     "output_type": "stream",
     "text": [
      "Overwriting env_setup.py\n"
     ]
    }
   ],
   "source": [
    "%%writefile env_setup.py\n",
    "\n",
    "import json\n",
    "import os\n",
    "\n",
    "def set_env():\n",
    "    tf_config = {\n",
    "        'cluster': {\n",
    "            'worker': ['pedros-macbook-pro-3.local:9999'],\n",
    "            'chief': ['macmini.local:9999'],\n",
    "        },\n",
    "        'task': {'type': 'chief', 'index': 0}\n",
    "    }\n",
    "\n",
    "    # Serialize tf_config and export it as an environment variable\n",
    "    os.environ['TF_CONFIG'] = json.dumps(tf_config)\n",
    "    # Disable INFO and WARNING logs\n",
    "    os.environ['TF_CPP_MIN_LOG_LEVEL'] = '2'"
   ]
  },
  {
   "cell_type": "markdown",
   "id": "237bc4df-aa09-4719-a99e-650edd6634cb",
   "metadata": {
    "editable": true,
    "slideshow": {
     "slide_type": ""
    },
    "tags": []
   },
   "source": [
    "We are defining a cluster of two machines - `macmini.local` and `pedros-macbook-pro-3.local`, one setup as a Tensorflow worker, and the other as the chief (note that the chief also performs training tasks). The above file will need to be changed on each machine, so that `index` points at the right role (chief in `macmini.local` and worker for `pedros-macbook-pro-3.local`). You can add additional nodes if that is the case in your environment.\n",
    "\n",
    "In addition we are also disabling `INFO` and `WARNING` messages, as in my particular case they can get a bit noisy. For `pedros-macbook-pro-3.local`, the same file would be as follows."
   ]
  },
  {
   "cell_type": "code",
   "execution_count": 3,
   "id": "de7bf119-4d01-49cb-abbf-7aac5ddcff8e",
   "metadata": {
    "editable": true,
    "slideshow": {
     "slide_type": ""
    },
    "tags": [
     "hide-input"
    ]
   },
   "outputs": [],
   "source": [
    "import json\n",
    "import os\n",
    "\n",
    "def set_env():\n",
    "    tf_config = {\n",
    "        'cluster': {\n",
    "            'worker': ['pedros-macbook-pro-3.local:9999'],\n",
    "            'chief': ['macmini.local:9999'],\n",
    "        },\n",
    "        'task': {'type': 'worker', 'index': 0}\n",
    "    }\n",
    "\n",
    "    # Serialize tf_config and export it as an environment variable\n",
    "    os.environ['TF_CONFIG'] = json.dumps(tf_config)\n",
    "    # Disable INFO and WARNING logs\n",
    "    os.environ['TF_CPP_MIN_LOG_LEVEL'] = '2'"
   ]
  },
  {
   "cell_type": "markdown",
   "id": "fd4da2db-28c6-4f73-85e6-d99a9d618137",
   "metadata": {},
   "source": [
    "## Setting up the model\n",
    "\n",
    "For illustration, we will be setting up a very simple linear regression model with a single `Dense` layer. Our dataset is just a set of X,Y points."
   ]
  },
  {
   "cell_type": "code",
   "execution_count": 4,
   "id": "2e800966-6d91-47be-8cd1-e96c930f43e7",
   "metadata": {
    "editable": true,
    "slideshow": {
     "slide_type": ""
    },
    "tags": [
     "hide-input"
    ]
   },
   "outputs": [
    {
     "name": "stdout",
     "output_type": "stream",
     "text": [
      "Overwriting model_setup.py\n"
     ]
    }
   ],
   "source": [
    "%%writefile model_setup.py\n",
    "\n",
    "import os\n",
    "import numpy as np\n",
    "\n",
    "from tensorflow.keras.models import Model\n",
    "from tensorflow.keras.layers import Input, Dense\n",
    "from tensorflow.keras.optimizers import Adam\n",
    "from tensorflow.data import Dataset\n",
    "\n",
    "def build_dataset(strategy, global_batch_size):\n",
    "  # Generate a dataset\n",
    "  np.random.seed(42)  # For reproducibility\n",
    "  x = np.linspace(-1, 1, 1000)  # 1000 linearly spaced numbers\n",
    "  y = 2 * x + 1 + np.random.normal(scale=0.1, size=x.shape)  # Linear equation with noise\n",
    "\n",
    "  # Create a TensorFlow dataset\n",
    "  dataset = Dataset.from_tensor_slices((x[:, None], y))\n",
    "  # Shuffle, batch, and repeat\n",
    "  dataset = dataset.shuffle(buffer_size=1000).batch(global_batch_size).repeat()\n",
    "    \n",
    "  return dataset\n",
    "\n",
    "def plot_dataset_and_predictions(dataset, pred_x, pred_y):\n",
    "  import matplotlib.pyplot as plt\n",
    "  for x, y in dataset.take(1):\n",
    "    plt.scatter(x, y, label='Data')\n",
    "  plt.scatter(pred_x, pred_y, label='Predictions')\n",
    "  plt.legend()\n",
    "  plt.show()\n",
    "\n",
    "def build_model():\n",
    "  input_layer = Input(shape=(1,))\n",
    "  output_layer = Dense(units=1)(input_layer)\n",
    "  model = Model(inputs=input_layer, outputs=output_layer)\n",
    "\n",
    "  model.compile(optimizer=Adam(learning_rate=0.1),\n",
    "                loss='mean_squared_error',\n",
    "                metrics=['mae'])\n",
    "  return model\n",
    "\n",
    "# Predict n random values from -1 to 1 using the trained model and return the predictions\n",
    "def predict(model, n):\n",
    "  x = np.random.uniform(-1, 1, n)\n",
    "  y = model.predict(x)\n",
    "  return x, y"
   ]
  },
  {
   "cell_type": "markdown",
   "id": "55739fb7-37da-46b9-bad7-a70b5887aadf",
   "metadata": {},
   "source": [
    "An important consideration is that your mileage may very, depending on the complexity of the workload you want to distribute, as well on specific hardware you might have. For example, in my case multi-worked distribution across Apple Silicon chips doesn't work when running on GPUs (I think this is an issue with Apple's [Tensorflow-Metal](https://developer.apple.com/metal/tensorflow-plugin/)). Worst case scenario you might need to disable GPU computation and stick to CPU only."
   ]
  },
  {
   "cell_type": "markdown",
   "id": "4014e9d9-214e-4eaa-ad13-e2ad4a4a1d61",
   "metadata": {},
   "source": [
    "## The worker process\n",
    "\n",
    "We are now ready to create a process to run and distribute the workload. You will notice we are disabling GPU devices (because of the above) with `set_visible_devices`. The worker needs to be started on all the nodes involved, in my case `mini.local` and `pedros-macbook-pro-3.local`. The first node to start becomes the \"chief\" node which will distribute the workload amongst workers - in Tensorflow the \"chief\" node is also a worker."
   ]
  },
  {
   "cell_type": "code",
   "execution_count": 5,
   "id": "755dad77-ef7c-441d-8796-bd5e7ad0f849",
   "metadata": {
    "editable": true,
    "slideshow": {
     "slide_type": ""
    },
    "tags": [
     "hide-input"
    ]
   },
   "outputs": [
    {
     "name": "stdout",
     "output_type": "stream",
     "text": [
      "Overwriting worker.py\n"
     ]
    }
   ],
   "source": [
    "%%writefile worker.py\n",
    "\n",
    "import os\n",
    "import json\n",
    "\n",
    "import numpy as np\n",
    "import tensorflow as tf\n",
    "from tensorflow.config import set_visible_devices\n",
    "import model_setup\n",
    "import env_setup\n",
    "\n",
    "def worker_setup():\n",
    "    # Setup for distributed training\n",
    "    env_setup.set_env()\n",
    "    # Hide GPU from visible devices\n",
    "    set_visible_devices([], 'GPU')\n",
    "\n",
    "def run_worker():\n",
    "    # Set up a MultiWorkerMirroredStrategy\n",
    "    strategy = tf.distribute.MultiWorkerMirroredStrategy()\n",
    "\n",
    "    # Assume global batch size and calculate per-replica batch size\n",
    "    GLOBAL_BATCH_SIZE = 50\n",
    "    # Build dataset with the specified global batch size\n",
    "    dataset = model_setup.build_dataset(strategy, GLOBAL_BATCH_SIZE)\n",
    "    # Calculate steps per epoch based on your actual dataset size\n",
    "    # Here, 1000 is the number of samples in the dataset\n",
    "    STEPS_PER_EPOCH = 1000 // GLOBAL_BATCH_SIZE\n",
    "\n",
    "    with strategy.scope():\n",
    "        # Model building/compiling need to be within `strategy.scope()`.\n",
    "        multi_worker_model = model_setup.build_model()\n",
    "\n",
    "    multi_worker_model.fit(dataset, epochs=10, steps_per_epoch=STEPS_PER_EPOCH)\n",
    "    print(\"Exiting worker...\")\n",
    "\n",
    "    return multi_worker_model, dataset"
   ]
  },
  {
   "cell_type": "code",
   "execution_count": 6,
   "id": "bcaf43e7-5f13-4ac9-8fd6-12b9fcce5b1c",
   "metadata": {
    "editable": true,
    "slideshow": {
     "slide_type": ""
    },
    "tags": [
     "hide-input"
    ]
   },
   "outputs": [
    {
     "name": "stdout",
     "output_type": "stream",
     "text": [
      "Overwriting runner.py\n"
     ]
    }
   ],
   "source": [
    "%%writefile runner.py\n",
    "\n",
    "import tensorflow as tf\n",
    "from worker import worker_setup, run_worker\n",
    "\n",
    "worker_setup()\n",
    "trained_model, dataset = run_worker()\n",
    "print(\"Worker finished...\")\n",
    "trained_model.save(\"trained_model.keras\")\n",
    "tf.data.Dataset.save(dataset, \"dataset.keras\")"
   ]
  },
  {
   "cell_type": "code",
   "execution_count": 7,
   "id": "300e9028-7c0e-40af-aa98-9ffaaaa77cd2",
   "metadata": {
    "editable": true,
    "slideshow": {
     "slide_type": ""
    },
    "tags": [
     "hide-input"
    ]
   },
   "outputs": [
    {
     "name": "stdout",
     "output_type": "stream",
     "text": [
      "Overwriting predict.py\n"
     ]
    }
   ],
   "source": [
    "%%writefile predict.py\n",
    "\n",
    "import tensorflow as tf\n",
    "from model_setup import predict, plot_dataset_and_predictions\n",
    "\n",
    "saved_model = tf.keras.models.load_model(\"trained_model.keras\")\n",
    "saved_dataset = tf.data.Dataset.load(\"dataset.keras\", element_spec=None)\n",
    "pred_x, pred_y = predict(saved_model, 100)\n",
    "plot_dataset_and_predictions(saved_dataset, pred_x, pred_y)"
   ]
  },
  {
   "cell_type": "markdown",
   "id": "f453b8be-8f31-4c60-ad77-0447487de831",
   "metadata": {},
   "source": [
    "## Distribution strategies\n",
    "\n",
    "Tensorflow supports [multiple strategies](https://www.tensorflow.org/guide/distributed_training) to distribute the workload. In our case we are using `MultiWorkerMirroredStrategy`, which distributes variables for training across multiple nodes, with or without GPUs. If you wanted to distribute your training in a single node with multiple GPUs, you would use `MirroredStrategy` instead."
   ]
  },
  {
   "cell_type": "markdown",
   "id": "8aad1962-c0f2-4c33-9f87-bd30ea47bf8d",
   "metadata": {},
   "source": [
    "## Running the workers\n",
    "\n",
    "You would now start `runner.py` in each of your machines to run the distributed model, paying attention to any messages you might get. It is possible you will need to trial an error until you get everything just right."
   ]
  },
  {
   "cell_type": "code",
   "execution_count": null,
   "id": "6e883dc4-9055-497c-bdd1-7054d7d77886",
   "metadata": {
    "editable": true,
    "slideshow": {
     "slide_type": ""
    },
    "tags": [
     "hide-input"
    ]
   },
   "outputs": [
    {
     "name": "stdout",
     "output_type": "stream",
     "text": [
      "INFO:tensorflow:Enabled multi-worker collective ops with available devices: ['/job:chief/replica:0/task:0/device:CPU:0', '/job:worker/replica:0/task:0/device:CPU:0']\n",
      "INFO:tensorflow:Using MirroredStrategy with devices ('/job:chief/task:0/device:CPU:0',)\n",
      "INFO:tensorflow:Check health not enabled.\n",
      "INFO:tensorflow:MultiWorkerMirroredStrategy with cluster_spec = {'worker': ['pedros-macbook-pro-3.local:9999'], 'chief': ['macmini.local:9999']}, task_type = 'chief', task_id = 0, num_workers = 2, local_devices = ('/job:chief/task:0/device:CPU:0',), communication = CommunicationImplementation.AUTO\n"
     ]
    },
    {
     "name": "stderr",
     "output_type": "stream",
     "text": [
      "WARNING: All log messages before absl::InitializeLog() is called are written to STDERR\n",
      "I0000 00:00:1710684877.465218 3612918 coordination_service_agent.cc:303] Coordination agent has successfully connected.\n"
     ]
    },
    {
     "name": "stdout",
     "output_type": "stream",
     "text": [
      "Epoch 1/10\n",
      "INFO:tensorflow:Collective all_reduce tensors: 1 all_reduces, num_devices = 1, group_size = 2, implementation = CommunicationImplementation.AUTO, num_packs = 1\n",
      "INFO:tensorflow:Collective all_reduce tensors: 1 all_reduces, num_devices = 1, group_size = 2, implementation = CommunicationImplementation.AUTO, num_packs = 1\n",
      "\u001b[1m20/20\u001b[0m \u001b[32m━━━━━━━━━━━━━━━━━━━━\u001b[0m\u001b[37m\u001b[0m \u001b[1m1s\u001b[0m 46ms/step - loss: 1.5073 - mae: 1.2994\n",
      "Epoch 2/10\n",
      "\u001b[1m20/20\u001b[0m \u001b[32m━━━━━━━━━━━━━━━━━━━━\u001b[0m\u001b[37m\u001b[0m \u001b[1m1s\u001b[0m 40ms/step - loss: 0.1458 - mae: 0.4487\n",
      "Epoch 3/10\n",
      "\u001b[1m20/20\u001b[0m \u001b[32m━━━━━━━━━━━━━━━━━━━━\u001b[0m\u001b[37m\u001b[0m \u001b[1m1s\u001b[0m 40ms/step - loss: 0.0306 - mae: 0.1988\n",
      "Epoch 4/10\n",
      "\u001b[1m20/20\u001b[0m \u001b[32m━━━━━━━━━━━━━━━━━━━━\u001b[0m\u001b[37m\u001b[0m \u001b[1m1s\u001b[0m 47ms/step - loss: 0.0200 - mae: 0.1575\n",
      "Epoch 5/10\n",
      "\u001b[1m20/20\u001b[0m \u001b[32m━━━━━━━━━━━━━━━━━━━━\u001b[0m\u001b[37m\u001b[0m \u001b[1m1s\u001b[0m 39ms/step - loss: 0.0191 - mae: 0.1523\n",
      "Epoch 6/10\n",
      "\u001b[1m20/20\u001b[0m \u001b[32m━━━━━━━━━━━━━━━━━━━━\u001b[0m\u001b[37m\u001b[0m \u001b[1m1s\u001b[0m 38ms/step - loss: 0.0201 - mae: 0.1594\n",
      "Epoch 7/10\n",
      "\u001b[1m20/20\u001b[0m \u001b[32m━━━━━━━━━━━━━━━━━━━━\u001b[0m\u001b[37m\u001b[0m \u001b[1m1s\u001b[0m 46ms/step - loss: 0.0203 - mae: 0.1598\n",
      "Epoch 8/10\n",
      "\u001b[1m20/20\u001b[0m \u001b[32m━━━━━━━━━━━━━━━━━━━━\u001b[0m\u001b[37m\u001b[0m \u001b[1m1s\u001b[0m 38ms/step - loss: 0.0185 - mae: 0.1512\n",
      "Epoch 9/10\n",
      "\u001b[1m20/20\u001b[0m \u001b[32m━━━━━━━━━━━━━━━━━━━━\u001b[0m\u001b[37m\u001b[0m \u001b[1m1s\u001b[0m 46ms/step - loss: 0.0181 - mae: 0.1511\n",
      "Epoch 10/10\n",
      "\u001b[1m20/20\u001b[0m \u001b[32m━━━━━━━━━━━━━━━━━━━━\u001b[0m\u001b[37m\u001b[0m \u001b[1m1s\u001b[0m 45ms/step - loss: 0.0195 - mae: 0.1559\n"
     ]
    }
   ],
   "source": [
    "%run runner.py"
   ]
  },
  {
   "cell_type": "markdown",
   "id": "799e45cc-aeb8-401d-8795-7cca6a2d7629",
   "metadata": {
    "editable": true,
    "slideshow": {
     "slide_type": ""
    },
    "tags": []
   },
   "source": [
    "If all went well, you will have seen the model being trained across your multiple devices. We can visualise our dataset to illustrate what the model solved for."
   ]
  },
  {
   "cell_type": "code",
   "execution_count": 1,
   "id": "1189ca0a-aad7-4bb9-b517-bee56d14e437",
   "metadata": {
    "editable": true,
    "slideshow": {
     "slide_type": ""
    },
    "tags": [
     "hide-input"
    ]
   },
   "outputs": [
    {
     "name": "stdout",
     "output_type": "stream",
     "text": [
      "\u001b[1m4/4\u001b[0m \u001b[32m━━━━━━━━━━━━━━━━━━━━\u001b[0m\u001b[37m\u001b[0m \u001b[1m0s\u001b[0m 4ms/step \n"
     ]
    },
    {
     "name": "stderr",
     "output_type": "stream",
     "text": [
      "2024-03-17 14:19:56.862745: I metal_plugin/src/device/metal_device.cc:1154] Metal device set to: Apple M2\n",
      "2024-03-17 14:19:56.862767: I metal_plugin/src/device/metal_device.cc:296] systemMemory: 24.00 GB\n",
      "2024-03-17 14:19:56.862771: I metal_plugin/src/device/metal_device.cc:313] maxCacheSize: 8.00 GB\n",
      "2024-03-17 14:19:56.862970: I tensorflow/core/common_runtime/pluggable_device/pluggable_device_factory.cc:305] Could not identify NUMA node of platform GPU ID 0, defaulting to 0. Your kernel may not have been built with NUMA support.\n",
      "2024-03-17 14:19:56.862980: I tensorflow/core/common_runtime/pluggable_device/pluggable_device_factory.cc:271] Created TensorFlow device (/job:localhost/replica:0/task:0/device:GPU:0 with 0 MB memory) -> physical PluggableDevice (device: 0, name: METAL, pci bus id: <undefined>)\n",
      "2024-03-17 14:19:56.971956: I tensorflow/core/grappler/optimizers/custom_graph_optimizer_registry.cc:117] Plugin optimizer for device_type GPU is enabled.\n",
      "2024-03-17 14:19:57.281807: W tensorflow/core/framework/local_rendezvous.cc:404] Local rendezvous is aborting with status: OUT_OF_RANGE: End of sequence\n"
     ]
    },
    {
     "data": {
      "image/png": "[encoded data removed]",
      "text/plain": [
       "<Figure size 640x480 with 1 Axes>"
      ]
     },
     "metadata": {},
     "output_type": "display_data"
    }
   ],
   "source": [
    "%run predict.py"
   ]
  }
 ],
 "metadata": {
  "kernelspec": {
   "display_name": "Python 3 (ipykernel)",
   "language": "python",
   "name": "python3"
  },
  "language_info": {
   "codemirror_mode": {
    "name": "ipython",
    "version": 3
   },
   "file_extension": ".py",
   "mimetype": "text/x-python",
   "name": "python",
   "nbconvert_exporter": "python",
   "pygments_lexer": "ipython3",
   "version": "3.9.18"
  },
  "nikola": {
   "author": "Pedro Leitao",
   "category": "Machine Learning",
   "date": "2024-03-15 13:50:00",
   "description": "",
   "link": "",
   "slug": "tensorflow-keras-distributed-training",
   "tags": "howtos, machine-learning, tensorflow, keras",
   "title": "Distributed training on Tensorflow & Keras",
   "type": "text"
  }
 },
 "nbformat": 4,
 "nbformat_minor": 5
}
