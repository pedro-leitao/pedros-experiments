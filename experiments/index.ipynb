{
 "cells": [
  {
   "cell_type": "markdown",
   "metadata": {},
   "source": [
    "# Experiments\n",
    "\n",
    "Experiments on various topics, mainly machine learning exploration and software. No specific order, just a collection of topics that I needed specific refreshers on or wanted to explore further.\n",
    "\n",
    "To run a lot of the code in these experiments, it is useful to know the development environment they were created in and the dependencies involved. Here is a list of the main tools and libraries used in my environment:\n"
   ]
  },
  {
   "cell_type": "code",
   "execution_count": 10,
   "metadata": {},
   "outputs": [
    {
     "name": "stdout",
     "output_type": "stream",
     "text": [
      "Operating System: Darwin\n",
      "OS Version: Darwin Kernel Version 23.4.0: Fri Mar 15 00:19:22 PDT 2024; root:xnu-10063.101.17~1/RELEASE_ARM64_T8112\n",
      "Machine: arm64\n",
      "Processor: arm\n",
      "Python Version: 3.9.18 (main, Mar  8 2024, 18:13:35) \n",
      "[Clang 15.0.0 (clang-1500.3.9.4)]\n",
      "Installed Machine Learning and Data Science packages:\n",
      "gensim==4.3.2\n",
      "ipython==8.18.1\n",
      "jupyter-book==1.0.0\n",
      "jupyterlab==4.1.4\n",
      "kaggle==1.6.12\n",
      "keras==3.0.5\n",
      "matplotlib==3.8.3\n",
      "nltk==3.8.1\n",
      "numpy==1.26.4\n",
      "pandas==2.2.1\n",
      "plotly==5.20.0\n",
      "scikit-learn==1.4.1.post1\n",
      "scipy==1.12.0\n",
      "seaborn==0.13.2\n",
      "tensorflow-metal==1.1.0\n",
      "tensorflow==2.16.1\n",
      "xgboost==2.0.3\n"
     ]
    }
   ],
   "source": [
    "import platform\n",
    "import sys\n",
    "import pkg_resources\n",
    "\n",
    "def get_system_info():\n",
    "    print(\"Operating System:\", platform.system())\n",
    "    print(\"OS Version:\", platform.version())\n",
    "    print(\"Machine:\", platform.machine())\n",
    "    print(\"Processor:\", platform.processor())\n",
    "\n",
    "def get_python_version():\n",
    "    print(\"Python Version:\", sys.version)\n",
    "\n",
    "def get_pip_packages():\n",
    "    # List of common machine learning and data science packages\n",
    "    ml_ds_packages = [\n",
    "        'numpy', 'scipy', 'pandas', 'matplotlib', 'seaborn', \n",
    "        'sklearn', 'scikit-learn', 'tensorflow', 'keras', 'pytorch', \n",
    "        'torch', 'xgboost', 'lightgbm', 'catboost', 'statsmodels', \n",
    "        'nltk', 'spacy', 'gensim', 'theano', 'plotly', 'dash', \n",
    "        'flask', 'streamlit', 'jupyter', 'ipython', 'sympy', 'tensorflow-metal',\n",
    "        'kaggle', 'jupyterlab', 'jupyter-book'\n",
    "    ]\n",
    "    \n",
    "    installed_packages = pkg_resources.working_set\n",
    "    installed_packages_list = sorted([\"%s==%s\" % (i.key, i.version) for i in installed_packages if i.key in ml_ds_packages])\n",
    "    print(\"Installed Machine Learning and Data Science packages:\")\n",
    "    for package in installed_packages_list:\n",
    "        print(package)\n",
    "\n",
    "get_system_info()\n",
    "get_python_version()\n",
    "get_pip_packages()"
   ]
  },
  {
   "cell_type": "markdown",
   "metadata": {},
   "source": [
    "\n",
    "## Table of contents\n",
    "\n",
    "```{tableofcontents}\n",
    "```"
   ]
  }
 ],
 "metadata": {
  "language_info": {
   "name": "python"
  }
 },
 "nbformat": 4,
 "nbformat_minor": 2
}
