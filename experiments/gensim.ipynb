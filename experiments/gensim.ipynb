{
 "cells": [
  {
   "cell_type": "markdown",
   "metadata": {},
   "source": [
    "# Basics of word vectors"
   ]
  },
  {
   "cell_type": "markdown",
   "metadata": {},
   "source": [
    "Word vectors are a mainstay of NLP, and are used in a variety of tasks, from sentiment analysis to machine translation. In this experiment, we will explore the very basics of word vectors, and how they can be used to represent words in a way that captures their meaning. Word vector models represent words as vectors in a high-dimensional space, where the distance between vectors captures the similarity and relationships between words within a given context of a corpus.\n",
    "\n",
    "For the purposes of simplicity, we will use the `gensim` library and a ready made word vector model. The model we will use is the `glove-wiki-gigaword-50` model, which is a 50-dimensional word vector model trained on the Wikipedia corpus.\n",
    "\n",
    "Let's start by loading the model."
   ]
  },
  {
   "cell_type": "code",
   "execution_count": 9,
   "metadata": {},
   "outputs": [
    {
     "name": "stdout",
     "output_type": "stream",
     "text": [
      "KeyedVectors<vector_size=50, 400000 keys>\n"
     ]
    }
   ],
   "source": [
    "import gensim.downloader as api\n",
    "from sklearn.decomposition import PCA\n",
    "import numpy as np\n",
    "import matplotlib.pyplot as plt\n",
    "\n",
    "# Load the model\n",
    "model = api.load(\"glove-wiki-gigaword-50\")\n",
    "print(model)"
   ]
  },
  {
   "cell_type": "markdown",
   "metadata": {},
   "source": [
    "## Using word vectors for question answering\n",
    "\n",
    "We will use this model to explore the relationships between words. Let us start with a simple problem - \"Brasil is to Portugal, what _X_ is to Spain\". We will use word vectors to estimate possible candidates to _X_."
   ]
  },
  {
   "cell_type": "code",
   "execution_count": 10,
   "metadata": {},
   "outputs": [
    {
     "name": "stdout",
     "output_type": "stream",
     "text": [
      "[('mexico', 0.8388405442237854)]\n",
      "Number of vector dimensions:  50\n"
     ]
    }
   ],
   "source": [
    "# Calculate the \"br - pt + es\" vector and find the closest word\n",
    "result = model.most_similar(positive=['brazil', 'spain'], negative=['portugal'], topn=1)\n",
    "print(result)\n",
    "result_word = result[0][0]\n",
    "# Print the shape of the result vector\n",
    "dimensions = model[result[0][0]].shape[0]\n",
    "print(\"Number of vector dimensions: \", dimensions)"
   ]
  },
  {
   "cell_type": "markdown",
   "metadata": {},
   "source": [
    "Great! We now have a candidate word for _X_ and a probability score, also notice how the resulting word vector returned by the model has 50 dimensions."
   ]
  },
  {
   "cell_type": "code",
   "execution_count": 11,
   "metadata": {},
   "outputs": [
    {
     "name": "stdout",
     "output_type": "stream",
     "text": [
      "[ 4.1189e-01 -9.3082e-02 -1.8871e-01  1.0692e+00 -5.3433e-01 -9.9734e-01\n",
      " -5.5511e-01  3.2821e-01  1.3527e-01  5.6191e-01  4.1530e-01 -7.6649e-01\n",
      "  6.4603e-01 -1.8546e-01  7.8123e-01 -8.9799e-01 -4.9891e-01 -2.2080e-01\n",
      " -1.3527e-01  1.8387e-01 -7.1566e-01 -7.6888e-01 -8.0441e-02  4.9022e-04\n",
      " -5.2532e-01 -1.8385e+00  1.7512e-01  3.3196e-01  2.4221e-01 -5.6305e-01\n",
      "  2.6126e+00 -2.3889e-03 -5.4640e-01 -7.3415e-01 -4.6359e-01 -7.5214e-01\n",
      " -1.2924e+00  2.6360e-01  2.8462e-01  2.6416e-02 -1.0242e+00  5.7252e-01\n",
      "  1.4757e+00 -1.2457e+00 -6.2902e-01  4.0549e-01 -4.1026e-01 -6.0271e-01\n",
      "  1.3786e-01 -7.9502e-02]\n"
     ]
    }
   ],
   "source": [
    "print(model[result[0][0]])"
   ]
  },
  {
   "cell_type": "markdown",
   "metadata": {},
   "source": [
    "These numbers encode a lot of meaning regarding the word 'mexico', and in general, the more dimensions present in a given word vector model the more semantic information can be represented by the model!\n",
    "\n",
    "## Visualising word vectors\n",
    "\n",
    "Now let us attempt to visualise the relationships between these vector representations - we will perform a comparison between an actual vector operation, and the estimate returned by `gensim` using the `most_similar` operation. We first need to get vector representations for all the words (\"portugal\", \"brazil\", \"spain\" and \"mexico\") so we can plot their proximity."
   ]
  },
  {
   "cell_type": "code",
   "execution_count": 12,
   "metadata": {},
   "outputs": [],
   "source": [
    "# Calculate the \"brazil + spain - portugal\" vector\n",
    "true_vector = model['brazil'] + model['spain'] - model['portugal']\n",
    "\n",
    "words = ['portugal', 'spain', 'brazil', result_word]\n",
    "\n",
    "# Get vectors for each word\n",
    "vectors = np.array([model[w] for w in words])\n",
    "vectors = np.vstack([vectors, true_vector])  # Add the true vector to the list of vectors\n",
    "words += ['brazil + spain - portugal']  # Add the label for the true vector"
   ]
  },
  {
   "cell_type": "markdown",
   "metadata": {},
   "source": [
    "Now, how do we visualize 50 dimensions? We'll need to reduce the dimensionality of our vector space to something manageable! \n",
    "\n",
    "<div class=\"alert alert-block alert-info\">\n",
    "<b>Note: </b>\n",
    "In this case, we will use Principal Component Analysis (PCA), a statistical procedure that utilizes orthogonal transformation to convert a set of observations of possibly correlated variables into a set of values of linearly uncorrelated variables called principal components. A better approach would be using t-SNE, but given we have a tiny number of samples, it makes little or no difference.\n",
    "</div>"
   ]
  },
  {
   "cell_type": "code",
   "execution_count": 13,
   "metadata": {},
   "outputs": [
    {
     "data": {
      "application/vnd.plotly.v1+json": {
       "config": {
        "plotlyServerURL": "https://plot.ly"
       },
       "data": [
        {
         "marker": {
          "color": [
           "rgba(0.12156862745098039,0.4666666666666667,0.7058823529411765,1.0)",
           "rgba(0.17254901960784313,0.6274509803921569,0.17254901960784313,1.0)",
           "rgba(0.5490196078431373,0.33725490196078434,0.29411764705882354,1.0)",
           "rgba(0.4980392156862745,0.4980392156862745,0.4980392156862745,1.0)",
           "rgba(0.09019607843137255,0.7450980392156863,0.8117647058823529,1.0)"
          ]
         },
         "mode": "markers+text",
         "text": [
          "portugal",
          "spain",
          "brazil",
          "mexico",
          "brazil + spain - portugal"
         ],
         "textposition": "top center",
         "type": "scatter3d",
         "x": [
          2.1680352687835693,
          0.8654322624206543,
          0.1677081137895584,
          -2.066279649734497,
          -1.1348955631256104
         ],
         "y": [
          -0.859009861946106,
          1.0969606637954712,
          -0.4424167275428772,
          -1.3090872764587402,
          1.5135533809661865
         ],
         "z": [
          -0.13094061613082886,
          -1.1219762563705444,
          1.5059175491333008,
          -0.7678830623626709,
          0.5148821473121643
         ]
        },
        {
         "line": {
          "color": "rgba(0.12156862745098039,0.4666666666666667,0.7058823529411765,1.0)",
          "dash": "solid"
         },
         "mode": "lines",
         "type": "scatter3d",
         "x": [
          0,
          2.1680352687835693
         ],
         "y": [
          0,
          -0.859009861946106
         ],
         "z": [
          0,
          -0.13094061613082886
         ]
        },
        {
         "line": {
          "color": "rgba(0.17254901960784313,0.6274509803921569,0.17254901960784313,1.0)",
          "dash": "solid"
         },
         "mode": "lines",
         "type": "scatter3d",
         "x": [
          0,
          0.8654322624206543
         ],
         "y": [
          0,
          1.0969606637954712
         ],
         "z": [
          0,
          -1.1219762563705444
         ]
        },
        {
         "line": {
          "color": "rgba(0.5490196078431373,0.33725490196078434,0.29411764705882354,1.0)",
          "dash": "solid"
         },
         "mode": "lines",
         "type": "scatter3d",
         "x": [
          0,
          0.1677081137895584
         ],
         "y": [
          0,
          -0.4424167275428772
         ],
         "z": [
          0,
          1.5059175491333008
         ]
        },
        {
         "line": {
          "color": "rgba(0.4980392156862745,0.4980392156862745,0.4980392156862745,1.0)",
          "dash": "dash"
         },
         "mode": "lines",
         "type": "scatter3d",
         "x": [
          0,
          -2.066279649734497
         ],
         "y": [
          0,
          -1.3090872764587402
         ],
         "z": [
          0,
          -0.7678830623626709
         ]
        },
        {
         "line": {
          "color": "rgba(0.09019607843137255,0.7450980392156863,0.8117647058823529,1.0)",
          "dash": "solid"
         },
         "mode": "lines",
         "type": "scatter3d",
         "x": [
          0,
          -1.1348955631256104
         ],
         "y": [
          0,
          1.5135533809661865
         ],
         "z": [
          0,
          0.5148821473121643
         ]
        }
       ],
       "layout": {
        "height": 600,
        "legend": {
         "title": {
          "text": "Words"
         }
        },
        "scene": {
         "xaxis": {
          "title": {
           "text": "X Axis"
          }
         },
         "yaxis": {
          "title": {
           "text": "Y Axis"
          }
         },
         "zaxis": {
          "title": {
           "text": "Z Axis"
          }
         }
        },
        "template": {
         "data": {
          "bar": [
           {
            "error_x": {
             "color": "#2a3f5f"
            },
            "error_y": {
             "color": "#2a3f5f"
            },
            "marker": {
             "line": {
              "color": "#E5ECF6",
              "width": 0.5
             },
             "pattern": {
              "fillmode": "overlay",
              "size": 10,
              "solidity": 0.2
             }
            },
            "type": "bar"
           }
          ],
          "barpolar": [
           {
            "marker": {
             "line": {
              "color": "#E5ECF6",
              "width": 0.5
             },
             "pattern": {
              "fillmode": "overlay",
              "size": 10,
              "solidity": 0.2
             }
            },
            "type": "barpolar"
           }
          ],
          "carpet": [
           {
            "aaxis": {
             "endlinecolor": "#2a3f5f",
             "gridcolor": "white",
             "linecolor": "white",
             "minorgridcolor": "white",
             "startlinecolor": "#2a3f5f"
            },
            "baxis": {
             "endlinecolor": "#2a3f5f",
             "gridcolor": "white",
             "linecolor": "white",
             "minorgridcolor": "white",
             "startlinecolor": "#2a3f5f"
            },
            "type": "carpet"
           }
          ],
          "choropleth": [
           {
            "colorbar": {
             "outlinewidth": 0,
             "ticks": ""
            },
            "type": "choropleth"
           }
          ],
          "contour": [
           {
            "colorbar": {
             "outlinewidth": 0,
             "ticks": ""
            },
            "colorscale": [
             [
              0,
              "#0d0887"
             ],
             [
              0.1111111111111111,
              "#46039f"
             ],
             [
              0.2222222222222222,
              "#7201a8"
             ],
             [
              0.3333333333333333,
              "#9c179e"
             ],
             [
              0.4444444444444444,
              "#bd3786"
             ],
             [
              0.5555555555555556,
              "#d8576b"
             ],
             [
              0.6666666666666666,
              "#ed7953"
             ],
             [
              0.7777777777777778,
              "#fb9f3a"
             ],
             [
              0.8888888888888888,
              "#fdca26"
             ],
             [
              1,
              "#f0f921"
             ]
            ],
            "type": "contour"
           }
          ],
          "contourcarpet": [
           {
            "colorbar": {
             "outlinewidth": 0,
             "ticks": ""
            },
            "type": "contourcarpet"
           }
          ],
          "heatmap": [
           {
            "colorbar": {
             "outlinewidth": 0,
             "ticks": ""
            },
            "colorscale": [
             [
              0,
              "#0d0887"
             ],
             [
              0.1111111111111111,
              "#46039f"
             ],
             [
              0.2222222222222222,
              "#7201a8"
             ],
             [
              0.3333333333333333,
              "#9c179e"
             ],
             [
              0.4444444444444444,
              "#bd3786"
             ],
             [
              0.5555555555555556,
              "#d8576b"
             ],
             [
              0.6666666666666666,
              "#ed7953"
             ],
             [
              0.7777777777777778,
              "#fb9f3a"
             ],
             [
              0.8888888888888888,
              "#fdca26"
             ],
             [
              1,
              "#f0f921"
             ]
            ],
            "type": "heatmap"
           }
          ],
          "heatmapgl": [
           {
            "colorbar": {
             "outlinewidth": 0,
             "ticks": ""
            },
            "colorscale": [
             [
              0,
              "#0d0887"
             ],
             [
              0.1111111111111111,
              "#46039f"
             ],
             [
              0.2222222222222222,
              "#7201a8"
             ],
             [
              0.3333333333333333,
              "#9c179e"
             ],
             [
              0.4444444444444444,
              "#bd3786"
             ],
             [
              0.5555555555555556,
              "#d8576b"
             ],
             [
              0.6666666666666666,
              "#ed7953"
             ],
             [
              0.7777777777777778,
              "#fb9f3a"
             ],
             [
              0.8888888888888888,
              "#fdca26"
             ],
             [
              1,
              "#f0f921"
             ]
            ],
            "type": "heatmapgl"
           }
          ],
          "histogram": [
           {
            "marker": {
             "pattern": {
              "fillmode": "overlay",
              "size": 10,
              "solidity": 0.2
             }
            },
            "type": "histogram"
           }
          ],
          "histogram2d": [
           {
            "colorbar": {
             "outlinewidth": 0,
             "ticks": ""
            },
            "colorscale": [
             [
              0,
              "#0d0887"
             ],
             [
              0.1111111111111111,
              "#46039f"
             ],
             [
              0.2222222222222222,
              "#7201a8"
             ],
             [
              0.3333333333333333,
              "#9c179e"
             ],
             [
              0.4444444444444444,
              "#bd3786"
             ],
             [
              0.5555555555555556,
              "#d8576b"
             ],
             [
              0.6666666666666666,
              "#ed7953"
             ],
             [
              0.7777777777777778,
              "#fb9f3a"
             ],
             [
              0.8888888888888888,
              "#fdca26"
             ],
             [
              1,
              "#f0f921"
             ]
            ],
            "type": "histogram2d"
           }
          ],
          "histogram2dcontour": [
           {
            "colorbar": {
             "outlinewidth": 0,
             "ticks": ""
            },
            "colorscale": [
             [
              0,
              "#0d0887"
             ],
             [
              0.1111111111111111,
              "#46039f"
             ],
             [
              0.2222222222222222,
              "#7201a8"
             ],
             [
              0.3333333333333333,
              "#9c179e"
             ],
             [
              0.4444444444444444,
              "#bd3786"
             ],
             [
              0.5555555555555556,
              "#d8576b"
             ],
             [
              0.6666666666666666,
              "#ed7953"
             ],
             [
              0.7777777777777778,
              "#fb9f3a"
             ],
             [
              0.8888888888888888,
              "#fdca26"
             ],
             [
              1,
              "#f0f921"
             ]
            ],
            "type": "histogram2dcontour"
           }
          ],
          "mesh3d": [
           {
            "colorbar": {
             "outlinewidth": 0,
             "ticks": ""
            },
            "type": "mesh3d"
           }
          ],
          "parcoords": [
           {
            "line": {
             "colorbar": {
              "outlinewidth": 0,
              "ticks": ""
             }
            },
            "type": "parcoords"
           }
          ],
          "pie": [
           {
            "automargin": true,
            "type": "pie"
           }
          ],
          "scatter": [
           {
            "fillpattern": {
             "fillmode": "overlay",
             "size": 10,
             "solidity": 0.2
            },
            "type": "scatter"
           }
          ],
          "scatter3d": [
           {
            "line": {
             "colorbar": {
              "outlinewidth": 0,
              "ticks": ""
             }
            },
            "marker": {
             "colorbar": {
              "outlinewidth": 0,
              "ticks": ""
             }
            },
            "type": "scatter3d"
           }
          ],
          "scattercarpet": [
           {
            "marker": {
             "colorbar": {
              "outlinewidth": 0,
              "ticks": ""
             }
            },
            "type": "scattercarpet"
           }
          ],
          "scattergeo": [
           {
            "marker": {
             "colorbar": {
              "outlinewidth": 0,
              "ticks": ""
             }
            },
            "type": "scattergeo"
           }
          ],
          "scattergl": [
           {
            "marker": {
             "colorbar": {
              "outlinewidth": 0,
              "ticks": ""
             }
            },
            "type": "scattergl"
           }
          ],
          "scattermapbox": [
           {
            "marker": {
             "colorbar": {
              "outlinewidth": 0,
              "ticks": ""
             }
            },
            "type": "scattermapbox"
           }
          ],
          "scatterpolar": [
           {
            "marker": {
             "colorbar": {
              "outlinewidth": 0,
              "ticks": ""
             }
            },
            "type": "scatterpolar"
           }
          ],
          "scatterpolargl": [
           {
            "marker": {
             "colorbar": {
              "outlinewidth": 0,
              "ticks": ""
             }
            },
            "type": "scatterpolargl"
           }
          ],
          "scatterternary": [
           {
            "marker": {
             "colorbar": {
              "outlinewidth": 0,
              "ticks": ""
             }
            },
            "type": "scatterternary"
           }
          ],
          "surface": [
           {
            "colorbar": {
             "outlinewidth": 0,
             "ticks": ""
            },
            "colorscale": [
             [
              0,
              "#0d0887"
             ],
             [
              0.1111111111111111,
              "#46039f"
             ],
             [
              0.2222222222222222,
              "#7201a8"
             ],
             [
              0.3333333333333333,
              "#9c179e"
             ],
             [
              0.4444444444444444,
              "#bd3786"
             ],
             [
              0.5555555555555556,
              "#d8576b"
             ],
             [
              0.6666666666666666,
              "#ed7953"
             ],
             [
              0.7777777777777778,
              "#fb9f3a"
             ],
             [
              0.8888888888888888,
              "#fdca26"
             ],
             [
              1,
              "#f0f921"
             ]
            ],
            "type": "surface"
           }
          ],
          "table": [
           {
            "cells": {
             "fill": {
              "color": "#EBF0F8"
             },
             "line": {
              "color": "white"
             }
            },
            "header": {
             "fill": {
              "color": "#C8D4E3"
             },
             "line": {
              "color": "white"
             }
            },
            "type": "table"
           }
          ]
         },
         "layout": {
          "annotationdefaults": {
           "arrowcolor": "#2a3f5f",
           "arrowhead": 0,
           "arrowwidth": 1
          },
          "autotypenumbers": "strict",
          "coloraxis": {
           "colorbar": {
            "outlinewidth": 0,
            "ticks": ""
           }
          },
          "colorscale": {
           "diverging": [
            [
             0,
             "#8e0152"
            ],
            [
             0.1,
             "#c51b7d"
            ],
            [
             0.2,
             "#de77ae"
            ],
            [
             0.3,
             "#f1b6da"
            ],
            [
             0.4,
             "#fde0ef"
            ],
            [
             0.5,
             "#f7f7f7"
            ],
            [
             0.6,
             "#e6f5d0"
            ],
            [
             0.7,
             "#b8e186"
            ],
            [
             0.8,
             "#7fbc41"
            ],
            [
             0.9,
             "#4d9221"
            ],
            [
             1,
             "#276419"
            ]
           ],
           "sequential": [
            [
             0,
             "#0d0887"
            ],
            [
             0.1111111111111111,
             "#46039f"
            ],
            [
             0.2222222222222222,
             "#7201a8"
            ],
            [
             0.3333333333333333,
             "#9c179e"
            ],
            [
             0.4444444444444444,
             "#bd3786"
            ],
            [
             0.5555555555555556,
             "#d8576b"
            ],
            [
             0.6666666666666666,
             "#ed7953"
            ],
            [
             0.7777777777777778,
             "#fb9f3a"
            ],
            [
             0.8888888888888888,
             "#fdca26"
            ],
            [
             1,
             "#f0f921"
            ]
           ],
           "sequentialminus": [
            [
             0,
             "#0d0887"
            ],
            [
             0.1111111111111111,
             "#46039f"
            ],
            [
             0.2222222222222222,
             "#7201a8"
            ],
            [
             0.3333333333333333,
             "#9c179e"
            ],
            [
             0.4444444444444444,
             "#bd3786"
            ],
            [
             0.5555555555555556,
             "#d8576b"
            ],
            [
             0.6666666666666666,
             "#ed7953"
            ],
            [
             0.7777777777777778,
             "#fb9f3a"
            ],
            [
             0.8888888888888888,
             "#fdca26"
            ],
            [
             1,
             "#f0f921"
            ]
           ]
          },
          "colorway": [
           "#636efa",
           "#EF553B",
           "#00cc96",
           "#ab63fa",
           "#FFA15A",
           "#19d3f3",
           "#FF6692",
           "#B6E880",
           "#FF97FF",
           "#FECB52"
          ],
          "font": {
           "color": "#2a3f5f"
          },
          "geo": {
           "bgcolor": "white",
           "lakecolor": "white",
           "landcolor": "#E5ECF6",
           "showlakes": true,
           "showland": true,
           "subunitcolor": "white"
          },
          "hoverlabel": {
           "align": "left"
          },
          "hovermode": "closest",
          "mapbox": {
           "style": "light"
          },
          "paper_bgcolor": "white",
          "plot_bgcolor": "#E5ECF6",
          "polar": {
           "angularaxis": {
            "gridcolor": "white",
            "linecolor": "white",
            "ticks": ""
           },
           "bgcolor": "#E5ECF6",
           "radialaxis": {
            "gridcolor": "white",
            "linecolor": "white",
            "ticks": ""
           }
          },
          "scene": {
           "xaxis": {
            "backgroundcolor": "#E5ECF6",
            "gridcolor": "white",
            "gridwidth": 2,
            "linecolor": "white",
            "showbackground": true,
            "ticks": "",
            "zerolinecolor": "white"
           },
           "yaxis": {
            "backgroundcolor": "#E5ECF6",
            "gridcolor": "white",
            "gridwidth": 2,
            "linecolor": "white",
            "showbackground": true,
            "ticks": "",
            "zerolinecolor": "white"
           },
           "zaxis": {
            "backgroundcolor": "#E5ECF6",
            "gridcolor": "white",
            "gridwidth": 2,
            "linecolor": "white",
            "showbackground": true,
            "ticks": "",
            "zerolinecolor": "white"
           }
          },
          "shapedefaults": {
           "line": {
            "color": "#2a3f5f"
           }
          },
          "ternary": {
           "aaxis": {
            "gridcolor": "white",
            "linecolor": "white",
            "ticks": ""
           },
           "baxis": {
            "gridcolor": "white",
            "linecolor": "white",
            "ticks": ""
           },
           "bgcolor": "#E5ECF6",
           "caxis": {
            "gridcolor": "white",
            "linecolor": "white",
            "ticks": ""
           }
          },
          "title": {
           "x": 0.05
          },
          "xaxis": {
           "automargin": true,
           "gridcolor": "white",
           "linecolor": "white",
           "ticks": "",
           "title": {
            "standoff": 15
           },
           "zerolinecolor": "white",
           "zerolinewidth": 2
          },
          "yaxis": {
           "automargin": true,
           "gridcolor": "white",
           "linecolor": "white",
           "ticks": "",
           "title": {
            "standoff": 15
           },
           "zerolinecolor": "white",
           "zerolinewidth": 2
          }
         }
        },
        "title": {
         "text": "3D PCA projection of Word Vectors"
        }
       }
      }
     },
     "metadata": {},
     "output_type": "display_data"
    }
   ],
   "source": [
    "import plotly.graph_objects as go\n",
    "\n",
    "# Perform PCA to reduce to 3 dimensions\n",
    "pca = PCA(n_components=3)\n",
    "reduced_vectors = pca.fit_transform(vectors)\n",
    "\n",
    "# Generate a color map similar to matplotlib's tab10\n",
    "colors = [f'rgba({r},{g},{b},{a})' for r, g, b, a in plt.cm.tab10(np.linspace(0, 1, len(words)))]\n",
    "\n",
    "# Create a 3D scatter plot\n",
    "fig = go.Figure()\n",
    "\n",
    "# Add scatter plot\n",
    "fig.add_trace(go.Scatter3d(x=reduced_vectors[:, 0], y=reduced_vectors[:, 1], z=reduced_vectors[:, 2],\n",
    "                           mode='markers+text', text=words, marker=dict(color=colors), textposition=\"top center\"))\n",
    "\n",
    "# Optionally add lines from origin to each point if you need to mimic the quiver plot\n",
    "# This is a bit more involved in Plotly, as you'll have to add a line for each point manually\n",
    "for i, word in enumerate(words):\n",
    "    linestyle = 'dash' if word == 'mexico' else 'solid'\n",
    "    fig.add_trace(go.Scatter3d(x=[0, reduced_vectors[i, 0]], y=[0, reduced_vectors[i, 1]], z=[0, reduced_vectors[i, 2]],\n",
    "                               mode='lines', line=dict(color=colors[i], dash=linestyle)))\n",
    "\n",
    "# Set titles and labels\n",
    "fig.update_layout(scene=dict(xaxis_title='X Axis', yaxis_title='Y Axis', zaxis_title='Z Axis'),\n",
    "                  legend_title=\"Words\", title=\"3D PCA projection of Word Vectors\", height=600)\n",
    "\n",
    "fig.show()\n",
    "\n"
   ]
  },
  {
   "cell_type": "markdown",
   "metadata": {},
   "source": [
    "Notice how the \"true\" vector (the 'brazil + spain - portugal' edge) doesn't seem to align much or be anywhere near \"mexico\" ? This can simply be explained by dimensionality reduction - the original number of dimensions is much higher than three, and our dimenionality reduction does not capture the complexity of the data. Take the above as a mere ilustration."
   ]
  },
  {
   "cell_type": "markdown",
   "metadata": {},
   "source": [
    "Now to offer a different visualisation, let us perform an interactive 3D plot of a variety of countries using Plotly."
   ]
  },
  {
   "cell_type": "code",
   "execution_count": 14,
   "metadata": {},
   "outputs": [
    {
     "data": {
      "application/vnd.plotly.v1+json": {
       "config": {
        "plotlyServerURL": "https://plot.ly"
       },
       "data": [
        {
         "marker": {
          "color": [
           -9.163958549499512,
           51.23542022705078,
           3.3739776611328125,
           65.99810791015625,
           -45.526214599609375,
           -3.9187164306640625,
           41.25116729736328,
           0.34040313959121704,
           53.27028274536133,
           29.279569625854492,
           -24.80875587463379,
           21.23136329650879,
           -11.498199462890625,
           -44.34579849243164,
           31.22760581970215,
           38.708927154541016,
           -33.42835998535156,
           -24.42107391357422,
           -21.433218002319336,
           -7.496403694152832,
           -48.40422439575195,
           5.507370471954346,
           -6.049558162689209,
           -76.92462921142578,
           -40.837379455566406,
           -15.984599113464355,
           -33.025516510009766,
           11.475903511047363,
           -20.594707489013672,
           -6.680824279785156,
           34.77840042114258,
           -30.655733108520508,
           -15.988707542419434,
           58.62017059326172,
           -7.7652268409729,
           46.87903594970703,
           33.88932800292969,
           -17.41498374938965,
           -43.76825714111328,
           -18.01458740234375,
           18.949237823486328,
           -15.747625350952148,
           64.0853500366211,
           -23.75324058532715,
           -7.829876899719238,
           68.33971405029297,
           29.87725830078125,
           -24.555503845214844,
           -37.19258117675781,
           19.97162628173828,
           39.431793212890625,
           -48.279144287109375,
           57.927391052246094,
           -53.21162796020508,
           -24.788564682006836,
           -61.50152587890625,
           -51.646297454833984,
           -40.601409912109375,
           -45.77818298339844,
           -23.92772102355957,
           47.64871597290039,
           72.68701171875,
           -0.5348416566848755,
           7.641815185546875,
           23.020877838134766,
           5.21236515045166,
           14.555195808410645,
           17.412832260131836,
           15.474518775939941,
           -31.16280746459961,
           43.874671936035156,
           14.117807388305664,
           15.33067512512207,
           -28.335222244262695,
           -26.026857376098633,
           28.90420913696289,
           24.461475372314453,
           3.5200326442718506,
           64.04351806640625,
           1.8039878606796265,
           -65.57672119140625,
           -34.90393829345703,
           10.023632049560547,
           71.36591339111328,
           49.77339553833008,
           57.19070816040039,
           -49.14931869506836,
           -52.02217483520508,
           6.602406024932861,
           -18.471647262573242,
           -32.281333923339844,
           61.61764907836914,
           -5.860466957092285,
           -30.06582260131836,
           5.250049591064453,
           -39.80990982055664,
           47.37636947631836,
           52.30966567993164,
           10.891092300415039,
           55.35371780395508,
           19.74287223815918,
           -2.9538075923919678,
           -3.5745861530303955,
           -53.714107513427734,
           -34.69041442871094,
           -25.925987243652344,
           30.003726959228516,
           -11.091856002807617,
           -11.594496726989746,
           -11.872117042541504,
           37.07069396972656,
           28.91737174987793,
           -2.7964539527893066,
           -42.35364532470703,
           -7.055145263671875,
           -19.1928768157959,
           -3.3187313079833984,
           16.086294174194336,
           49.76600646972656,
           1.4594601392745972,
           36.1214485168457,
           48.79317855834961,
           28.657909393310547,
           -52.06873321533203,
           -6.983811855316162,
           -42.66489791870117,
           46.07126235961914,
           -30.91712760925293,
           23.241405487060547,
           65.81454467773438,
           70.81149291992188,
           -26.59174919128418,
           13.286943435668945,
           -16.361045837402344,
           -26.866626739501953,
           48.18846893310547,
           46.438533782958984,
           16.586633682250977,
           31.506616592407227,
           -30.34461212158203,
           9.792527198791504,
           -59.5489616394043,
           -40.75699996948242,
           -5.623959541320801,
           17.917896270751953,
           38.01875305175781,
           15.335341453552246,
           -20.997135162353516,
           -39.178733825683594,
           27.344202041625977,
           -20.623937606811523,
           20.61292839050293,
           -23.240259170532227,
           -14.495750427246094,
           24.122041702270508,
           -0.19635169208049774,
           -48.08514404296875,
           -30.989164352416992
          ],
          "colorscale": [
           [
            0,
            "#440154"
           ],
           [
            0.1111111111111111,
            "#482878"
           ],
           [
            0.2222222222222222,
            "#3e4989"
           ],
           [
            0.3333333333333333,
            "#31688e"
           ],
           [
            0.4444444444444444,
            "#26828e"
           ],
           [
            0.5555555555555556,
            "#1f9e89"
           ],
           [
            0.6666666666666666,
            "#35b779"
           ],
           [
            0.7777777777777778,
            "#6ece58"
           ],
           [
            0.8888888888888888,
            "#b5de2b"
           ],
           [
            1,
            "#fde725"
           ]
          ],
          "opacity": 0.8,
          "size": 5
         },
         "mode": "markers+text",
         "text": [
          "afghanistan",
          "albania",
          "algeria",
          "andorra",
          "angola",
          "argentina",
          "armenia",
          "australia",
          "austria",
          "azerbaijan",
          "bahamas",
          "bahrain",
          "bangladesh",
          "barbados",
          "belarus",
          "belgium",
          "belize",
          "benin",
          "bhutan",
          "bolivia",
          "botswana",
          "brazil",
          "brunei",
          "bulgaria",
          "burundi",
          "cambodia",
          "cameroon",
          "canada",
          "chad",
          "chile",
          "china",
          "colombia",
          "comoros",
          "croatia",
          "cuba",
          "cyprus",
          "denmark",
          "djibouti",
          "dominica",
          "ecuador",
          "egypt",
          "eritrea",
          "estonia",
          "ethiopia",
          "fiji",
          "finland",
          "france",
          "gabon",
          "gambia",
          "georgia",
          "germany",
          "ghana",
          "greece",
          "grenada",
          "guatemala",
          "guinea",
          "guinea-bissau",
          "guyana",
          "haiti",
          "honduras",
          "hungary",
          "iceland",
          "india",
          "indonesia",
          "iran",
          "iraq",
          "ireland",
          "israel",
          "italy",
          "jamaica",
          "japan",
          "jordan",
          "kazakhstan",
          "kenya",
          "kiribati",
          "kuwait",
          "kyrgyzstan",
          "laos",
          "latvia",
          "lebanon",
          "lesotho",
          "liberia",
          "libya",
          "liechtenstein",
          "lithuania",
          "luxembourg",
          "madagascar",
          "malawi",
          "malaysia",
          "maldives",
          "mali",
          "malta",
          "mauritania",
          "mauritius",
          "mexico",
          "micronesia",
          "moldova",
          "monaco",
          "mongolia",
          "montenegro",
          "morocco",
          "mozambique",
          "myanmar",
          "namibia",
          "nauru",
          "nepal",
          "netherlands",
          "nicaragua",
          "niger",
          "nigeria",
          "norway",
          "oman",
          "pakistan",
          "palau",
          "panama",
          "paraguay",
          "peru",
          "philippines",
          "poland",
          "portugal",
          "qatar",
          "romania",
          "russia",
          "rwanda",
          "samoa",
          "senegal",
          "serbia",
          "seychelles",
          "singapore",
          "slovakia",
          "slovenia",
          "somalia",
          "spain",
          "sudan",
          "suriname",
          "sweden",
          "switzerland",
          "syria",
          "tajikistan",
          "tanzania",
          "thailand",
          "timor-leste",
          "togo",
          "tonga",
          "tunisia",
          "turkey",
          "turkmenistan",
          "tuvalu",
          "uganda",
          "ukraine",
          "uruguay",
          "uzbekistan",
          "vanuatu",
          "venezuela",
          "vietnam",
          "yemen",
          "zambia",
          "zimbabwe"
         ],
         "textposition": "top center",
         "type": "scatter3d",
         "x": [
          -62.69148635864258,
          31.308551788330078,
          -14.650716781616211,
          -40.17979431152344,
          -28.805662155151367,
          -23.787996292114258,
          16.1187744140625,
          -35.154911041259766,
          -36.600807189941406,
          10.424588203430176,
          53.88832092285156,
          -13.762813568115234,
          12.556998252868652,
          43.8043212890625,
          18.64592933654785,
          -50.61824417114258,
          44.18539810180664,
          -5.809750556945801,
          38.39860153198242,
          -2.711796522140503,
          2.202864170074463,
          -14.020074844360352,
          27.97231674194336,
          -26.621416091918945,
          -43.459957122802734,
          20.978168487548828,
          -25.305583953857422,
          -45.006778717041016,
          -44.082942962646484,
          -3.753735303878784,
          23.87631607055664,
          4.909877777099609,
          18.723560333251953,
          42.263458251953125,
          31.219181060791016,
          -14.89168930053711,
          -28.18951988220215,
          -15.689058303833008,
          58.996368408203125,
          -0.8977620601654053,
          -33.23378372192383,
          -37.372169494628906,
          -6.487368583679199,
          -25.557775497436523,
          43.458465576171875,
          -21.49118423461914,
          -64.23881530761719,
          -0.02642352506518364,
          9.911077499389648,
          33.256805419921875,
          -30.566268920898438,
          -7.021575450897217,
          -2.8421127796173096,
          47.05022048950195,
          5.497485160827637,
          11.491531372070312,
          23.487010955810547,
          30.111732482910156,
          5.713762283325195,
          17.176578521728516,
          -10.870532989501953,
          -10.903162002563477,
          -5.795189380645752,
          6.562340259552002,
          -54.656463623046875,
          -65.86426544189453,
          -25.22484016418457,
          -65.41433715820312,
          -45.61124038696289,
          44.48759460449219,
          14.63862133026123,
          -45.060062408447266,
          19.973756790161133,
          -8.100537300109863,
          72.13555145263672,
          -31.81650161743164,
          30.643842697143555,
          34.19528579711914,
          8.574043273925781,
          -57.02306365966797,
          5.696861743927002,
          -43.687042236328125,
          -34.475616455078125,
          -42.4420166015625,
          -0.552324116230011,
          -51.783714294433594,
          19.550521850585938,
          15.188300132751465,
          10.813301086425781,
          45.19287872314453,
          -14.75911808013916,
          -21.000600814819336,
          -2.916727304458618,
          27.724979400634766,
          14.310632705688477,
          76.4103012084961,
          18.109554290771484,
          -57.120887756347656,
          46.285057067871094,
          32.4639778137207,
          -16.9527530670166,
          102.71285247802734,
          31.426103591918945,
          -12.543452262878418,
          61.99773025512695,
          28.639629364013672,
          -44.90393829345703,
          16.82428741455078,
          5.409852981567383,
          -0.2940360903739929,
          -25.090381622314453,
          -16.32452964782715,
          -18.906078338623047,
          52.6235466003418,
          30.78956413269043,
          -17.732135772705078,
          8.56191635131836,
          17.163921356201172,
          -10.010834693908691,
          -30.530670166015625,
          -14.344844818115234,
          7.197223663330078,
          3.5103635787963867,
          -47.909786224365234,
          49.707855224609375,
          -14.68406867980957,
          42.77948760986328,
          28.748981475830078,
          8.900272369384766,
          2.1152286529541016,
          17.8060245513916,
          -56.16609191894531,
          -31.316425323486328,
          -36.65491485595703,
          23.617950439453125,
          -32.12966537475586,
          -51.917877197265625,
          -51.85668182373047,
          40.31150817871094,
          -4.14223575592041,
          18.585081100463867,
          40.45005798339844,
          1.2829238176345825,
          57.64849853515625,
          -3.220684051513672,
          -34.78670120239258,
          20.01882553100586,
          71.44791412353516,
          -17.823013305664062,
          4.2509660720825195,
          -18.23590850830078,
          36.450469970703125,
          56.005367279052734,
          12.903152465820312,
          34.429473876953125,
          -25.892160415649414,
          -4.008523941040039,
          7.510387420654297
         ],
         "y": [
          -38.15406036376953,
          -2.840733766555786,
          -10.060681343078613,
          -5.298444747924805,
          -7.0548505783081055,
          63.875274658203125,
          -2.7874515056610107,
          17.673133850097656,
          36.45741653442383,
          4.6956562995910645,
          31.731515884399414,
          -36.918174743652344,
          -50.95936965942383,
          36.76775360107422,
          33.03185272216797,
          21.204601287841797,
          17.94264793395996,
          15.840883255004883,
          -45.511512756347656,
          37.398399353027344,
          -25.078214645385742,
          50.877960205078125,
          -31.351591110229492,
          -11.399066925048828,
          -30.709774017333984,
          -68.6401596069336,
          18.90670394897461,
          19.387537002563477,
          -0.3524671494960785,
          65.24037170410156,
          -57.47710418701172,
          63.515716552734375,
          3.848677396774292,
          11.544898986816406,
          63.60517120361328,
          -12.266718864440918,
          23.007299423217773,
          -13.438297271728516,
          23.757848739624023,
          51.24039840698242,
          -24.42681312561035,
          -38.998050689697266,
          15.518628120422363,
          -33.09528350830078,
          -6.778919219970703,
          25.147552490234375,
          26.912965774536133,
          -2.8952388763427734,
          -9.341194152832031,
          55.08811569213867,
          44.742244720458984,
          -4.547906398773193,
          -14.858823776245117,
          21.700056076049805,
          35.02032470703125,
          0.3424508571624756,
          -14.59006118774414,
          26.49518394470215,
          41.366050720214844,
          45.986759185791016,
          25.491653442382812,
          -5.459514617919922,
          -65.2948989868164,
          -49.17030715942383,
          -42.43488693237305,
          -37.324092864990234,
          15.411579132080078,
          -16.760334014892578,
          51.19362258911133,
          44.540443420410156,
          -48.26615905761719,
          -8.996292114257812,
          16.36406707763672,
          -44.50879669189453,
          -9.827092170715332,
          -42.8242301940918,
          -13.20386028289795,
          -46.40541458129883,
          11.115442276000977,
          -21.93723487854004,
          -23.443166732788086,
          -13.723390579223633,
          -39.62664794921875,
          8.100472450256348,
          8.405861854553223,
          20.820405960083008,
          4.394650459289551,
          -36.84267044067383,
          -70.66182708740234,
          -29.205690383911133,
          -0.2706153690814972,
          1.6018673181533813,
          -1.8963803052902222,
          -16.367788314819336,
          65.61824035644531,
          -0.7503523230552673,
          15.17596435546875,
          1.5115315914154053,
          -34.31020736694336,
          25.624340057373047,
          -16.196250915527344,
          -13.996450424194336,
          -65.4184341430664,
          -20.2659854888916,
          -15.744059562683105,
          -57.51347351074219,
          32.01113510131836,
          34.150455474853516,
          -16.241024017333984,
          -38.27556610107422,
          7.020652770996094,
          -51.66069412231445,
          -56.53816604614258,
          0.755973219871521,
          46.74031448364258,
          44.92764663696289,
          49.47085952758789,
          -38.604122161865234,
          43.8526611328125,
          47.262908935546875,
          -37.678733825683594,
          30.464155197143555,
          44.393619537353516,
          -21.38721466064453,
          12.63498306274414,
          12.055453300476074,
          21.709474563598633,
          -1.841295838356018,
          -67.3456039428711,
          34.106109619140625,
          28.435049057006836,
          -25.344602584838867,
          58.173133850097656,
          -21.758991241455078,
          21.794692993164062,
          19.624984741210938,
          37.90768051147461,
          -27.399372100830078,
          -5.964746475219727,
          -28.066808700561523,
          -57.65226364135742,
          -9.474786758422852,
          9.643094062805176,
          0.9915353655815125,
          -17.50338363647461,
          -18.525936126708984,
          1.1087911128997803,
          6.431438446044922,
          -31.85059356689453,
          28.537134170532227,
          60.52604293823242,
          5.889333248138428,
          2.681933641433716,
          65.3036117553711,
          -46.865455627441406,
          -25.777589797973633,
          -43.942176818847656,
          -49.24090576171875
         ],
         "z": [
          -9.163958549499512,
          51.23542022705078,
          3.3739776611328125,
          65.99810791015625,
          -45.526214599609375,
          -3.9187164306640625,
          41.25116729736328,
          0.34040313959121704,
          53.27028274536133,
          29.279569625854492,
          -24.80875587463379,
          21.23136329650879,
          -11.498199462890625,
          -44.34579849243164,
          31.22760581970215,
          38.708927154541016,
          -33.42835998535156,
          -24.42107391357422,
          -21.433218002319336,
          -7.496403694152832,
          -48.40422439575195,
          5.507370471954346,
          -6.049558162689209,
          -76.92462921142578,
          -40.837379455566406,
          -15.984599113464355,
          -33.025516510009766,
          11.475903511047363,
          -20.594707489013672,
          -6.680824279785156,
          34.77840042114258,
          -30.655733108520508,
          -15.988707542419434,
          58.62017059326172,
          -7.7652268409729,
          46.87903594970703,
          33.88932800292969,
          -17.41498374938965,
          -43.76825714111328,
          -18.01458740234375,
          18.949237823486328,
          -15.747625350952148,
          64.0853500366211,
          -23.75324058532715,
          -7.829876899719238,
          68.33971405029297,
          29.87725830078125,
          -24.555503845214844,
          -37.19258117675781,
          19.97162628173828,
          39.431793212890625,
          -48.279144287109375,
          57.927391052246094,
          -53.21162796020508,
          -24.788564682006836,
          -61.50152587890625,
          -51.646297454833984,
          -40.601409912109375,
          -45.77818298339844,
          -23.92772102355957,
          47.64871597290039,
          72.68701171875,
          -0.5348416566848755,
          7.641815185546875,
          23.020877838134766,
          5.21236515045166,
          14.555195808410645,
          17.412832260131836,
          15.474518775939941,
          -31.16280746459961,
          43.874671936035156,
          14.117807388305664,
          15.33067512512207,
          -28.335222244262695,
          -26.026857376098633,
          28.90420913696289,
          24.461475372314453,
          3.5200326442718506,
          64.04351806640625,
          1.8039878606796265,
          -65.57672119140625,
          -34.90393829345703,
          10.023632049560547,
          71.36591339111328,
          49.77339553833008,
          57.19070816040039,
          -49.14931869506836,
          -52.02217483520508,
          6.602406024932861,
          -18.471647262573242,
          -32.281333923339844,
          61.61764907836914,
          -5.860466957092285,
          -30.06582260131836,
          5.250049591064453,
          -39.80990982055664,
          47.37636947631836,
          52.30966567993164,
          10.891092300415039,
          55.35371780395508,
          19.74287223815918,
          -2.9538075923919678,
          -3.5745861530303955,
          -53.714107513427734,
          -34.69041442871094,
          -25.925987243652344,
          30.003726959228516,
          -11.091856002807617,
          -11.594496726989746,
          -11.872117042541504,
          37.07069396972656,
          28.91737174987793,
          -2.7964539527893066,
          -42.35364532470703,
          -7.055145263671875,
          -19.1928768157959,
          -3.3187313079833984,
          16.086294174194336,
          49.76600646972656,
          1.4594601392745972,
          36.1214485168457,
          48.79317855834961,
          28.657909393310547,
          -52.06873321533203,
          -6.983811855316162,
          -42.66489791870117,
          46.07126235961914,
          -30.91712760925293,
          23.241405487060547,
          65.81454467773438,
          70.81149291992188,
          -26.59174919128418,
          13.286943435668945,
          -16.361045837402344,
          -26.866626739501953,
          48.18846893310547,
          46.438533782958984,
          16.586633682250977,
          31.506616592407227,
          -30.34461212158203,
          9.792527198791504,
          -59.5489616394043,
          -40.75699996948242,
          -5.623959541320801,
          17.917896270751953,
          38.01875305175781,
          15.335341453552246,
          -20.997135162353516,
          -39.178733825683594,
          27.344202041625977,
          -20.623937606811523,
          20.61292839050293,
          -23.240259170532227,
          -14.495750427246094,
          24.122041702270508,
          -0.19635169208049774,
          -48.08514404296875,
          -30.989164352416992
         ]
        }
       ],
       "layout": {
        "height": 600,
        "legend": {
         "title": {
          "text": "Countries"
         }
        },
        "scene": {
         "xaxis": {
          "title": {
           "text": "X Axis"
          }
         },
         "yaxis": {
          "title": {
           "text": "Y Axis"
          }
         },
         "zaxis": {
          "title": {
           "text": "Z Axis"
          }
         }
        },
        "template": {
         "data": {
          "bar": [
           {
            "error_x": {
             "color": "#2a3f5f"
            },
            "error_y": {
             "color": "#2a3f5f"
            },
            "marker": {
             "line": {
              "color": "#E5ECF6",
              "width": 0.5
             },
             "pattern": {
              "fillmode": "overlay",
              "size": 10,
              "solidity": 0.2
             }
            },
            "type": "bar"
           }
          ],
          "barpolar": [
           {
            "marker": {
             "line": {
              "color": "#E5ECF6",
              "width": 0.5
             },
             "pattern": {
              "fillmode": "overlay",
              "size": 10,
              "solidity": 0.2
             }
            },
            "type": "barpolar"
           }
          ],
          "carpet": [
           {
            "aaxis": {
             "endlinecolor": "#2a3f5f",
             "gridcolor": "white",
             "linecolor": "white",
             "minorgridcolor": "white",
             "startlinecolor": "#2a3f5f"
            },
            "baxis": {
             "endlinecolor": "#2a3f5f",
             "gridcolor": "white",
             "linecolor": "white",
             "minorgridcolor": "white",
             "startlinecolor": "#2a3f5f"
            },
            "type": "carpet"
           }
          ],
          "choropleth": [
           {
            "colorbar": {
             "outlinewidth": 0,
             "ticks": ""
            },
            "type": "choropleth"
           }
          ],
          "contour": [
           {
            "colorbar": {
             "outlinewidth": 0,
             "ticks": ""
            },
            "colorscale": [
             [
              0,
              "#0d0887"
             ],
             [
              0.1111111111111111,
              "#46039f"
             ],
             [
              0.2222222222222222,
              "#7201a8"
             ],
             [
              0.3333333333333333,
              "#9c179e"
             ],
             [
              0.4444444444444444,
              "#bd3786"
             ],
             [
              0.5555555555555556,
              "#d8576b"
             ],
             [
              0.6666666666666666,
              "#ed7953"
             ],
             [
              0.7777777777777778,
              "#fb9f3a"
             ],
             [
              0.8888888888888888,
              "#fdca26"
             ],
             [
              1,
              "#f0f921"
             ]
            ],
            "type": "contour"
           }
          ],
          "contourcarpet": [
           {
            "colorbar": {
             "outlinewidth": 0,
             "ticks": ""
            },
            "type": "contourcarpet"
           }
          ],
          "heatmap": [
           {
            "colorbar": {
             "outlinewidth": 0,
             "ticks": ""
            },
            "colorscale": [
             [
              0,
              "#0d0887"
             ],
             [
              0.1111111111111111,
              "#46039f"
             ],
             [
              0.2222222222222222,
              "#7201a8"
             ],
             [
              0.3333333333333333,
              "#9c179e"
             ],
             [
              0.4444444444444444,
              "#bd3786"
             ],
             [
              0.5555555555555556,
              "#d8576b"
             ],
             [
              0.6666666666666666,
              "#ed7953"
             ],
             [
              0.7777777777777778,
              "#fb9f3a"
             ],
             [
              0.8888888888888888,
              "#fdca26"
             ],
             [
              1,
              "#f0f921"
             ]
            ],
            "type": "heatmap"
           }
          ],
          "heatmapgl": [
           {
            "colorbar": {
             "outlinewidth": 0,
             "ticks": ""
            },
            "colorscale": [
             [
              0,
              "#0d0887"
             ],
             [
              0.1111111111111111,
              "#46039f"
             ],
             [
              0.2222222222222222,
              "#7201a8"
             ],
             [
              0.3333333333333333,
              "#9c179e"
             ],
             [
              0.4444444444444444,
              "#bd3786"
             ],
             [
              0.5555555555555556,
              "#d8576b"
             ],
             [
              0.6666666666666666,
              "#ed7953"
             ],
             [
              0.7777777777777778,
              "#fb9f3a"
             ],
             [
              0.8888888888888888,
              "#fdca26"
             ],
             [
              1,
              "#f0f921"
             ]
            ],
            "type": "heatmapgl"
           }
          ],
          "histogram": [
           {
            "marker": {
             "pattern": {
              "fillmode": "overlay",
              "size": 10,
              "solidity": 0.2
             }
            },
            "type": "histogram"
           }
          ],
          "histogram2d": [
           {
            "colorbar": {
             "outlinewidth": 0,
             "ticks": ""
            },
            "colorscale": [
             [
              0,
              "#0d0887"
             ],
             [
              0.1111111111111111,
              "#46039f"
             ],
             [
              0.2222222222222222,
              "#7201a8"
             ],
             [
              0.3333333333333333,
              "#9c179e"
             ],
             [
              0.4444444444444444,
              "#bd3786"
             ],
             [
              0.5555555555555556,
              "#d8576b"
             ],
             [
              0.6666666666666666,
              "#ed7953"
             ],
             [
              0.7777777777777778,
              "#fb9f3a"
             ],
             [
              0.8888888888888888,
              "#fdca26"
             ],
             [
              1,
              "#f0f921"
             ]
            ],
            "type": "histogram2d"
           }
          ],
          "histogram2dcontour": [
           {
            "colorbar": {
             "outlinewidth": 0,
             "ticks": ""
            },
            "colorscale": [
             [
              0,
              "#0d0887"
             ],
             [
              0.1111111111111111,
              "#46039f"
             ],
             [
              0.2222222222222222,
              "#7201a8"
             ],
             [
              0.3333333333333333,
              "#9c179e"
             ],
             [
              0.4444444444444444,
              "#bd3786"
             ],
             [
              0.5555555555555556,
              "#d8576b"
             ],
             [
              0.6666666666666666,
              "#ed7953"
             ],
             [
              0.7777777777777778,
              "#fb9f3a"
             ],
             [
              0.8888888888888888,
              "#fdca26"
             ],
             [
              1,
              "#f0f921"
             ]
            ],
            "type": "histogram2dcontour"
           }
          ],
          "mesh3d": [
           {
            "colorbar": {
             "outlinewidth": 0,
             "ticks": ""
            },
            "type": "mesh3d"
           }
          ],
          "parcoords": [
           {
            "line": {
             "colorbar": {
              "outlinewidth": 0,
              "ticks": ""
             }
            },
            "type": "parcoords"
           }
          ],
          "pie": [
           {
            "automargin": true,
            "type": "pie"
           }
          ],
          "scatter": [
           {
            "fillpattern": {
             "fillmode": "overlay",
             "size": 10,
             "solidity": 0.2
            },
            "type": "scatter"
           }
          ],
          "scatter3d": [
           {
            "line": {
             "colorbar": {
              "outlinewidth": 0,
              "ticks": ""
             }
            },
            "marker": {
             "colorbar": {
              "outlinewidth": 0,
              "ticks": ""
             }
            },
            "type": "scatter3d"
           }
          ],
          "scattercarpet": [
           {
            "marker": {
             "colorbar": {
              "outlinewidth": 0,
              "ticks": ""
             }
            },
            "type": "scattercarpet"
           }
          ],
          "scattergeo": [
           {
            "marker": {
             "colorbar": {
              "outlinewidth": 0,
              "ticks": ""
             }
            },
            "type": "scattergeo"
           }
          ],
          "scattergl": [
           {
            "marker": {
             "colorbar": {
              "outlinewidth": 0,
              "ticks": ""
             }
            },
            "type": "scattergl"
           }
          ],
          "scattermapbox": [
           {
            "marker": {
             "colorbar": {
              "outlinewidth": 0,
              "ticks": ""
             }
            },
            "type": "scattermapbox"
           }
          ],
          "scatterpolar": [
           {
            "marker": {
             "colorbar": {
              "outlinewidth": 0,
              "ticks": ""
             }
            },
            "type": "scatterpolar"
           }
          ],
          "scatterpolargl": [
           {
            "marker": {
             "colorbar": {
              "outlinewidth": 0,
              "ticks": ""
             }
            },
            "type": "scatterpolargl"
           }
          ],
          "scatterternary": [
           {
            "marker": {
             "colorbar": {
              "outlinewidth": 0,
              "ticks": ""
             }
            },
            "type": "scatterternary"
           }
          ],
          "surface": [
           {
            "colorbar": {
             "outlinewidth": 0,
             "ticks": ""
            },
            "colorscale": [
             [
              0,
              "#0d0887"
             ],
             [
              0.1111111111111111,
              "#46039f"
             ],
             [
              0.2222222222222222,
              "#7201a8"
             ],
             [
              0.3333333333333333,
              "#9c179e"
             ],
             [
              0.4444444444444444,
              "#bd3786"
             ],
             [
              0.5555555555555556,
              "#d8576b"
             ],
             [
              0.6666666666666666,
              "#ed7953"
             ],
             [
              0.7777777777777778,
              "#fb9f3a"
             ],
             [
              0.8888888888888888,
              "#fdca26"
             ],
             [
              1,
              "#f0f921"
             ]
            ],
            "type": "surface"
           }
          ],
          "table": [
           {
            "cells": {
             "fill": {
              "color": "#EBF0F8"
             },
             "line": {
              "color": "white"
             }
            },
            "header": {
             "fill": {
              "color": "#C8D4E3"
             },
             "line": {
              "color": "white"
             }
            },
            "type": "table"
           }
          ]
         },
         "layout": {
          "annotationdefaults": {
           "arrowcolor": "#2a3f5f",
           "arrowhead": 0,
           "arrowwidth": 1
          },
          "autotypenumbers": "strict",
          "coloraxis": {
           "colorbar": {
            "outlinewidth": 0,
            "ticks": ""
           }
          },
          "colorscale": {
           "diverging": [
            [
             0,
             "#8e0152"
            ],
            [
             0.1,
             "#c51b7d"
            ],
            [
             0.2,
             "#de77ae"
            ],
            [
             0.3,
             "#f1b6da"
            ],
            [
             0.4,
             "#fde0ef"
            ],
            [
             0.5,
             "#f7f7f7"
            ],
            [
             0.6,
             "#e6f5d0"
            ],
            [
             0.7,
             "#b8e186"
            ],
            [
             0.8,
             "#7fbc41"
            ],
            [
             0.9,
             "#4d9221"
            ],
            [
             1,
             "#276419"
            ]
           ],
           "sequential": [
            [
             0,
             "#0d0887"
            ],
            [
             0.1111111111111111,
             "#46039f"
            ],
            [
             0.2222222222222222,
             "#7201a8"
            ],
            [
             0.3333333333333333,
             "#9c179e"
            ],
            [
             0.4444444444444444,
             "#bd3786"
            ],
            [
             0.5555555555555556,
             "#d8576b"
            ],
            [
             0.6666666666666666,
             "#ed7953"
            ],
            [
             0.7777777777777778,
             "#fb9f3a"
            ],
            [
             0.8888888888888888,
             "#fdca26"
            ],
            [
             1,
             "#f0f921"
            ]
           ],
           "sequentialminus": [
            [
             0,
             "#0d0887"
            ],
            [
             0.1111111111111111,
             "#46039f"
            ],
            [
             0.2222222222222222,
             "#7201a8"
            ],
            [
             0.3333333333333333,
             "#9c179e"
            ],
            [
             0.4444444444444444,
             "#bd3786"
            ],
            [
             0.5555555555555556,
             "#d8576b"
            ],
            [
             0.6666666666666666,
             "#ed7953"
            ],
            [
             0.7777777777777778,
             "#fb9f3a"
            ],
            [
             0.8888888888888888,
             "#fdca26"
            ],
            [
             1,
             "#f0f921"
            ]
           ]
          },
          "colorway": [
           "#636efa",
           "#EF553B",
           "#00cc96",
           "#ab63fa",
           "#FFA15A",
           "#19d3f3",
           "#FF6692",
           "#B6E880",
           "#FF97FF",
           "#FECB52"
          ],
          "font": {
           "color": "#2a3f5f"
          },
          "geo": {
           "bgcolor": "white",
           "lakecolor": "white",
           "landcolor": "#E5ECF6",
           "showlakes": true,
           "showland": true,
           "subunitcolor": "white"
          },
          "hoverlabel": {
           "align": "left"
          },
          "hovermode": "closest",
          "mapbox": {
           "style": "light"
          },
          "paper_bgcolor": "white",
          "plot_bgcolor": "#E5ECF6",
          "polar": {
           "angularaxis": {
            "gridcolor": "white",
            "linecolor": "white",
            "ticks": ""
           },
           "bgcolor": "#E5ECF6",
           "radialaxis": {
            "gridcolor": "white",
            "linecolor": "white",
            "ticks": ""
           }
          },
          "scene": {
           "xaxis": {
            "backgroundcolor": "#E5ECF6",
            "gridcolor": "white",
            "gridwidth": 2,
            "linecolor": "white",
            "showbackground": true,
            "ticks": "",
            "zerolinecolor": "white"
           },
           "yaxis": {
            "backgroundcolor": "#E5ECF6",
            "gridcolor": "white",
            "gridwidth": 2,
            "linecolor": "white",
            "showbackground": true,
            "ticks": "",
            "zerolinecolor": "white"
           },
           "zaxis": {
            "backgroundcolor": "#E5ECF6",
            "gridcolor": "white",
            "gridwidth": 2,
            "linecolor": "white",
            "showbackground": true,
            "ticks": "",
            "zerolinecolor": "white"
           }
          },
          "shapedefaults": {
           "line": {
            "color": "#2a3f5f"
           }
          },
          "ternary": {
           "aaxis": {
            "gridcolor": "white",
            "linecolor": "white",
            "ticks": ""
           },
           "baxis": {
            "gridcolor": "white",
            "linecolor": "white",
            "ticks": ""
           },
           "bgcolor": "#E5ECF6",
           "caxis": {
            "gridcolor": "white",
            "linecolor": "white",
            "ticks": ""
           }
          },
          "title": {
           "x": 0.05
          },
          "xaxis": {
           "automargin": true,
           "gridcolor": "white",
           "linecolor": "white",
           "ticks": "",
           "title": {
            "standoff": 15
           },
           "zerolinecolor": "white",
           "zerolinewidth": 2
          },
          "yaxis": {
           "automargin": true,
           "gridcolor": "white",
           "linecolor": "white",
           "ticks": "",
           "title": {
            "standoff": 15
           },
           "zerolinecolor": "white",
           "zerolinewidth": 2
          }
         }
        },
        "title": {
         "text": "3D t-SNE Projection of Country Word Vectors"
        }
       }
      }
     },
     "metadata": {},
     "output_type": "display_data"
    }
   ],
   "source": [
    "from sklearn.manifold import TSNE\n",
    "import plotly.graph_objects as go\n",
    "import numpy as np\n",
    "\n",
    "countries = ['afghanistan', 'albania', 'algeria', 'andorra', 'angola', 'argentina', 'armenia', 'australia', 'austria', 'azerbaijan', 'bahamas', 'bahrain', 'bangladesh', 'barbados', 'belarus', 'belgium', 'belize', 'benin', 'bhutan', 'bolivia', 'botswana', 'brazil', 'brunei', 'bulgaria', 'burundi', 'cambodia', 'cameroon', 'canada', 'chad', 'chile', 'china', 'colombia', 'comoros', 'croatia', 'cuba', 'cyprus', 'denmark', 'djibouti', 'dominica', 'ecuador', 'egypt', 'eritrea', 'estonia', 'ethiopia', 'fiji', 'finland', 'france', 'gabon', 'gambia', 'georgia', 'germany', 'ghana', 'greece', 'grenada', 'guatemala', 'guinea', 'guinea-bissau', 'guyana', 'haiti', 'honduras', 'hungary', 'iceland', 'india', 'indonesia', 'iran', 'iraq', 'ireland', 'israel', 'italy', 'jamaica', 'japan', 'jordan', 'kazakhstan', 'kenya', 'kiribati', 'kuwait', 'kyrgyzstan', 'laos', 'latvia', 'lebanon', 'lesotho', 'liberia', 'libya', 'liechtenstein', 'lithuania', 'luxembourg', 'madagascar', 'malawi', 'malaysia', 'maldives', 'mali', 'malta', 'mauritania', 'mauritius', 'mexico', 'micronesia', 'moldova', 'monaco', 'mongolia', 'montenegro', 'morocco', 'mozambique', 'myanmar', 'namibia', 'nauru', 'nepal', 'netherlands', 'nicaragua', 'niger', 'nigeria', 'norway', 'oman', 'pakistan', 'palau', 'panama', 'paraguay', 'peru', 'philippines', 'poland', 'portugal', 'qatar', 'romania', 'russia', 'rwanda', 'samoa', 'senegal', 'serbia', 'seychelles', 'singapore', 'slovakia', 'slovenia', 'somalia', 'spain', 'sudan', 'suriname', 'sweden', 'switzerland', 'syria', 'tajikistan', 'tanzania', 'thailand', 'timor-leste', 'togo', 'tonga', 'tunisia', 'turkey', 'turkmenistan', 'tuvalu', 'uganda', 'ukraine', 'uruguay', 'uzbekistan', 'vanuatu', 'venezuela', 'vietnam', 'yemen', 'zambia', 'zimbabwe']\n",
    "\n",
    "vectors = np.array([model[country] for country in countries])\n",
    "\n",
    "# Perform t-SNE to reduce to 3 dimensions\n",
    "tsne = TSNE(n_components=3, random_state=42)  # Setting a random_state for reproducibility\n",
    "reduced_vectors = tsne.fit_transform(vectors)\n",
    "\n",
    "# Plotting the 3D projection\n",
    "\n",
    "xs = reduced_vectors[:,0]\n",
    "ys = reduced_vectors[:,1]\n",
    "zs = reduced_vectors[:,2]\n",
    "\n",
    "# Create a 3D scatter plot using Plotly\n",
    "fig = go.Figure(data=[go.Scatter3d(\n",
    "    x=xs,\n",
    "    y=ys,\n",
    "    z=zs,\n",
    "    text=countries,  # Use country names as hover text\n",
    "    mode='markers+text',  # Combine markers and text\n",
    "    marker=dict(\n",
    "        size=5,  # Marker size\n",
    "        color=zs,  # Color markers by their z-values for depth effect\n",
    "        colorscale='Viridis',  # Choose a color scale\n",
    "        opacity=0.8  # Marker opacity\n",
    "    ),\n",
    "    textposition='top center'  # Position the text above the markers\n",
    ")])\n",
    "\n",
    "# Update layout for a cleaner look\n",
    "fig.update_layout(\n",
    "    scene=dict(\n",
    "        xaxis_title='X Axis',\n",
    "        yaxis_title='Y Axis',\n",
    "        zaxis_title='Z Axis'\n",
    "    ),\n",
    "    title=\"3D t-SNE Projection of Country Word Vectors\",\n",
    "    legend_title=\"Countries\",\n",
    "    height=600\n",
    ")\n",
    "\n",
    "# Show plot\n",
    "fig.show()"
   ]
  },
  {
   "cell_type": "markdown",
   "metadata": {},
   "source": [
    "## Answering further questions"
   ]
  },
  {
   "cell_type": "markdown",
   "metadata": {},
   "source": [
    "Finally let us investigate a few more questions to see what the model returns."
   ]
  },
  {
   "cell_type": "code",
   "execution_count": 15,
   "metadata": {},
   "outputs": [
    {
     "name": "stdout",
     "output_type": "stream",
     "text": [
      "[('fritters', 0.6981064677238464)]\n",
      "[('porto', 0.8763006925582886)]\n",
      "[('london', 0.7939332127571106)]\n"
     ]
    }
   ],
   "source": [
    "# Codfish is to Portugal as ? is to Spain\n",
    "result = model.most_similar(positive=['spain', 'codfish'], negative=['portugal'], topn=1)\n",
    "print(result)\n",
    "\n",
    "# Barcelona is to Spain as ? is to Portugal\n",
    "result = model.most_similar(positive=['portugal', 'barcelona'], negative=['spain'], topn=1)\n",
    "print(result)\n",
    "\n",
    "# Lisbon is to Portugal as ? is to Britain\n",
    "result = model.most_similar(positive=['britain', 'lisbon'], negative=['portugal'], topn=1)\n",
    "print(result)\n"
   ]
  }
 ],
 "metadata": {
  "kernelspec": {
   "display_name": "ml-env",
   "language": "python",
   "name": "python3"
  },
  "language_info": {
   "codemirror_mode": {
    "name": "ipython",
    "version": 3
   },
   "file_extension": ".py",
   "mimetype": "text/x-python",
   "name": "python",
   "nbconvert_exporter": "python",
   "pygments_lexer": "ipython3",
   "version": "3.9.18"
  }
 },
 "nbformat": 4,
 "nbformat_minor": 2
}
