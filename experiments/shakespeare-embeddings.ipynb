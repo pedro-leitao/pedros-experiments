{
 "cells": [
  {
   "cell_type": "markdown",
   "metadata": {
    "id": "vsU02rQV48ut"
   },
   "source": [
    "# An Exploration of Language Prediction: A Simplified Model for Shakespearean Text Generation\n",
    "\n",
    "The recent advancements in large language models have captivated many, leading to curiosity about the underlying mechanisms of such sophisticated technology. In this context, we propose to explore a fundamental model aimed at predicting Shakespearean text, demonstrating the basic principles of language model training in a simplified manner.\n",
    "\n",
    "The model is constructed using the following architecture:\n",
    "\n",
    "- **Embedding Layer**: This layer initializes with the vocabulary size, indicating the range of unique words the model needs to recognize, and an output dimension of 150, designed to create a dense representation of word meanings in a 150-dimensional vector space. The input shape parameter is set based on the sequence length minus one, preparing the model to process sequences of text one word at a time.\n",
    "  \n",
    "- **LSTM Layer**: A Long Short-Term Memory (LSTM) layer with 150 units is employed, utilizing a 'tanh' activation function. This choice is due to LSTM's capability to remember and learn from long sequences of data, making it particularly suited for text prediction tasks where the context and order of words are crucial.\n",
    "\n",
    "- **Dense Layer**: The final layer is a Dense layer with a softmax activation function. It outputs a probability distribution over the vocabulary, indicating the model's prediction for the next word in the sequence.\n",
    "\n",
    "- **Optimizer**: The Adam optimizer is used with a learning rate of 0.0005, a modification from the default setting intended to mitigate the risk of exploding gradients, thus ensuring more stable training.\n",
    "\n",
    "The model is compiled with a loss function of 'sparse_categorical_crossentropy' and tracks accuracy as a performance metric. This configuration offers a balance between computational efficiency and the capacity to capture the nuanced structure of Shakespearean English.\n",
    "\n",
    "This experiment serves as an illustrative example of how even simplistic models can approach the task of language prediction, providing insights into the methodologies that underpin more advanced language processing systems. Through such exploration, we gain a deeper understanding of the challenges and potential of machine learning in linguistic applications."
   ]
  },
  {
   "cell_type": "markdown",
   "metadata": {
    "id": "1n2cPM05s3Fy"
   },
   "source": [
    "## Mount Google Drive into Colab and read our dataset\n",
    "\n",
    "As this model can take quite a while to train (many hours or days depending on your hardware), we will be running this on [Google Colab](https://colab.google/), where we can access quite a bit of cloud GPU time for relatively little money.\n",
    "\n",
    "We will be saving all results on Google Drive for long term storage, as sessions do not keep any results when they are shutdown.\n",
    "\n",
    "As the dataset, we will be using [~100,000 lines from Shakespeare plays](https://www.kaggle.com/datasets/kingburrito666/shakespeare-plays)."
   ]
  },
  {
   "cell_type": "code",
   "execution_count": 21,
   "metadata": {
    "colab": {
     "base_uri": "https://localhost:8080/"
    },
    "editable": true,
    "id": "UTZxz9aCs1Or",
    "outputId": "193cea59-1c07-4fe8-b509-1a22dc3b24d4",
    "slideshow": {
     "slide_type": ""
    },
    "tags": [
     "hide-input"
    ]
   },
   "outputs": [
    {
     "name": "stdout",
     "output_type": "stream",
     "text": [
      "Mounted at /content/drive/\n"
     ]
    }
   ],
   "source": [
    "from google.colab import drive\n",
    "drive.mount('/content/drive/', force_remount=True)"
   ]
  },
  {
   "cell_type": "code",
   "execution_count": 22,
   "metadata": {
    "editable": true,
    "id": "9BfFECsUrQke",
    "slideshow": {
     "slide_type": ""
    },
    "tags": [
     "hide-input"
    ]
   },
   "outputs": [],
   "source": [
    "import re\n",
    "\n",
    "def preprocess(s):\n",
    "    return re.sub(r'[^a-zA-Z ]', '', s).lower()\n",
    "\n",
    "# Read all lines from alllines.txt which are in quotes, and add to an array.\n",
    "def read_lines():\n",
    "    lines = []\n",
    "    with open('/content/drive/MyDrive/Colab Notebooks/alllines.txt', 'r') as f:\n",
    "        for line in f:\n",
    "            if re.match(r'^\".*\"$', line):\n",
    "                lines.append(preprocess(line.strip()))\n",
    "    return lines"
   ]
  },
  {
   "cell_type": "markdown",
   "metadata": {
    "id": "-vQQpL8j0fEe"
   },
   "source": [
    "## Text tokenization\n",
    "\n",
    "We start by tokenizing all the text in each line, and then saving the resulting tokenizer. As we will need it at later stages for prediction. We tokenize with the inbuilt [Keras pre-processing tokenizer](https://www.tensorflow.org/api_docs/python/tf/keras/preprocessing/text/Tokenizer)."
   ]
  },
  {
   "cell_type": "code",
   "execution_count": 23,
   "metadata": {
    "editable": true,
    "id": "frT5DUIR0GOt",
    "slideshow": {
     "slide_type": ""
    },
    "tags": [
     "hide-input"
    ]
   },
   "outputs": [],
   "source": [
    "# Use Keras to tokenize the lines.\n",
    "from tensorflow.keras.preprocessing.text import Tokenizer\n",
    "from tensorflow.keras.preprocessing.sequence import pad_sequences\n",
    "\n",
    "def tokenize(lines):\n",
    "    tokenizer = Tokenizer()\n",
    "    tokenizer.fit_on_texts(lines)\n",
    "    return tokenizer.texts_to_sequences(lines), tokenizer\n",
    "\n",
    "# Read lines and tokenize them.\n",
    "lines = read_lines()\n",
    "sequences, tokenizer = tokenize(lines)\n",
    "\n",
    "# Save the tokenizer\n",
    "import pickle\n",
    "with open('/content/drive/MyDrive/Colab Notebooks/shakespeare-tokenizer.pickle', 'wb') as handle:\n",
    "    pickle.dump(tokenizer, handle, protocol=pickle.HIGHEST_PROTOCOL)"
   ]
  },
  {
   "cell_type": "markdown",
   "metadata": {
    "id": "wqLF-jVq0hlv"
   },
   "source": [
    "## A function to create n-grams\n",
    "\n",
    "For our model to be able to learn, we need to show it sequences of words (or in our case, integer token representations). We therefore need an n-gram generator for each of our sequences (or lines). This specific n-gram generator produces all possible n-grams from our sequence list (i.e., all lines in the dataset), for each `every_nth` line.\n",
    "\n",
    "```{note}\n",
    "n-grams are contiguous sequences of n items from a given sample of text or speech. In the context of natural language processing (NLP), these items are typically words, though they can also be characters or subword units. The concept of n-grams allows models to capture the context up to n-1 words, providing a foundation for predicting subsequent elements in a sequence. This approach is crucial for understanding the linguistic structure and for tasks such as text prediction, where the likelihood of a word's occurrence may depend significantly on the preceding words.\n",
    "\n",
    "For instance, consider the sentence: \"The quick brown fox jumps over the lazy dog.\" If we were to generate 2-grams (also known as bigrams) for this sentence, we would produce a list of consecutive word pairs: [\"The quick\", \"quick brown\", \"brown fox\", \"fox jumps\", \"jumps over\", \"over the\", \"the lazy\", \"lazy dog\"]. Similarly, 3-grams (trigrams) would yield: [\"The quick brown\", \"quick brown fox\", \"brown fox jumps\", \"fox jumps over\", \"jumps over the\", \"over the lazy\", \"the lazy dog\"]. By examining these n-grams, a model learns the common patterns of word sequences in a language, which aids in predicting what word naturally follows a given sequence.\n",
    "```"
   ]
  },
  {
   "cell_type": "code",
   "execution_count": 24,
   "metadata": {
    "editable": true,
    "id": "rGCqQP4r0M9Z",
    "slideshow": {
     "slide_type": ""
    },
    "tags": [
     "hide-input"
    ]
   },
   "outputs": [],
   "source": [
    "def create_ngrams(sequences, every_nth):\n",
    "    ngrams = []\n",
    "    for token_list in sequences[::every_nth]:\n",
    "        for i in range(1, len(token_list)):\n",
    "            ngram_sequence = token_list[:i+1]\n",
    "            ngrams.append(ngram_sequence)\n",
    "    return ngrams"
   ]
  },
  {
   "cell_type": "markdown",
   "metadata": {
    "id": "FFC9FKyh0oY0"
   },
   "source": [
    "## An example n-gram output\n",
    "\n",
    "Here's an example of the generated n-grams for the first five n-grams produced (integers because we are looking at token indices rather than the actual tokens)."
   ]
  },
  {
   "cell_type": "code",
   "execution_count": 25,
   "metadata": {
    "colab": {
     "base_uri": "https://localhost:8080/"
    },
    "editable": true,
    "id": "gfi-81dJ0uKA",
    "outputId": "a5846d36-e975-4ae8-92c7-b6891c8557f6",
    "slideshow": {
     "slide_type": ""
    },
    "tags": [
     "hide-input"
    ]
   },
   "outputs": [
    {
     "name": "stdout",
     "output_type": "stream",
     "text": [
      "[[307, 3], [194, 39], [194, 39, 6], [194, 39, 6, 112], [194, 39, 6, 112, 16]]\n"
     ]
    }
   ],
   "source": [
    "ngrams = create_ngrams(sequences, 4)\n",
    "print(ngrams[0:5])"
   ]
  },
  {
   "cell_type": "markdown",
   "metadata": {
    "id": "rJLG5Yos06mJ"
   },
   "source": [
    "## Defining the model\n",
    "\n",
    "We now define the model which aims to harness the power of LSTM (Long Short-Term Memory) networks for the purpose of text prediction, particularly focusing on generating text that mimics the style of Shakespearean English. The model's architecture is designed to understand and replicate the intricate patterns of language use found in Shakespeare's works.\n",
    "\n",
    "The model begins with an `Embedding` layer, which is essential for converting the integer-encoded vocabulary into dense vectors of fixed size. This layer acts as a lookup table that allows the model to learn a dense representation of words, capturing semantic meanings that are vital for understanding the context of different words in sentences. The `output_dim` parameter is set to 150, indicating that each word is represented by a 150-dimensional vector. The `input_shape` is determined by `seq_len-1`, preparing the model to process sequences of a specific length, minus one for the word to be predicted.\n",
    "\n",
    "Following the `Embedding` layer, we incorporate an `LSTM` layer with 150 units. LSTM layers are crucial for sequence prediction problems because they can maintain long-term dependencies, overcoming the vanishing gradient problem common in traditional recurrent neural networks (RNNs). The `activation` function used is `tanh`, chosen for its efficacy in LSTMs over alternatives like `relu`, providing a balance between linear and non-linear transformations.\n",
    "\n",
    "The final layer is a `Dense` layer with a `softmax` activation function. This layer outputs a probability distribution over the entire vocabulary for the next word prediction, based on the context provided by the input sequence. The size of this layer matches the vocabulary size, ensuring each word in the vocabulary can be predicted.\n",
    "\n",
    "An `Adam` optimizer with a learning rate of `0.0005` is used to compile the model. This reduced learning rate is a deliberate choice to mitigate the risk of exploding gradients, a common issue in training deep neural networks, especially on complex sequence data. The model uses `sparse_categorical_crossentropy` as the loss function, appropriate for this multi-class classification problem, and tracks `accuracy` as a metric to evaluate its performance."
   ]
  },
  {
   "cell_type": "code",
   "execution_count": 26,
   "metadata": {
    "editable": true,
    "id": "SDmJ_cRr08wm",
    "slideshow": {
     "slide_type": ""
    },
    "tags": [
     "hide-input"
    ]
   },
   "outputs": [],
   "source": [
    "# Create a model with an embeddings layer.\n",
    "from tensorflow.keras.models import Sequential\n",
    "from tensorflow.keras.layers import Embedding, LSTM, Dense, Dropout\n",
    "from tensorflow.keras.optimizers.schedules import ExponentialDecay\n",
    "from tensorflow.keras.optimizers import Adam\n",
    "from tensorflow.keras.regularizers import l2\n",
    "\n",
    "def create_lstm_model(vocab_size, seq_len):\n",
    "    model = Sequential(name=\"LSTM\")\n",
    "    # In Keras3, Embedding doesn't have input_length, instead use input_shape.\n",
    "    model.add(Embedding(vocab_size, output_dim=150, input_shape=(seq_len-1,)))\n",
    "    # Explicitly set the activation function to 'tanh', as 'relu' is not recommended for LSTM layers\n",
    "    model.add(LSTM(150, activation='tanh'))\n",
    "    model.add(Dense(vocab_size, activation='softmax'))\n",
    "\n",
    "    # Adjust learning rate to 1/4 of its default value, 0.001 -> 0.00050 - this is to reduce the chance of exploding gradients\n",
    "    optimizer = Adam(learning_rate=0.0005)\n",
    "\n",
    "    model.compile(loss='sparse_categorical_crossentropy', optimizer=optimizer, metrics=['accuracy'])\n",
    "    return model"
   ]
  },
  {
   "cell_type": "markdown",
   "metadata": {
    "id": "3BvOq6A21Cbz"
   },
   "source": [
    "## Padding sequences\n",
    "\n",
    "Not all sequences (lines of text) are the same size, but the model requires a constant size for its input. This discrepancy poses a challenge in training neural network models, especially those dealing with language processing. To address this issue, a technique known as padding is employed to standardize the length of sequences.\n",
    "\n",
    "Padding involves altering the sequences to ensure they all have the same length. This is achieved by adding a special type of token, often referred to as a \"pad token,\" to the sequences that are shorter than the required length. Conversely, sequences that exceed the desired length can be truncated to fit the model's requirements. The choice of where to pad (beginning or end of the sequence) or truncate (beginning or end) can depend on the specific application and the nature of the data.\n",
    "\n",
    "In practice, padding is applied before feeding the sequences into the model, ensuring that every input sequence has the same shape. This uniformity is crucial for the model to perform batch processing, a computational efficiency technique where multiple sequences are processed simultaneously. Batch processing significantly speeds up the training and inference phases by leveraging parallel computation capabilities.\n",
    "\n",
    "For instance, consider a scenario where we are training a model on a dataset of sentences with varying lengths, and our model requires each input sequence to have a length of 10 words. A sentence with 8 words would be padded with 2 pad tokens at the end (or the beginning, as per the chosen strategy), while a sentence with 12 words might be truncated to the first (or last) 10 words."
   ]
  },
  {
   "cell_type": "code",
   "execution_count": 27,
   "metadata": {
    "editable": true,
    "id": "oN0EtsNL1Eex",
    "slideshow": {
     "slide_type": ""
    },
    "tags": [
     "hide-input"
    ]
   },
   "outputs": [],
   "source": [
    "import numpy as np\n",
    "\n",
    "max_seq_len = max([len(x) for x in ngrams])  # Determine the max length after forming n-grams\n",
    "padded_sequences = np.array(pad_sequences(ngrams, maxlen=max_seq_len, padding='pre'))\n",
    "input_sequences = padded_sequences[:, :-1]\n",
    "target_words = padded_sequences[:, -1]"
   ]
  },
  {
   "cell_type": "markdown",
   "metadata": {
    "id": "rV9m2uel1KLj"
   },
   "source": [
    "## Verifying sequences\n",
    "\n",
    "Once all sequences have been appropriately padded to meet the model's requirements for uniform input size, it becomes crucial to verify the integrity and appropriateness of these modified sequences. Ensuring the correctness of padded sequences involves checking that there are no empty sequences and that sequences are not solely composed of zeros, which represent the padding tokens. This verification step is fundamental to ensuring the model receives meaningful and accurate data for training.\n",
    "\n",
    "The presence of sequences filled exclusively with pad tokens (zeros) or empty sequences could significantly impact the model's learning process. Such sequences do not provide any valuable information or context that the model can learn from, potentially skewing the training process or leading to biases in the model's predictions. For instance, a model trained on a dataset with a high number of zero-only sequences might become inclined to predict pad tokens more frequently, reducing its overall effectiveness in generating or classifying text."
   ]
  },
  {
   "cell_type": "code",
   "execution_count": 28,
   "metadata": {
    "colab": {
     "base_uri": "https://localhost:8080/"
    },
    "editable": true,
    "id": "fHzkmOWK1MqW",
    "outputId": "33cd3c86-690c-45db-da85-992f1aadc58e",
    "slideshow": {
     "slide_type": ""
    },
    "tags": [
     "hide-input"
    ]
   },
   "outputs": [
    {
     "name": "stdout",
     "output_type": "stream",
     "text": [
      "Checking input sequences...\n",
      "Input sequences are valid.\n",
      "Checking target words...\n",
      "Target words are valid.\n",
      "Max sequence length: 163\n",
      "x size: 175704\n",
      "y size: 175704\n",
      "Vocabulary size: 27390\n",
      "Example input sequence: [[   0    0    0    0    0    0    0    0    0    0    0    0    0    0\n",
      "     0    0    0    0    0    0    0    0    0    0    0    0    0    0\n",
      "     0    0    0    0    0    0    0    0    0    0    0    0    0    0\n",
      "     0    0    0    0    0    0    0    0    0    0    0    0    0    0\n",
      "     0    0    0    0    0    0    0    0    0    0    0    0    0    0\n",
      "     0    0    0    0    0    0    0    0    0    0    0    0    0    0\n",
      "     0    0    0    0    0    0    0    0    0    0    0    0    0    0\n",
      "     0    0    0    0    0    0    0    0    0    0    0    0    0    0\n",
      "     0    0    0    0    0    0    0    0    0    0    0    0    0    0\n",
      "     0    0    0    0    0    0    0    0    0    0    0    0    0    0\n",
      "     0    0    0    0    0    0    0    0    0    0    0    0    0    0\n",
      "     0  194   39    6  112   16 3956  197]\n",
      " [   0    0    0    0    0    0    0    0    0    0    0    0    0    0\n",
      "     0    0    0    0    0    0    0    0    0    0    0    0    0    0\n",
      "     0    0    0    0    0    0    0    0    0    0    0    0    0    0\n",
      "     0    0    0    0    0    0    0    0    0    0    0    0    0    0\n",
      "     0    0    0    0    0    0    0    0    0    0    0    0    0    0\n",
      "     0    0    0    0    0    0    0    0    0    0    0    0    0    0\n",
      "     0    0    0    0    0    0    0    0    0    0    0    0    0    0\n",
      "     0    0    0    0    0    0    0    0    0    0    0    0    0    0\n",
      "     0    0    0    0    0    0    0    0    0    0    0    0    0    0\n",
      "     0    0    0    0    0    0    0    0    0    0    0    0    0    0\n",
      "     0    0    0    0    0    0    0    0    0    0    0    0    0    0\n",
      "   194   39    6  112   16 3956  197    4]]\n",
      "Example target word: [   4 9703]\n"
     ]
    }
   ],
   "source": [
    "# Check that the input sequences are not empty, that are not all zeros, and that there are no NaN values. Print an error if they do.\n",
    "def check_input_sequences(input_sequences):\n",
    "    print(\"Checking input sequences...\")\n",
    "    for sequence in input_sequences:\n",
    "        if len(sequence) == 0 or (len(sequence) == 1 and sequence[0] == 0):\n",
    "            print(\"Error: input sequence contains an empty sequence or a sequence of only zeros.\")\n",
    "            return\n",
    "        for i in sequence:\n",
    "            if np.isnan(i) or np.isinf(i):\n",
    "                print(\"Error: input sequence contains NaN or Inf values.\")\n",
    "                return\n",
    "    print(\"Input sequences are valid.\")\n",
    "\n",
    "check_input_sequences(input_sequences)\n",
    "\n",
    "# Check that the target words are not empty, that are not all zeros, and that there are no NaN values. Print an error if they do.\n",
    "def check_target_words(target_words):\n",
    "    print(\"Checking target words...\")\n",
    "    if len(target_words) == 0 or (len(target_words) == 1 and target_words[0] == 0):\n",
    "        print(\"Error: target words contain an empty sequence or a sequence of only zeros.\")\n",
    "        return\n",
    "    for i in target_words:\n",
    "        if np.isnan(i) or np.isinf(i) or i == 0:\n",
    "            print(\"Error: target words contain 0, NaN or Inf values.\")\n",
    "            return\n",
    "    print(\"Target words are valid.\")\n",
    "\n",
    "check_target_words(target_words)\n",
    "\n",
    "vocab_size = len(tokenizer.word_index) + 1\n",
    "print(\"Max sequence length:\", max_seq_len)\n",
    "print(\"x size:\", len(input_sequences))\n",
    "print(\"y size:\", len(target_words))\n",
    "print(\"Vocabulary size:\", vocab_size)\n",
    "print(\"Example input sequence:\", input_sequences[7:9])\n",
    "print(\"Example target word:\", target_words[7:9])"
   ]
  },
  {
   "cell_type": "markdown",
   "metadata": {
    "id": "oc28Ru081OUn"
   },
   "source": [
    "## Early stopping and instantiating the model\n",
    "\n",
    "Overfitting occurs when a model learns the training data too well, capturing noise and outliers in the process, which ultimately leads to poor performance on unseen data. Let's break down the early stopping aspect and then briefly touch on the model creation:\n",
    "\n",
    "### Early Stopping\n",
    "\n",
    "**Early stopping** is a form of regularization used to avoid overfitting by halting the training process if the model's performance stops improving on a held-out validation dataset. Here's how the provided `EarlyStopping` callback configuration works:\n",
    "\n",
    "- **`monitor='loss'`**: This specifies that the callback should monitor the training loss. The objective is to minimize this loss. Monitoring allows the callback to track the performance of the model and make decisions based on it.\n",
    "\n",
    "- **`patience=5`**: Patience determines the number of epochs with no improvement after which training will be stopped. In this case, training will continue for 5 more epochs without any improvement in the monitored metric (loss) before stopping.\n",
    "\n",
    "- **`min_delta=0`**: This parameter sets the minimum change in the monitored quantity to qualify as an improvement. Setting it to 0 means any improvement in loss, no matter how small, is considered significant as long as it is a decrease.\n",
    "\n",
    "- **`mode='min'`**: Since the goal is to minimize the loss, the mode is set to 'min'. This means training will stop when the quantity monitored (loss) has stopped decreasing. If the mode were 'max', it would stop training when the monitored quantity stops increasing (useful for metrics like accuracy).\n",
    "\n",
    "- **`verbose=1`**: This enables verbose output, which means the epoch at which training stops will be printed to the console.\n",
    "\n",
    "### LSTM Model Creation\n",
    "\n",
    "Following the early stopping configuration, the code initializes the LSTM model using a `create_lstm_model` function, which is not fully detailed here but likely constructs a sequential model with LSTM layers. The parameters `vocab_size` and `max_seq_len` suggest the model is designed for text processing, where `vocab_size` indicates the size of the vocabulary (number of unique words) the model can recognize, and `max_seq_len` specifies the length of the input sequences.\n",
    "\n",
    "- **`batch_size=32`**: This specifies that 32 samples will be processed before the model's internal parameters are updated. Batch size is an important hyperparameter that can affect the convergence and performance of the model."
   ]
  },
  {
   "cell_type": "code",
   "execution_count": 29,
   "metadata": {
    "colab": {
     "base_uri": "https://localhost:8080/"
    },
    "editable": true,
    "id": "wuo51Zti1VKi",
    "outputId": "6e4964ce-b871-4db1-a866-6e9d3c29eb3d",
    "slideshow": {
     "slide_type": ""
    },
    "tags": [
     "hide-input"
    ]
   },
   "outputs": [
    {
     "name": "stdout",
     "output_type": "stream",
     "text": [
      "Model: \"LSTM\"\n",
      "_________________________________________________________________\n",
      " Layer (type)                Output Shape              Param #   \n",
      "=================================================================\n",
      " embedding_2 (Embedding)     (None, 162, 150)          4108500   \n",
      "                                                                 \n",
      " lstm_3 (LSTM)               (None, 150)               180600    \n",
      "                                                                 \n",
      " dense_2 (Dense)             (None, 27390)             4135890   \n",
      "                                                                 \n",
      "=================================================================\n",
      "Total params: 8424990 (32.14 MB)\n",
      "Trainable params: 8424990 (32.14 MB)\n",
      "Non-trainable params: 0 (0.00 Byte)\n",
      "_________________________________________________________________\n",
      "None\n"
     ]
    }
   ],
   "source": [
    "# Add early stopping to prevent overfitting.\n",
    "from tensorflow.keras.callbacks import EarlyStopping\n",
    "early_stopping_callback = EarlyStopping(\n",
    "    monitor='loss',  # Monitor the training loss\n",
    "    patience=5,  # Number of epochs with no improvement after which training will be stopped\n",
    "    min_delta=0,  # Minimum change in the monitored quantity to qualify as an improvement\n",
    "    mode='min',  # In 'min' mode, training will stop when the quantity monitored has stopped decreasing\n",
    "    verbose=1\n",
    ")\n",
    "\n",
    "# Create the LSTM model\n",
    "batch_size = 32\n",
    "model = create_lstm_model(vocab_size, max_seq_len)\n",
    "print(model.summary())"
   ]
  },
  {
   "cell_type": "markdown",
   "metadata": {
    "id": "_NWp-0cZ1aWM"
   },
   "source": [
    "## Training\n",
    "\n",
    "We finally run the training of our LSTM model with the setup previously discussed, including the early stopping mechanism to prevent overfitting. This process involves feeding the model with our preprocessed and padded sequences of text data, along with their corresponding targets, and allowing it to learn how to predict the next word in a sequence based on its current understanding of the text's structure and content."
   ]
  },
  {
   "cell_type": "code",
   "execution_count": 30,
   "metadata": {
    "colab": {
     "base_uri": "https://localhost:8080/"
    },
    "editable": true,
    "id": "TwnX_HA71b9V",
    "outputId": "7a3101fd-3aa7-4e4c-a1c6-8bfbe4bcdff7",
    "slideshow": {
     "slide_type": ""
    },
    "tags": [
     "hide-input"
    ]
   },
   "outputs": [
    {
     "name": "stdout",
     "output_type": "stream",
     "text": [
      "Epoch 1/500\n",
      "5491/5491 [==============================] - 109s 19ms/step - loss: 6.9633 - accuracy: 0.0431\n",
      "Epoch 2/500\n",
      "5491/5491 [==============================] - 90s 16ms/step - loss: 6.3297 - accuracy: 0.0803\n",
      "Epoch 3/500\n",
      "5491/5491 [==============================] - 88s 16ms/step - loss: 6.0070 - accuracy: 0.0977\n",
      "Epoch 4/500\n",
      "5491/5491 [==============================] - 87s 16ms/step - loss: 5.7569 - accuracy: 0.1085\n",
      "Epoch 5/500\n",
      "5491/5491 [==============================] - 87s 16ms/step - loss: 5.5293 - accuracy: 0.1175\n",
      "Epoch 6/500\n",
      "...\n",
      "...\n",
      "5491/5491 [==============================] - 86s 16ms/step - loss: 1.1493 - accuracy: 0.7512\n",
      "Epoch 135/500\n",
      "5491/5491 [==============================] - 86s 16ms/step - loss: 1.1521 - accuracy: 0.7501\n",
      "Epoch 136/500\n",
      "5491/5491 [==============================] - 87s 16ms/step - loss: 1.1520 - accuracy: 0.7494\n",
      "Epoch 137/500\n",
      "5491/5491 [==============================] - 86s 16ms/step - loss: 1.2544 - accuracy: 0.7220\n",
      "Epoch 138/500\n",
      "5491/5491 [==============================] - 86s 16ms/step - loss: 1.3315 - accuracy: 0.6990\n",
      "Epoch 139/500\n",
      "5491/5491 [==============================] - 87s 16ms/step - loss: 1.1972 - accuracy: 0.7371\n",
      "Epoch 139: early stopping\n"
     ]
    },
    {
     "data": {
      "text/plain": [
       "<keras.src.callbacks.History at 0x788ae09b1900>"
      ]
     },
     "execution_count": 30,
     "metadata": {},
     "output_type": "execute_result"
    }
   ],
   "source": [
    "import datetime\n",
    "from keras.callbacks import TensorBoard\n",
    "\n",
    "# Create a unique name for the log directory based on the current time and set callback\n",
    "log_dir = \"logs/fit/\" + model.name + \"_\" + \"batch\" + str(batch_size) + \"-\" + datetime.datetime.now().strftime(\"%Y%m%d-%H%M%S\")\n",
    "tensorboard_callback = TensorBoard(log_dir=log_dir, histogram_freq=1)\n",
    "\n",
    "model.fit(input_sequences,\n",
    "          target_words,\n",
    "          batch_size=batch_size,\n",
    "          epochs=500,\n",
    "          callbacks=[tensorboard_callback, early_stopping_callback])"
   ]
  },
  {
   "cell_type": "markdown",
   "metadata": {
    "id": "LYsiVHul1ids"
   },
   "source": [
    "## Plotting the training history and saving the model\n",
    "\n",
    "Let us now plot the training history, and save the model. We are saving the trained model on the Google Drive to ensure it doesn't get deleted once the running session ends."
   ]
  },
  {
   "cell_type": "code",
   "execution_count": 31,
   "metadata": {
    "colab": {
     "base_uri": "https://localhost:8080/",
     "height": 472
    },
    "editable": true,
    "id": "ctsGc5KL1mHN",
    "outputId": "b26c7354-74bd-433d-be4e-f89a0c77fbf0",
    "slideshow": {
     "slide_type": ""
    },
    "tags": [
     "hide-input"
    ]
   },
   "outputs": [
    {
     "data": {
      "image/png": "[encoded data removed]",
      "text/plain": [
       "<Figure size 640x480 with 1 Axes>"
      ]
     },
     "metadata": {},
     "output_type": "display_data"
    }
   ],
   "source": [
    "# Plot the training history\n",
    "import matplotlib.pyplot as plt\n",
    "\n",
    "def plot_training_history(history):\n",
    "    plt.plot(history.history['accuracy'])\n",
    "    plt.plot(history.history['loss'])\n",
    "    plt.title('Model accuracy and loss')\n",
    "    plt.ylabel('Accuracy and Loss')\n",
    "    plt.xlabel('Epoch')\n",
    "    plt.legend(['Accuracy', 'Loss'], loc='upper left')\n",
    "    plt.show()\n",
    "\n",
    "plot_training_history(model.history)\n",
    "\n",
    "# Save the model\n",
    "model.save(\"/content/drive/MyDrive/Colab Notebooks/shakespeare-\" + model.name + \"-embeddings.keras\")"
   ]
  },
  {
   "cell_type": "markdown",
   "metadata": {
    "id": "4PoYhGqQ0uHw"
   },
   "source": [
    "## Perform a prediction or two\n",
    "\n",
    "Finally we can run predictions based on seed inputs, to see how the model performs."
   ]
  },
  {
   "cell_type": "code",
   "execution_count": 47,
   "metadata": {
    "colab": {
     "base_uri": "https://localhost:8080/"
    },
    "editable": true,
    "id": "DG9m4rOy00mz",
    "outputId": "7cf8740e-5bd2-41bf-fb8c-6922a5252a68",
    "slideshow": {
     "slide_type": ""
    },
    "tags": [
     "hide-input"
    ]
   },
   "outputs": [
    {
     "name": "stdout",
     "output_type": "stream",
     "text": [
      "My kingdom for you are old and say not be true love you fortunes of good duke of\n",
      "My daughter is to know you and my sister nothing my lord friend being nothing now of me\n",
      "If only I were a soldier he is differency between a silver and it from the king henry man\n"
     ]
    }
   ],
   "source": [
    "# Load the model, and the tokenizer\n",
    "\n",
    "from tensorflow.keras.models import load_model\n",
    "import pickle\n",
    "\n",
    "model = load_model(\"/content/drive/MyDrive/Colab Notebooks/shakespeare-\" + model.name + \"-embeddings.keras\")\n",
    "with open('/content/drive/MyDrive/Colab Notebooks/shakespeare-tokenizer.pickle', 'rb') as handle:\n",
    "    tokenizer = pickle.load(handle)\n",
    "\n",
    "# Predict next words based on an input sequence\n",
    "\n",
    "def predict_next_words(seed_text, next_words, model, max_seq_len, tokenizer):\n",
    "  for _ in range(next_words):\n",
    "      token_list = tokenizer.texts_to_sequences([seed_text])[0]\n",
    "      token_list = pad_sequences([token_list], maxlen=max_seq_len-1, padding='pre')\n",
    "      predicted = model.predict(token_list, verbose=0)\n",
    "      predicted_class = np.argmax(predicted, axis=-1)\n",
    "      output_word = \"\"\n",
    "      for word, index in tokenizer.word_index.items():\n",
    "          if index == predicted_class:\n",
    "              output_word = word\n",
    "              break\n",
    "      seed_text += \" \" + output_word\n",
    "  return seed_text\n",
    "\n",
    "seed_texts = [\"My kingdom for\", \"My daughter is\", \"If only I were\"]\n",
    "for seed_text in seed_texts:\n",
    "  next_words = 15\n",
    "  print(predict_next_words(seed_text, next_words, model, max_seq_len, tokenizer))"
   ]
  },
  {
   "cell_type": "markdown",
   "metadata": {
    "id": "T-KVQTmbRTvk"
   },
   "source": [
    "## Final remarks\n",
    "\n",
    "We could demonstrate very simple, contextual text generation based on a primitive Recurrent Neural Network (RNN). Despite being far from the capabilities of a large language model, we can still illustrate the foundational principles that enable these models to generate text based on learned patterns from a given dataset. Through this simplified example, we aim to shed light on how RNNs can grasp basic language structures and produce text that, while not as sophisticated or coherent as that generated by more advanced models like GPT or BERT, still reflects the initial steps towards understanding and replicating human language.\n",
    "\n",
    "Our basic RNN, although limited, can be trained on a small dataset of text to learn sequences of words or characters. After training, it can generate new sequences of text by predicting the next word or character based on a given seed text. This process starts with the model receiving an initial input (the seed), processing it to make a prediction, and then feeding the prediction back into the model as part of the next input sequence."
   ]
  }
 ],
 "metadata": {
  "accelerator": "GPU",
  "colab": {
   "gpuType": "T4",
   "provenance": []
  },
  "kernelspec": {
   "display_name": "Python 3 (ipykernel)",
   "language": "python",
   "name": "python3"
  },
  "language_info": {
   "codemirror_mode": {
    "name": "ipython",
    "version": 3
   },
   "file_extension": ".py",
   "mimetype": "text/x-python",
   "name": "python",
   "nbconvert_exporter": "python",
   "pygments_lexer": "ipython3",
   "version": "3.9.18"
  },
  "nikola": {
   "author": "Pedro Leitao",
   "category": "Machine Learning",
   "date": "2024-03-18 16:01:00",
   "description": "",
   "link": "",
   "slug": "shakespeare-embeddings",
   "tags": "experiments, machine-learning, tensorflow, keras",
   "title": "An embeddings based Recurrent Neural Network (RNN) to predict Shakespearean text",
   "type": "text"
  }
 },
 "nbformat": 4,
 "nbformat_minor": 4
}
