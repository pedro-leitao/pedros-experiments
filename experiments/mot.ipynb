{
 "cells": [
  {
   "cell_type": "code",
   "execution_count": 1,
   "metadata": {
    "metadata": {}
   },
   "outputs": [
    {
     "data": {
      "text/html": [
       "<div>\n",
       "<style scoped>\n",
       "    .dataframe tbody tr th:only-of-type {\n",
       "        vertical-align: middle;\n",
       "    }\n",
       "\n",
       "    .dataframe tbody tr th {\n",
       "        vertical-align: top;\n",
       "    }\n",
       "\n",
       "    .dataframe thead th {\n",
       "        text-align: right;\n",
       "    }\n",
       "</style>\n",
       "<table border=\"1\" class=\"dataframe\">\n",
       "  <thead>\n",
       "    <tr style=\"text-align: right;\">\n",
       "      <th></th>\n",
       "      <th>vehicle_id</th>\n",
       "      <th>test_date</th>\n",
       "      <th>test_class_id</th>\n",
       "      <th>test_type</th>\n",
       "      <th>test_result</th>\n",
       "      <th>test_mileage</th>\n",
       "      <th>postcode_area</th>\n",
       "      <th>make</th>\n",
       "      <th>model</th>\n",
       "      <th>colour</th>\n",
       "      <th>fuel_type</th>\n",
       "      <th>cylinder_capacity</th>\n",
       "      <th>first_use_date</th>\n",
       "    </tr>\n",
       "  </thead>\n",
       "  <tbody>\n",
       "    <tr>\n",
       "      <th>0</th>\n",
       "      <td>838565361</td>\n",
       "      <td>2023-01-02</td>\n",
       "      <td>4</td>\n",
       "      <td>NT</td>\n",
       "      <td>P</td>\n",
       "      <td>179357.0</td>\n",
       "      <td>NW</td>\n",
       "      <td>TOYOTA</td>\n",
       "      <td>PRIUS +</td>\n",
       "      <td>WHITE</td>\n",
       "      <td>HY</td>\n",
       "      <td>1798.0</td>\n",
       "      <td>2016-06-17</td>\n",
       "    </tr>\n",
       "    <tr>\n",
       "      <th>1</th>\n",
       "      <td>484499974</td>\n",
       "      <td>2023-01-01</td>\n",
       "      <td>4</td>\n",
       "      <td>NT</td>\n",
       "      <td>P</td>\n",
       "      <td>300072.0</td>\n",
       "      <td>B</td>\n",
       "      <td>TOYOTA</td>\n",
       "      <td>PRIUS</td>\n",
       "      <td>RED</td>\n",
       "      <td>HY</td>\n",
       "      <td>1500.0</td>\n",
       "      <td>2008-09-13</td>\n",
       "    </tr>\n",
       "    <tr>\n",
       "      <th>2</th>\n",
       "      <td>53988366</td>\n",
       "      <td>2023-01-02</td>\n",
       "      <td>4</td>\n",
       "      <td>NT</td>\n",
       "      <td>PRS</td>\n",
       "      <td>307888.0</td>\n",
       "      <td>HA</td>\n",
       "      <td>TOYOTA</td>\n",
       "      <td>PRIUS</td>\n",
       "      <td>GREY</td>\n",
       "      <td>HY</td>\n",
       "      <td>1497.0</td>\n",
       "      <td>2010-01-15</td>\n",
       "    </tr>\n",
       "    <tr>\n",
       "      <th>3</th>\n",
       "      <td>606755010</td>\n",
       "      <td>2023-01-02</td>\n",
       "      <td>4</td>\n",
       "      <td>NT</td>\n",
       "      <td>F</td>\n",
       "      <td>65810.0</td>\n",
       "      <td>SE</td>\n",
       "      <td>TOYOTA</td>\n",
       "      <td>PRIUS</td>\n",
       "      <td>SILVER</td>\n",
       "      <td>HY</td>\n",
       "      <td>1497.0</td>\n",
       "      <td>2007-03-28</td>\n",
       "    </tr>\n",
       "    <tr>\n",
       "      <th>4</th>\n",
       "      <td>606755010</td>\n",
       "      <td>2023-01-02</td>\n",
       "      <td>4</td>\n",
       "      <td>RT</td>\n",
       "      <td>P</td>\n",
       "      <td>65810.0</td>\n",
       "      <td>SE</td>\n",
       "      <td>TOYOTA</td>\n",
       "      <td>PRIUS</td>\n",
       "      <td>SILVER</td>\n",
       "      <td>HY</td>\n",
       "      <td>1497.0</td>\n",
       "      <td>2007-03-28</td>\n",
       "    </tr>\n",
       "    <tr>\n",
       "      <th>...</th>\n",
       "      <td>...</td>\n",
       "      <td>...</td>\n",
       "      <td>...</td>\n",
       "      <td>...</td>\n",
       "      <td>...</td>\n",
       "      <td>...</td>\n",
       "      <td>...</td>\n",
       "      <td>...</td>\n",
       "      <td>...</td>\n",
       "      <td>...</td>\n",
       "      <td>...</td>\n",
       "      <td>...</td>\n",
       "      <td>...</td>\n",
       "    </tr>\n",
       "    <tr>\n",
       "      <th>42216716</th>\n",
       "      <td>1401380910</td>\n",
       "      <td>2023-12-31</td>\n",
       "      <td>4</td>\n",
       "      <td>NT</td>\n",
       "      <td>P</td>\n",
       "      <td>85583.0</td>\n",
       "      <td>EN</td>\n",
       "      <td>HONDA</td>\n",
       "      <td>BEAT</td>\n",
       "      <td>SILVER</td>\n",
       "      <td>PE</td>\n",
       "      <td>660.0</td>\n",
       "      <td>1999-10-01</td>\n",
       "    </tr>\n",
       "    <tr>\n",
       "      <th>42216717</th>\n",
       "      <td>625178603</td>\n",
       "      <td>2023-12-31</td>\n",
       "      <td>7</td>\n",
       "      <td>NT</td>\n",
       "      <td>P</td>\n",
       "      <td>227563.0</td>\n",
       "      <td>SK</td>\n",
       "      <td>RENAULT</td>\n",
       "      <td>MASTER</td>\n",
       "      <td>WHITE</td>\n",
       "      <td>DI</td>\n",
       "      <td>2298.0</td>\n",
       "      <td>2016-09-01</td>\n",
       "    </tr>\n",
       "    <tr>\n",
       "      <th>42216718</th>\n",
       "      <td>820545620</td>\n",
       "      <td>2023-12-31</td>\n",
       "      <td>4</td>\n",
       "      <td>NT</td>\n",
       "      <td>P</td>\n",
       "      <td>120115.0</td>\n",
       "      <td>S</td>\n",
       "      <td>PEUGEOT</td>\n",
       "      <td>207</td>\n",
       "      <td>SILVER</td>\n",
       "      <td>DI</td>\n",
       "      <td>1560.0</td>\n",
       "      <td>2010-01-21</td>\n",
       "    </tr>\n",
       "    <tr>\n",
       "      <th>42216719</th>\n",
       "      <td>941704896</td>\n",
       "      <td>2023-12-31</td>\n",
       "      <td>4</td>\n",
       "      <td>NT</td>\n",
       "      <td>P</td>\n",
       "      <td>141891.0</td>\n",
       "      <td>S</td>\n",
       "      <td>NISSAN</td>\n",
       "      <td>MICRA</td>\n",
       "      <td>RED</td>\n",
       "      <td>PE</td>\n",
       "      <td>1240.0</td>\n",
       "      <td>2009-06-25</td>\n",
       "    </tr>\n",
       "    <tr>\n",
       "      <th>42216720</th>\n",
       "      <td>5225492</td>\n",
       "      <td>2023-12-31</td>\n",
       "      <td>4</td>\n",
       "      <td>NT</td>\n",
       "      <td>P</td>\n",
       "      <td>157901.0</td>\n",
       "      <td>S</td>\n",
       "      <td>VAUXHALL</td>\n",
       "      <td>VECTRA</td>\n",
       "      <td>SILVER</td>\n",
       "      <td>PE</td>\n",
       "      <td>1796.0</td>\n",
       "      <td>2006-12-31</td>\n",
       "    </tr>\n",
       "  </tbody>\n",
       "</table>\n",
       "<p>42216721 rows × 13 columns</p>\n",
       "</div>"
      ],
      "text/plain": [
       "          vehicle_id   test_date  test_class_id test_type test_result  \\\n",
       "0          838565361  2023-01-02              4        NT           P   \n",
       "1          484499974  2023-01-01              4        NT           P   \n",
       "2           53988366  2023-01-02              4        NT         PRS   \n",
       "3          606755010  2023-01-02              4        NT           F   \n",
       "4          606755010  2023-01-02              4        RT           P   \n",
       "...              ...         ...            ...       ...         ...   \n",
       "42216716  1401380910  2023-12-31              4        NT           P   \n",
       "42216717   625178603  2023-12-31              7        NT           P   \n",
       "42216718   820545620  2023-12-31              4        NT           P   \n",
       "42216719   941704896  2023-12-31              4        NT           P   \n",
       "42216720     5225492  2023-12-31              4        NT           P   \n",
       "\n",
       "          test_mileage postcode_area      make    model  colour fuel_type  \\\n",
       "0             179357.0            NW    TOYOTA  PRIUS +   WHITE        HY   \n",
       "1             300072.0             B    TOYOTA    PRIUS     RED        HY   \n",
       "2             307888.0            HA    TOYOTA    PRIUS    GREY        HY   \n",
       "3              65810.0            SE    TOYOTA    PRIUS  SILVER        HY   \n",
       "4              65810.0            SE    TOYOTA    PRIUS  SILVER        HY   \n",
       "...                ...           ...       ...      ...     ...       ...   \n",
       "42216716       85583.0            EN     HONDA     BEAT  SILVER        PE   \n",
       "42216717      227563.0            SK   RENAULT   MASTER   WHITE        DI   \n",
       "42216718      120115.0             S   PEUGEOT      207  SILVER        DI   \n",
       "42216719      141891.0             S    NISSAN    MICRA     RED        PE   \n",
       "42216720      157901.0             S  VAUXHALL   VECTRA  SILVER        PE   \n",
       "\n",
       "          cylinder_capacity first_use_date  \n",
       "0                    1798.0     2016-06-17  \n",
       "1                    1500.0     2008-09-13  \n",
       "2                    1497.0     2010-01-15  \n",
       "3                    1497.0     2007-03-28  \n",
       "4                    1497.0     2007-03-28  \n",
       "...                     ...            ...  \n",
       "42216716              660.0     1999-10-01  \n",
       "42216717             2298.0     2016-09-01  \n",
       "42216718             1560.0     2010-01-21  \n",
       "42216719             1240.0     2009-06-25  \n",
       "42216720             1796.0     2006-12-31  \n",
       "\n",
       "[42216721 rows x 13 columns]"
      ]
     },
     "execution_count": 1,
     "metadata": {},
     "output_type": "execute_result"
    }
   ],
   "source": [
    "# Load .data/mot/test_results.csv as a dataframe\n",
    "\n",
    "import pandas as pd\n",
    "import os\n",
    "\n",
    "mot = pd.read_csv('.data/mot/test_result.csv', sep='|')\n",
    "\n",
    "# drop the test_id and vehicle_id columns\n",
    "mot = mot.drop(['test_id'], axis=1)\n",
    "mot"
   ]
  },
  {
   "cell_type": "markdown",
   "metadata": {},
   "source": [
    "## Pre-processing"
   ]
  },
  {
   "cell_type": "markdown",
   "metadata": {},
   "source": []
  },
  {
   "cell_type": "code",
   "execution_count": 2,
   "metadata": {
    "metadata": {}
   },
   "outputs": [
    {
     "data": {
      "text/html": [
       "<div>\n",
       "<style scoped>\n",
       "    .dataframe tbody tr th:only-of-type {\n",
       "        vertical-align: middle;\n",
       "    }\n",
       "\n",
       "    .dataframe tbody tr th {\n",
       "        vertical-align: top;\n",
       "    }\n",
       "\n",
       "    .dataframe thead th {\n",
       "        text-align: right;\n",
       "    }\n",
       "</style>\n",
       "<table border=\"1\" class=\"dataframe\">\n",
       "  <thead>\n",
       "    <tr style=\"text-align: right;\">\n",
       "      <th></th>\n",
       "      <th>vehicle_id</th>\n",
       "      <th>test_date</th>\n",
       "      <th>test_class_id</th>\n",
       "      <th>test_type</th>\n",
       "      <th>test_result</th>\n",
       "      <th>test_mileage</th>\n",
       "      <th>postcode_area</th>\n",
       "      <th>make</th>\n",
       "      <th>model</th>\n",
       "      <th>colour</th>\n",
       "      <th>fuel_type</th>\n",
       "      <th>cylinder_capacity</th>\n",
       "      <th>first_use_date</th>\n",
       "      <th>age</th>\n",
       "      <th>age_years</th>\n",
       "      <th>make_model</th>\n",
       "    </tr>\n",
       "  </thead>\n",
       "  <tbody>\n",
       "    <tr>\n",
       "      <th>0</th>\n",
       "      <td>838565361</td>\n",
       "      <td>2023-01-02</td>\n",
       "      <td>4</td>\n",
       "      <td>NT</td>\n",
       "      <td>P</td>\n",
       "      <td>179357.0</td>\n",
       "      <td>NW</td>\n",
       "      <td>TOYOTA</td>\n",
       "      <td>PRIUS +</td>\n",
       "      <td>WHITE</td>\n",
       "      <td>HY</td>\n",
       "      <td>1798.0</td>\n",
       "      <td>2016-06-17</td>\n",
       "      <td>2390</td>\n",
       "      <td>6.543463</td>\n",
       "      <td>TOYOTA PRIUS +</td>\n",
       "    </tr>\n",
       "    <tr>\n",
       "      <th>1</th>\n",
       "      <td>484499974</td>\n",
       "      <td>2023-01-01</td>\n",
       "      <td>4</td>\n",
       "      <td>NT</td>\n",
       "      <td>P</td>\n",
       "      <td>300072.0</td>\n",
       "      <td>B</td>\n",
       "      <td>TOYOTA</td>\n",
       "      <td>PRIUS</td>\n",
       "      <td>RED</td>\n",
       "      <td>HY</td>\n",
       "      <td>1500.0</td>\n",
       "      <td>2008-09-13</td>\n",
       "      <td>5223</td>\n",
       "      <td>14.299795</td>\n",
       "      <td>TOYOTA PRIUS</td>\n",
       "    </tr>\n",
       "    <tr>\n",
       "      <th>2</th>\n",
       "      <td>53988366</td>\n",
       "      <td>2023-01-02</td>\n",
       "      <td>4</td>\n",
       "      <td>NT</td>\n",
       "      <td>PRS</td>\n",
       "      <td>307888.0</td>\n",
       "      <td>HA</td>\n",
       "      <td>TOYOTA</td>\n",
       "      <td>PRIUS</td>\n",
       "      <td>GREY</td>\n",
       "      <td>HY</td>\n",
       "      <td>1497.0</td>\n",
       "      <td>2010-01-15</td>\n",
       "      <td>4735</td>\n",
       "      <td>12.963723</td>\n",
       "      <td>TOYOTA PRIUS</td>\n",
       "    </tr>\n",
       "    <tr>\n",
       "      <th>3</th>\n",
       "      <td>606755010</td>\n",
       "      <td>2023-01-02</td>\n",
       "      <td>4</td>\n",
       "      <td>NT</td>\n",
       "      <td>F</td>\n",
       "      <td>65810.0</td>\n",
       "      <td>SE</td>\n",
       "      <td>TOYOTA</td>\n",
       "      <td>PRIUS</td>\n",
       "      <td>SILVER</td>\n",
       "      <td>HY</td>\n",
       "      <td>1497.0</td>\n",
       "      <td>2007-03-28</td>\n",
       "      <td>5759</td>\n",
       "      <td>15.767283</td>\n",
       "      <td>TOYOTA PRIUS</td>\n",
       "    </tr>\n",
       "    <tr>\n",
       "      <th>4</th>\n",
       "      <td>606755010</td>\n",
       "      <td>2023-01-02</td>\n",
       "      <td>4</td>\n",
       "      <td>RT</td>\n",
       "      <td>P</td>\n",
       "      <td>65810.0</td>\n",
       "      <td>SE</td>\n",
       "      <td>TOYOTA</td>\n",
       "      <td>PRIUS</td>\n",
       "      <td>SILVER</td>\n",
       "      <td>HY</td>\n",
       "      <td>1497.0</td>\n",
       "      <td>2007-03-28</td>\n",
       "      <td>5759</td>\n",
       "      <td>15.767283</td>\n",
       "      <td>TOYOTA PRIUS</td>\n",
       "    </tr>\n",
       "    <tr>\n",
       "      <th>...</th>\n",
       "      <td>...</td>\n",
       "      <td>...</td>\n",
       "      <td>...</td>\n",
       "      <td>...</td>\n",
       "      <td>...</td>\n",
       "      <td>...</td>\n",
       "      <td>...</td>\n",
       "      <td>...</td>\n",
       "      <td>...</td>\n",
       "      <td>...</td>\n",
       "      <td>...</td>\n",
       "      <td>...</td>\n",
       "      <td>...</td>\n",
       "      <td>...</td>\n",
       "      <td>...</td>\n",
       "      <td>...</td>\n",
       "    </tr>\n",
       "    <tr>\n",
       "      <th>42216716</th>\n",
       "      <td>1401380910</td>\n",
       "      <td>2023-12-31</td>\n",
       "      <td>4</td>\n",
       "      <td>NT</td>\n",
       "      <td>P</td>\n",
       "      <td>85583.0</td>\n",
       "      <td>EN</td>\n",
       "      <td>HONDA</td>\n",
       "      <td>BEAT</td>\n",
       "      <td>SILVER</td>\n",
       "      <td>PE</td>\n",
       "      <td>660.0</td>\n",
       "      <td>1999-10-01</td>\n",
       "      <td>8857</td>\n",
       "      <td>24.249144</td>\n",
       "      <td>HONDA BEAT</td>\n",
       "    </tr>\n",
       "    <tr>\n",
       "      <th>42216717</th>\n",
       "      <td>625178603</td>\n",
       "      <td>2023-12-31</td>\n",
       "      <td>7</td>\n",
       "      <td>NT</td>\n",
       "      <td>P</td>\n",
       "      <td>227563.0</td>\n",
       "      <td>SK</td>\n",
       "      <td>RENAULT</td>\n",
       "      <td>MASTER</td>\n",
       "      <td>WHITE</td>\n",
       "      <td>DI</td>\n",
       "      <td>2298.0</td>\n",
       "      <td>2016-09-01</td>\n",
       "      <td>2677</td>\n",
       "      <td>7.329227</td>\n",
       "      <td>RENAULT MASTER</td>\n",
       "    </tr>\n",
       "    <tr>\n",
       "      <th>42216718</th>\n",
       "      <td>820545620</td>\n",
       "      <td>2023-12-31</td>\n",
       "      <td>4</td>\n",
       "      <td>NT</td>\n",
       "      <td>P</td>\n",
       "      <td>120115.0</td>\n",
       "      <td>S</td>\n",
       "      <td>PEUGEOT</td>\n",
       "      <td>207</td>\n",
       "      <td>SILVER</td>\n",
       "      <td>DI</td>\n",
       "      <td>1560.0</td>\n",
       "      <td>2010-01-21</td>\n",
       "      <td>5092</td>\n",
       "      <td>13.941136</td>\n",
       "      <td>PEUGEOT 207</td>\n",
       "    </tr>\n",
       "    <tr>\n",
       "      <th>42216719</th>\n",
       "      <td>941704896</td>\n",
       "      <td>2023-12-31</td>\n",
       "      <td>4</td>\n",
       "      <td>NT</td>\n",
       "      <td>P</td>\n",
       "      <td>141891.0</td>\n",
       "      <td>S</td>\n",
       "      <td>NISSAN</td>\n",
       "      <td>MICRA</td>\n",
       "      <td>RED</td>\n",
       "      <td>PE</td>\n",
       "      <td>1240.0</td>\n",
       "      <td>2009-06-25</td>\n",
       "      <td>5302</td>\n",
       "      <td>14.516085</td>\n",
       "      <td>NISSAN MICRA</td>\n",
       "    </tr>\n",
       "    <tr>\n",
       "      <th>42216720</th>\n",
       "      <td>5225492</td>\n",
       "      <td>2023-12-31</td>\n",
       "      <td>4</td>\n",
       "      <td>NT</td>\n",
       "      <td>P</td>\n",
       "      <td>157901.0</td>\n",
       "      <td>S</td>\n",
       "      <td>VAUXHALL</td>\n",
       "      <td>VECTRA</td>\n",
       "      <td>SILVER</td>\n",
       "      <td>PE</td>\n",
       "      <td>1796.0</td>\n",
       "      <td>2006-12-31</td>\n",
       "      <td>6209</td>\n",
       "      <td>16.999316</td>\n",
       "      <td>VAUXHALL VECTRA</td>\n",
       "    </tr>\n",
       "  </tbody>\n",
       "</table>\n",
       "<p>41457322 rows × 16 columns</p>\n",
       "</div>"
      ],
      "text/plain": [
       "          vehicle_id  test_date  test_class_id test_type test_result  \\\n",
       "0          838565361 2023-01-02              4        NT           P   \n",
       "1          484499974 2023-01-01              4        NT           P   \n",
       "2           53988366 2023-01-02              4        NT         PRS   \n",
       "3          606755010 2023-01-02              4        NT           F   \n",
       "4          606755010 2023-01-02              4        RT           P   \n",
       "...              ...        ...            ...       ...         ...   \n",
       "42216716  1401380910 2023-12-31              4        NT           P   \n",
       "42216717   625178603 2023-12-31              7        NT           P   \n",
       "42216718   820545620 2023-12-31              4        NT           P   \n",
       "42216719   941704896 2023-12-31              4        NT           P   \n",
       "42216720     5225492 2023-12-31              4        NT           P   \n",
       "\n",
       "          test_mileage postcode_area      make    model  colour fuel_type  \\\n",
       "0             179357.0            NW    TOYOTA  PRIUS +   WHITE        HY   \n",
       "1             300072.0             B    TOYOTA    PRIUS     RED        HY   \n",
       "2             307888.0            HA    TOYOTA    PRIUS    GREY        HY   \n",
       "3              65810.0            SE    TOYOTA    PRIUS  SILVER        HY   \n",
       "4              65810.0            SE    TOYOTA    PRIUS  SILVER        HY   \n",
       "...                ...           ...       ...      ...     ...       ...   \n",
       "42216716       85583.0            EN     HONDA     BEAT  SILVER        PE   \n",
       "42216717      227563.0            SK   RENAULT   MASTER   WHITE        DI   \n",
       "42216718      120115.0             S   PEUGEOT      207  SILVER        DI   \n",
       "42216719      141891.0             S    NISSAN    MICRA     RED        PE   \n",
       "42216720      157901.0             S  VAUXHALL   VECTRA  SILVER        PE   \n",
       "\n",
       "          cylinder_capacity first_use_date   age  age_years       make_model  \n",
       "0                    1798.0     2016-06-17  2390   6.543463   TOYOTA PRIUS +  \n",
       "1                    1500.0     2008-09-13  5223  14.299795     TOYOTA PRIUS  \n",
       "2                    1497.0     2010-01-15  4735  12.963723     TOYOTA PRIUS  \n",
       "3                    1497.0     2007-03-28  5759  15.767283     TOYOTA PRIUS  \n",
       "4                    1497.0     2007-03-28  5759  15.767283     TOYOTA PRIUS  \n",
       "...                     ...            ...   ...        ...              ...  \n",
       "42216716              660.0     1999-10-01  8857  24.249144       HONDA BEAT  \n",
       "42216717             2298.0     2016-09-01  2677   7.329227   RENAULT MASTER  \n",
       "42216718             1560.0     2010-01-21  5092  13.941136      PEUGEOT 207  \n",
       "42216719             1240.0     2009-06-25  5302  14.516085     NISSAN MICRA  \n",
       "42216720             1796.0     2006-12-31  6209  16.999316  VAUXHALL VECTRA  \n",
       "\n",
       "[41457322 rows x 16 columns]"
      ]
     },
     "execution_count": 2,
     "metadata": {},
     "output_type": "execute_result"
    }
   ],
   "source": [
    "# Drop any first_use and test_date before 1970, to avoid invalid ages due to the UNIX epoch\n",
    "mot = mot[mot['first_use_date'] >= '1970-01-01']\n",
    "mot = mot[mot['test_date'] >= '1970-01-01']\n",
    "\n",
    "# Calculate an age column (in days) based on the test_date and first_use_date columns\n",
    "mot['test_date'] = pd.to_datetime(mot['test_date'])\n",
    "mot['first_use_date'] = pd.to_datetime(mot['first_use_date'])\n",
    "mot['age'] = (mot['test_date'] - mot['first_use_date']).dt.days\n",
    "mot['age_years'] = mot['age'] / 365.25\n",
    "\n",
    "# Combine make and model into one column\n",
    "mot['make_model'] = mot['make'] + ' ' + mot['model']  # Combine make and model into one column\n",
    "\n",
    "# Let us focus on data where cylinder capacity is between 500 and 5000\n",
    "mot = mot[(mot['cylinder_capacity'] >= 500) & (mot['cylinder_capacity'] <= 5000)]\n",
    "\n",
    "# Drop any negative ages, as they are likely to be errors\n",
    "mot = mot[mot['age'] >= 0]\n",
    "mot"
   ]
  },
  {
   "cell_type": "code",
   "execution_count": 3,
   "metadata": {
    "metadata": {}
   },
   "outputs": [
    {
     "data": {
      "text/html": [
       "<style type=\"text/css\">\n",
       "#T_629d3_row0_col0 {\n",
       "  background-color: #c2e7bb;\n",
       "  color: #000000;\n",
       "}\n",
       "#T_629d3_row0_col1 {\n",
       "  background-color: #ecf8e8;\n",
       "  color: #000000;\n",
       "}\n",
       "#T_629d3_row0_col2 {\n",
       "  background-color: #d5efcf;\n",
       "  color: #000000;\n",
       "}\n",
       "#T_629d3_row1_col0 {\n",
       "  background-color: #f6fcf4;\n",
       "  color: #000000;\n",
       "}\n",
       "#T_629d3_row1_col1 {\n",
       "  background-color: #f0f9ed;\n",
       "  color: #000000;\n",
       "}\n",
       "#T_629d3_row1_col2 {\n",
       "  background-color: #e9f7e5;\n",
       "  color: #000000;\n",
       "}\n",
       "#T_629d3_row2_col0, #T_629d3_row2_col1, #T_629d3_row2_col2 {\n",
       "  background-color: #f7fcf5;\n",
       "  color: #000000;\n",
       "}\n",
       "#T_629d3_row3_col0 {\n",
       "  background-color: #d7efd1;\n",
       "  color: #000000;\n",
       "}\n",
       "#T_629d3_row3_col1 {\n",
       "  background-color: #f1faee;\n",
       "  color: #000000;\n",
       "}\n",
       "#T_629d3_row3_col2 {\n",
       "  background-color: #e7f6e2;\n",
       "  color: #000000;\n",
       "}\n",
       "#T_629d3_row4_col0 {\n",
       "  background-color: #c9eac2;\n",
       "  color: #000000;\n",
       "}\n",
       "#T_629d3_row4_col1 {\n",
       "  background-color: #edf8ea;\n",
       "  color: #000000;\n",
       "}\n",
       "#T_629d3_row4_col2 {\n",
       "  background-color: #d9f0d3;\n",
       "  color: #000000;\n",
       "}\n",
       "#T_629d3_row5_col0 {\n",
       "  background-color: #aedea7;\n",
       "  color: #000000;\n",
       "}\n",
       "#T_629d3_row5_col1 {\n",
       "  background-color: #e8f6e4;\n",
       "  color: #000000;\n",
       "}\n",
       "#T_629d3_row5_col2 {\n",
       "  background-color: #c6e8bf;\n",
       "  color: #000000;\n",
       "}\n",
       "#T_629d3_row6_col0, #T_629d3_row6_col1, #T_629d3_row6_col2 {\n",
       "  background-color: #00441b;\n",
       "  color: #f1f1f1;\n",
       "}\n",
       "</style>\n",
       "<table id=\"T_629d3\">\n",
       "  <thead>\n",
       "    <tr>\n",
       "      <th class=\"blank level0\" >&nbsp;</th>\n",
       "      <th id=\"T_629d3_level0_col0\" class=\"col_heading level0 col0\" >cylinder_capacity</th>\n",
       "      <th id=\"T_629d3_level0_col1\" class=\"col_heading level0 col1\" >test_mileage</th>\n",
       "      <th id=\"T_629d3_level0_col2\" class=\"col_heading level0 col2\" >age</th>\n",
       "    </tr>\n",
       "  </thead>\n",
       "  <tbody>\n",
       "    <tr>\n",
       "      <th id=\"T_629d3_level0_row0\" class=\"row_heading level0 row0\" >mean</th>\n",
       "      <td id=\"T_629d3_row0_col0\" class=\"data row0 col0\" >1697.913108</td>\n",
       "      <td id=\"T_629d3_row0_col1\" class=\"data row0 col1\" >76317.103424</td>\n",
       "      <td id=\"T_629d3_row0_col2\" class=\"data row0 col2\" >3807.270125</td>\n",
       "    </tr>\n",
       "    <tr>\n",
       "      <th id=\"T_629d3_level0_row1\" class=\"row_heading level0 row1\" >std</th>\n",
       "      <td id=\"T_629d3_row1_col0\" class=\"data row1 col0\" >545.823434</td>\n",
       "      <td id=\"T_629d3_row1_col1\" class=\"data row1 col1\" >47942.615679</td>\n",
       "      <td id=\"T_629d3_row1_col2\" class=\"data row1 col2\" >1984.281978</td>\n",
       "    </tr>\n",
       "    <tr>\n",
       "      <th id=\"T_629d3_level0_row2\" class=\"row_heading level0 row2\" >min</th>\n",
       "      <td id=\"T_629d3_row2_col0\" class=\"data row2 col0\" >500.000000</td>\n",
       "      <td id=\"T_629d3_row2_col1\" class=\"data row2 col1\" >1.000000</td>\n",
       "      <td id=\"T_629d3_row2_col2\" class=\"data row2 col2\" >0.000000</td>\n",
       "    </tr>\n",
       "    <tr>\n",
       "      <th id=\"T_629d3_level0_row3\" class=\"row_heading level0 row3\" >25%</th>\n",
       "      <td id=\"T_629d3_row3_col0\" class=\"data row3 col0\" >1339.000000</td>\n",
       "      <td id=\"T_629d3_row3_col1\" class=\"data row3 col1\" >40473.000000</td>\n",
       "      <td id=\"T_629d3_row3_col2\" class=\"data row3 col2\" >2247.000000</td>\n",
       "    </tr>\n",
       "    <tr>\n",
       "      <th id=\"T_629d3_level0_row4\" class=\"row_heading level0 row4\" >50%</th>\n",
       "      <td id=\"T_629d3_row4_col0\" class=\"data row4 col0\" >1597.000000</td>\n",
       "      <td id=\"T_629d3_row4_col1\" class=\"data row4 col1\" >68201.000000</td>\n",
       "      <td id=\"T_629d3_row4_col2\" class=\"data row4 col2\" >3468.000000</td>\n",
       "    </tr>\n",
       "    <tr>\n",
       "      <th id=\"T_629d3_level0_row5\" class=\"row_heading level0 row5\" >75%</th>\n",
       "      <td id=\"T_629d3_row5_col0\" class=\"data row5 col0\" >1995.000000</td>\n",
       "      <td id=\"T_629d3_row5_col1\" class=\"data row5 col1\" >102698.000000</td>\n",
       "      <td id=\"T_629d3_row5_col2\" class=\"data row5 col2\" >5064.000000</td>\n",
       "    </tr>\n",
       "    <tr>\n",
       "      <th id=\"T_629d3_level0_row6\" class=\"row_heading level0 row6\" >max</th>\n",
       "      <td id=\"T_629d3_row6_col0\" class=\"data row6 col0\" >5000.000000</td>\n",
       "      <td id=\"T_629d3_row6_col1\" class=\"data row6 col1\" >999999.000000</td>\n",
       "      <td id=\"T_629d3_row6_col2\" class=\"data row6 col2\" >19711.000000</td>\n",
       "    </tr>\n",
       "  </tbody>\n",
       "</table>\n"
      ],
      "text/plain": [
       "<pandas.io.formats.style.Styler at 0x105c68df0>"
      ]
     },
     "execution_count": 3,
     "metadata": {},
     "output_type": "execute_result"
    }
   ],
   "source": [
    "# Describe the dataframe, limiting to cylinder_capacity, test_mileage and make\n",
    "\n",
    "mot[['cylinder_capacity', 'test_mileage', 'age']].describe().drop('count').style.background_gradient(cmap='Greens')"
   ]
  },
  {
   "cell_type": "code",
   "execution_count": 4,
   "metadata": {
    "metadata": {}
   },
   "outputs": [
    {
     "data": {
      "text/plain": [
       "cylinder_capacity\n",
       "500.0      1840\n",
       "501.0        90\n",
       "502.0        42\n",
       "503.0        44\n",
       "504.0         1\n",
       "          ...  \n",
       "4996.0       43\n",
       "4997.0      550\n",
       "4998.0       91\n",
       "4999.0    13533\n",
       "5000.0    15337\n",
       "Name: count, Length: 3088, dtype: int64"
      ]
     },
     "execution_count": 4,
     "metadata": {},
     "output_type": "execute_result"
    }
   ],
   "source": [
    "# What is the distribution of cylinder_capacity?\n",
    "mot['cylinder_capacity'].value_counts().sort_index()"
   ]
  },
  {
   "cell_type": "code",
   "execution_count": 5,
   "metadata": {
    "metadata": {}
   },
   "outputs": [
    {
     "data": {
      "image/png": "[encoded data removed]",
      "text/plain": [
       "<Figure size 1000x600 with 1 Axes>"
      ]
     },
     "metadata": {},
     "output_type": "display_data"
    }
   ],
   "source": [
    "import matplotlib.pyplot as plt\n",
    "\n",
    "# Calculate the top 10 most common make-model combinations\n",
    "top_vehicles = mot['make_model'].value_counts().head(10)\n",
    "\n",
    "# Plotting\n",
    "plt.figure(figsize=(10, 6))\n",
    "top_vehicles.plot(kind='bar', color='lightgreen', edgecolor='green')\n",
    "plt.title('Top 10 Vehicle Make-Model Combinations')\n",
    "plt.xlabel('Make-Model')\n",
    "plt.ylabel('Frequency')\n",
    "plt.xticks(rotation=45)\n",
    "plt.show()"
   ]
  },
  {
   "cell_type": "code",
   "execution_count": 6,
   "metadata": {
    "metadata": {}
   },
   "outputs": [
    {
     "data": {
      "image/png": "[encoded data removed]",
      "text/plain": [
       "<Figure size 1200x800 with 1 Axes>"
      ]
     },
     "metadata": {},
     "output_type": "display_data"
    }
   ],
   "source": [
    "import squarify\n",
    "\n",
    "# Calculate the top 30 most common makes\n",
    "top_vehicles = mot['make'].value_counts().head(30)\n",
    "\n",
    "labels = top_vehicles.index\n",
    "sizes = top_vehicles.values\n",
    "colors = plt.cm.Spectral_r(sizes / max(sizes))  # Color coding by size\n",
    "\n",
    "# Creating the treemap\n",
    "plt.figure(figsize=(12, 8))\n",
    "squarify.plot(sizes=sizes, label=labels, color=colors, alpha=0.8, text_kwargs={'fontsize': 8})\n",
    "plt.title('Treemap of Top 30 Vehicle Makes')\n",
    "plt.axis('off')  # Remove axes\n",
    "plt.show()"
   ]
  },
  {
   "cell_type": "code",
   "execution_count": 7,
   "metadata": {
    "metadata": {}
   },
   "outputs": [
    {
     "data": {
      "image/png": "[encoded data removed]",
      "text/plain": [
       "<Figure size 1200x800 with 1 Axes>"
      ]
     },
     "metadata": {},
     "output_type": "display_data"
    }
   ],
   "source": [
    "# Calculate the top 30 most common models\n",
    "top_vehicles = mot['model'].value_counts().head(30)\n",
    "\n",
    "labels = top_vehicles.index\n",
    "sizes = top_vehicles.values\n",
    "colors = plt.cm.Spectral_r(sizes / max(sizes))  # Color coding by size\n",
    "\n",
    "# Creating the treemap\n",
    "plt.figure(figsize=(12, 8))\n",
    "squarify.plot(sizes=sizes, label=labels, color=colors, alpha=0.8, text_kwargs={'fontsize': 8})\n",
    "plt.title('Treemap of Top 30 Vehicle Models')\n",
    "plt.axis('off')  # Remove axes\n",
    "plt.show()"
   ]
  },
  {
   "cell_type": "code",
   "execution_count": 9,
   "metadata": {
    "metadata": {}
   },
   "outputs": [
    {
     "data": {
      "image/png": "[encoded data removed]",
      "text/plain": [
       "<Figure size 1000x400 with 10 Axes>"
      ]
     },
     "metadata": {},
     "output_type": "display_data"
    }
   ],
   "source": [
    "import seaborn as sns\n",
    "\n",
    "# Filter for the top 10 makes\n",
    "top_vehicles = mot['make'].value_counts().head(10)\n",
    "\n",
    "# Plot a matrix of histograms per make of the age of vehicles in years\n",
    "fct = sns.FacetGrid(mot[mot['make'].isin(top_vehicles.index)], col='make', col_wrap=5, height=2)\n",
    "fct.map(sns.histplot, 'age_years', bins=10, color='lightgreen', edgecolor='green')\n",
    "fct.set_titles('{col_name}')\n",
    "fct.set_axis_labels('Age (years)', 'Frequency')\n",
    "plt.show()\n"
   ]
  },
  {
   "cell_type": "code",
   "execution_count": 10,
   "metadata": {
    "metadata": {}
   },
   "outputs": [
    {
     "data": {
      "image/png": "[encoded data removed]",
      "text/plain": [
       "<Figure size 1000x400 with 10 Axes>"
      ]
     },
     "metadata": {},
     "output_type": "display_data"
    }
   ],
   "source": [
    "# Filter for the top 10 models\n",
    "top_vehicles = mot['model'].value_counts().head(10)\n",
    "\n",
    "# Plot a matrix of histograms per make of the age of vehicles in years\n",
    "fct = sns.FacetGrid(mot[mot['model'].isin(top_vehicles.index)], col='model', col_wrap=5, height=2)\n",
    "fct.map(sns.histplot, 'age_years', bins=10, color='lightgreen', edgecolor='green')\n",
    "fct.set_titles('{col_name}')\n",
    "fct.set_axis_labels('Age (years)', 'Frequency')\n",
    "plt.show()"
   ]
  },
  {
   "cell_type": "code",
   "execution_count": 11,
   "metadata": {
    "metadata": {}
   },
   "outputs": [
    {
     "data": {
      "application/vnd.plotly.v1+json": {
       "config": {
        "plotlyServerURL": "https://plot.ly"
       },
       "data": [
        {
         "hovertemplate": "<b>%{hovertext}</b><br><br>Make=LDV MAXUS CAMPER VAN<br>Make-Model=%{x}<br>Average Test Mileage=%{y}<br>Average Age (Years)=%{marker.size}<extra></extra>",
         "hovertext": [
          "LDV MAXUS CAMPER VAN MAXUS"
         ],
         "legendgroup": "LDV MAXUS CAMPER VAN",
         "marker": {
          "color": "#636efa",
          "size": [
           13.157198266027834
          ],
          "sizemode": "area",
          "sizeref": 0.012010799300327021,
          "symbol": "circle"
         },
         "mode": "markers",
         "name": "LDV MAXUS CAMPER VAN",
         "orientation": "v",
         "showlegend": true,
         "type": "scatter",
         "x": [
          "LDV MAXUS CAMPER VAN MAXUS"
         ],
         "xaxis": "x",
         "y": [
          970400.3333333334
         ],
         "yaxis": "y"
        },
        {
         "hovertemplate": "<b>%{hovertext}</b><br><br>Make=BEDFORD<br>Make-Model=%{x}<br>Average Test Mileage=%{y}<br>Average Age (Years)=%{marker.size}<extra></extra>",
         "hovertext": [
          "BEDFORD MOTORCARAVAN"
         ],
         "legendgroup": "BEDFORD",
         "marker": {
          "color": "#EF553B",
          "size": [
           38.77618069815195
          ],
          "sizemode": "area",
          "sizeref": 0.012010799300327021,
          "symbol": "circle"
         },
         "mode": "markers",
         "name": "BEDFORD",
         "orientation": "v",
         "showlegend": true,
         "type": "scatter",
         "x": [
          "BEDFORD MOTORCARAVAN"
         ],
         "xaxis": "x",
         "y": [
          933172.5
         ],
         "yaxis": "y"
        },
        {
         "hovertemplate": "<b>%{hovertext}</b><br><br>Make=LDV<br>Make-Model=%{x}<br>Average Test Mileage=%{y}<br>Average Age (Years)=%{marker.size}<extra></extra>",
         "hovertext": [
          "LDV MAXUS MINI BUS",
          "LDV MAXUS MPT 3.5T 95 LWB",
          "LDV DROPSIDE LORRY",
          "LDV MAXUS 2.8T 95 LWB"
         ],
         "legendgroup": "LDV",
         "marker": {
          "color": "#00cc96",
          "size": [
           15.206023271731691,
           15.80287474332649,
           15.195071868583161,
           14.761122518822724
          ],
          "sizemode": "area",
          "sizeref": 0.012010799300327021,
          "symbol": "circle"
         },
         "mode": "markers",
         "name": "LDV",
         "orientation": "v",
         "showlegend": true,
         "type": "scatter",
         "x": [
          "LDV MAXUS MINI BUS",
          "LDV MAXUS MPT 3.5T 95 LWB",
          "LDV DROPSIDE LORRY",
          "LDV MAXUS 2.8T 95 LWB"
         ],
         "xaxis": "x",
         "y": [
          912100.5,
          866562,
          794066,
          500148
         ],
         "yaxis": "y"
        },
        {
         "hovertemplate": "<b>%{hovertext}</b><br><br>Make=MAXUS<br>Make-Model=%{x}<br>Average Test Mileage=%{y}<br>Average Age (Years)=%{marker.size}<extra></extra>",
         "hovertext": [
          "MAXUS UNCLASSIFIED"
         ],
         "legendgroup": "MAXUS",
         "marker": {
          "color": "#ab63fa",
          "size": [
           14.4580424366872
          ],
          "sizemode": "area",
          "sizeref": 0.012010799300327021,
          "symbol": "circle"
         },
         "mode": "markers",
         "name": "MAXUS",
         "orientation": "v",
         "showlegend": true,
         "type": "scatter",
         "x": [
          "MAXUS UNCLASSIFIED"
         ],
         "xaxis": "x",
         "y": [
          771852.4
         ],
         "yaxis": "y"
        },
        {
         "hovertemplate": "<b>%{hovertext}</b><br><br>Make=IVECO<br>Make-Model=%{x}<br>Average Test Mileage=%{y}<br>Average Age (Years)=%{marker.size}<extra></extra>",
         "hovertext": [
          "IVECO 35C",
          "IVECO 40C14"
         ],
         "legendgroup": "IVECO",
         "marker": {
          "color": "#FFA15A",
          "size": [
           20.75564681724846,
           17.845311430527037
          ],
          "sizemode": "area",
          "sizeref": 0.012010799300327021,
          "symbol": "circle"
         },
         "mode": "markers",
         "name": "IVECO",
         "orientation": "v",
         "showlegend": true,
         "type": "scatter",
         "x": [
          "IVECO 35C",
          "IVECO 40C14"
         ],
         "xaxis": "x",
         "y": [
          716900.5,
          587156
         ],
         "yaxis": "y"
        },
        {
         "hovertemplate": "<b>%{hovertext}</b><br><br>Make=VOLVO<br>Make-Model=%{x}<br>Average Test Mileage=%{y}<br>Average Age (Years)=%{marker.size}<extra></extra>",
         "hovertext": [
          "VOLVO MOTOR HOME"
         ],
         "legendgroup": "VOLVO",
         "marker": {
          "color": "#19d3f3",
          "size": [
           22.902121834360024
          ],
          "sizemode": "area",
          "sizeref": 0.012010799300327021,
          "symbol": "circle"
         },
         "mode": "markers",
         "name": "VOLVO",
         "orientation": "v",
         "showlegend": true,
         "type": "scatter",
         "x": [
          "VOLVO MOTOR HOME"
         ],
         "xaxis": "x",
         "y": [
          681434.5
         ],
         "yaxis": "y"
        },
        {
         "hovertemplate": "<b>%{hovertext}</b><br><br>Make=LEYLAND NATIONAL<br>Make-Model=%{x}<br>Average Test Mileage=%{y}<br>Average Age (Years)=%{marker.size}<extra></extra>",
         "hovertext": [
          "LEYLAND NATIONAL SINGLE DECKER"
         ],
         "legendgroup": "LEYLAND NATIONAL",
         "marker": {
          "color": "#FF6692",
          "size": [
           43.238877481177276
          ],
          "sizemode": "area",
          "sizeref": 0.012010799300327021,
          "symbol": "circle"
         },
         "mode": "markers",
         "name": "LEYLAND NATIONAL",
         "orientation": "v",
         "showlegend": true,
         "type": "scatter",
         "x": [
          "LEYLAND NATIONAL SINGLE DECKER"
         ],
         "xaxis": "x",
         "y": [
          678942.5
         ],
         "yaxis": "y"
        },
        {
         "hovertemplate": "<b>%{hovertext}</b><br><br>Make=MITSUBISHI<br>Make-Model=%{x}<br>Average Test Mileage=%{y}<br>Average Age (Years)=%{marker.size}<extra></extra>",
         "hovertext": [
          "MITSUBISHI GTA"
         ],
         "legendgroup": "MITSUBISHI",
         "marker": {
          "color": "#B6E880",
          "size": [
           18.55167693360712
          ],
          "sizemode": "area",
          "sizeref": 0.012010799300327021,
          "symbol": "circle"
         },
         "mode": "markers",
         "name": "MITSUBISHI",
         "orientation": "v",
         "showlegend": true,
         "type": "scatter",
         "x": [
          "MITSUBISHI GTA"
         ],
         "xaxis": "x",
         "y": [
          602290
         ],
         "yaxis": "y"
        },
        {
         "hovertemplate": "<b>%{hovertext}</b><br><br>Make=CITROEN<br>Make-Model=%{x}<br>Average Test Mileage=%{y}<br>Average Age (Years)=%{marker.size}<extra></extra>",
         "hovertext": [
          "CITROEN SENTNEL"
         ],
         "legendgroup": "CITROEN",
         "marker": {
          "color": "#FF97FF",
          "size": [
           13.760438056125942
          ],
          "sizemode": "area",
          "sizeref": 0.012010799300327021,
          "symbol": "circle"
         },
         "mode": "markers",
         "name": "CITROEN",
         "orientation": "v",
         "showlegend": true,
         "type": "scatter",
         "x": [
          "CITROEN SENTNEL"
         ],
         "xaxis": "x",
         "y": [
          560601
         ],
         "yaxis": "y"
        },
        {
         "hovertemplate": "<b>%{hovertext}</b><br><br>Make=GMC<br>Make-Model=%{x}<br>Average Test Mileage=%{y}<br>Average Age (Years)=%{marker.size}<extra></extra>",
         "hovertext": [
          "GMC C1500"
         ],
         "legendgroup": "GMC",
         "marker": {
          "color": "#FECB52",
          "size": [
           37.18001368925393
          ],
          "sizemode": "area",
          "sizeref": 0.012010799300327021,
          "symbol": "circle"
         },
         "mode": "markers",
         "name": "GMC",
         "orientation": "v",
         "showlegend": true,
         "type": "scatter",
         "x": [
          "GMC C1500"
         ],
         "xaxis": "x",
         "y": [
          559383
         ],
         "yaxis": "y"
        },
        {
         "hovertemplate": "<b>%{hovertext}</b><br><br>Make=LONDON TAXIS INT<br>Make-Model=%{x}<br>Average Test Mileage=%{y}<br>Average Age (Years)=%{marker.size}<extra></extra>",
         "hovertext": [
          "LONDON TAXIS INT TX 4"
         ],
         "legendgroup": "LONDON TAXIS INT",
         "marker": {
          "color": "#636efa",
          "size": [
           15.043121149897331
          ],
          "sizemode": "area",
          "sizeref": 0.012010799300327021,
          "symbol": "circle"
         },
         "mode": "markers",
         "name": "LONDON TAXIS INT",
         "orientation": "v",
         "showlegend": true,
         "type": "scatter",
         "x": [
          "LONDON TAXIS INT TX 4"
         ],
         "xaxis": "x",
         "y": [
          555930.5
         ],
         "yaxis": "y"
        },
        {
         "hovertemplate": "<b>%{hovertext}</b><br><br>Make=LONDON TAXI<br>Make-Model=%{x}<br>Average Test Mileage=%{y}<br>Average Age (Years)=%{marker.size}<extra></extra>",
         "hovertext": [
          "LONDON TAXI TX2"
         ],
         "legendgroup": "LONDON TAXI",
         "marker": {
          "color": "#EF553B",
          "size": [
           17.593429158110883
          ],
          "sizemode": "area",
          "sizeref": 0.012010799300327021,
          "symbol": "circle"
         },
         "mode": "markers",
         "name": "LONDON TAXI",
         "orientation": "v",
         "showlegend": true,
         "type": "scatter",
         "x": [
          "LONDON TAXI TX2"
         ],
         "xaxis": "x",
         "y": [
          555145
         ],
         "yaxis": "y"
        },
        {
         "hovertemplate": "<b>%{hovertext}</b><br><br>Make=MG<br>Make-Model=%{x}<br>Average Test Mileage=%{y}<br>Average Age (Years)=%{marker.size}<extra></extra>",
         "hovertext": [
          "MG ZT SE V8 260"
         ],
         "legendgroup": "MG",
         "marker": {
          "color": "#00cc96",
          "size": [
           18.46132785763176
          ],
          "sizemode": "area",
          "sizeref": 0.012010799300327021,
          "symbol": "circle"
         },
         "mode": "markers",
         "name": "MG",
         "orientation": "v",
         "showlegend": true,
         "type": "scatter",
         "x": [
          "MG ZT SE V8 260"
         ],
         "xaxis": "x",
         "y": [
          537693
         ],
         "yaxis": "y"
        },
        {
         "hovertemplate": "<b>%{hovertext}</b><br><br>Make=MERCEDES<br>Make-Model=%{x}<br>Average Test Mileage=%{y}<br>Average Age (Years)=%{marker.size}<extra></extra>",
         "hovertext": [
          "MERCEDES AMBULANCE 416 CDI"
         ],
         "legendgroup": "MERCEDES",
         "marker": {
          "color": "#ab63fa",
          "size": [
           19.08829568788501
          ],
          "sizemode": "area",
          "sizeref": 0.012010799300327021,
          "symbol": "circle"
         },
         "mode": "markers",
         "name": "MERCEDES",
         "orientation": "v",
         "showlegend": true,
         "type": "scatter",
         "x": [
          "MERCEDES AMBULANCE 416 CDI"
         ],
         "xaxis": "x",
         "y": [
          523006
         ],
         "yaxis": "y"
        },
        {
         "hovertemplate": "<b>%{hovertext}</b><br><br>Make=IVECO-FORD<br>Make-Model=%{x}<br>Average Test Mileage=%{y}<br>Average Age (Years)=%{marker.size}<extra></extra>",
         "hovertext": [
          "IVECO-FORD RECOVERY TRUCK"
         ],
         "legendgroup": "IVECO-FORD",
         "marker": {
          "color": "#FFA15A",
          "size": [
           21.127994524298426
          ],
          "sizemode": "area",
          "sizeref": 0.012010799300327021,
          "symbol": "circle"
         },
         "mode": "markers",
         "name": "IVECO-FORD",
         "orientation": "v",
         "showlegend": true,
         "type": "scatter",
         "x": [
          "IVECO-FORD RECOVERY TRUCK"
         ],
         "xaxis": "x",
         "y": [
          518374
         ],
         "yaxis": "y"
        },
        {
         "hovertemplate": "<b>%{hovertext}</b><br><br>Make=OPTARE<br>Make-Model=%{x}<br>Average Test Mileage=%{y}<br>Average Age (Years)=%{marker.size}<extra></extra>",
         "hovertext": [
          "OPTARE SOLO M850"
         ],
         "legendgroup": "OPTARE",
         "marker": {
          "color": "#19d3f3",
          "size": [
           19.670545288615106
          ],
          "sizemode": "area",
          "sizeref": 0.012010799300327021,
          "symbol": "circle"
         },
         "mode": "markers",
         "name": "OPTARE",
         "orientation": "v",
         "showlegend": true,
         "type": "scatter",
         "x": [
          "OPTARE SOLO M850"
         ],
         "xaxis": "x",
         "y": [
          501163.6666666667
         ],
         "yaxis": "y"
        }
       ],
       "layout": {
        "legend": {
         "itemsizing": "constant",
         "title": {
          "text": "Make"
         },
         "tracegroupgap": 0
        },
        "paper_bgcolor": "white",
        "plot_bgcolor": "white",
        "template": {
         "data": {
          "bar": [
           {
            "error_x": {
             "color": "#2a3f5f"
            },
            "error_y": {
             "color": "#2a3f5f"
            },
            "marker": {
             "line": {
              "color": "#E5ECF6",
              "width": 0.5
             },
             "pattern": {
              "fillmode": "overlay",
              "size": 10,
              "solidity": 0.2
             }
            },
            "type": "bar"
           }
          ],
          "barpolar": [
           {
            "marker": {
             "line": {
              "color": "#E5ECF6",
              "width": 0.5
             },
             "pattern": {
              "fillmode": "overlay",
              "size": 10,
              "solidity": 0.2
             }
            },
            "type": "barpolar"
           }
          ],
          "carpet": [
           {
            "aaxis": {
             "endlinecolor": "#2a3f5f",
             "gridcolor": "white",
             "linecolor": "white",
             "minorgridcolor": "white",
             "startlinecolor": "#2a3f5f"
            },
            "baxis": {
             "endlinecolor": "#2a3f5f",
             "gridcolor": "white",
             "linecolor": "white",
             "minorgridcolor": "white",
             "startlinecolor": "#2a3f5f"
            },
            "type": "carpet"
           }
          ],
          "choropleth": [
           {
            "colorbar": {
             "outlinewidth": 0,
             "ticks": ""
            },
            "type": "choropleth"
           }
          ],
          "contour": [
           {
            "colorbar": {
             "outlinewidth": 0,
             "ticks": ""
            },
            "colorscale": [
             [
              0,
              "#0d0887"
             ],
             [
              0.1111111111111111,
              "#46039f"
             ],
             [
              0.2222222222222222,
              "#7201a8"
             ],
             [
              0.3333333333333333,
              "#9c179e"
             ],
             [
              0.4444444444444444,
              "#bd3786"
             ],
             [
              0.5555555555555556,
              "#d8576b"
             ],
             [
              0.6666666666666666,
              "#ed7953"
             ],
             [
              0.7777777777777778,
              "#fb9f3a"
             ],
             [
              0.8888888888888888,
              "#fdca26"
             ],
             [
              1,
              "#f0f921"
             ]
            ],
            "type": "contour"
           }
          ],
          "contourcarpet": [
           {
            "colorbar": {
             "outlinewidth": 0,
             "ticks": ""
            },
            "type": "contourcarpet"
           }
          ],
          "heatmap": [
           {
            "colorbar": {
             "outlinewidth": 0,
             "ticks": ""
            },
            "colorscale": [
             [
              0,
              "#0d0887"
             ],
             [
              0.1111111111111111,
              "#46039f"
             ],
             [
              0.2222222222222222,
              "#7201a8"
             ],
             [
              0.3333333333333333,
              "#9c179e"
             ],
             [
              0.4444444444444444,
              "#bd3786"
             ],
             [
              0.5555555555555556,
              "#d8576b"
             ],
             [
              0.6666666666666666,
              "#ed7953"
             ],
             [
              0.7777777777777778,
              "#fb9f3a"
             ],
             [
              0.8888888888888888,
              "#fdca26"
             ],
             [
              1,
              "#f0f921"
             ]
            ],
            "type": "heatmap"
           }
          ],
          "heatmapgl": [
           {
            "colorbar": {
             "outlinewidth": 0,
             "ticks": ""
            },
            "colorscale": [
             [
              0,
              "#0d0887"
             ],
             [
              0.1111111111111111,
              "#46039f"
             ],
             [
              0.2222222222222222,
              "#7201a8"
             ],
             [
              0.3333333333333333,
              "#9c179e"
             ],
             [
              0.4444444444444444,
              "#bd3786"
             ],
             [
              0.5555555555555556,
              "#d8576b"
             ],
             [
              0.6666666666666666,
              "#ed7953"
             ],
             [
              0.7777777777777778,
              "#fb9f3a"
             ],
             [
              0.8888888888888888,
              "#fdca26"
             ],
             [
              1,
              "#f0f921"
             ]
            ],
            "type": "heatmapgl"
           }
          ],
          "histogram": [
           {
            "marker": {
             "pattern": {
              "fillmode": "overlay",
              "size": 10,
              "solidity": 0.2
             }
            },
            "type": "histogram"
           }
          ],
          "histogram2d": [
           {
            "colorbar": {
             "outlinewidth": 0,
             "ticks": ""
            },
            "colorscale": [
             [
              0,
              "#0d0887"
             ],
             [
              0.1111111111111111,
              "#46039f"
             ],
             [
              0.2222222222222222,
              "#7201a8"
             ],
             [
              0.3333333333333333,
              "#9c179e"
             ],
             [
              0.4444444444444444,
              "#bd3786"
             ],
             [
              0.5555555555555556,
              "#d8576b"
             ],
             [
              0.6666666666666666,
              "#ed7953"
             ],
             [
              0.7777777777777778,
              "#fb9f3a"
             ],
             [
              0.8888888888888888,
              "#fdca26"
             ],
             [
              1,
              "#f0f921"
             ]
            ],
            "type": "histogram2d"
           }
          ],
          "histogram2dcontour": [
           {
            "colorbar": {
             "outlinewidth": 0,
             "ticks": ""
            },
            "colorscale": [
             [
              0,
              "#0d0887"
             ],
             [
              0.1111111111111111,
              "#46039f"
             ],
             [
              0.2222222222222222,
              "#7201a8"
             ],
             [
              0.3333333333333333,
              "#9c179e"
             ],
             [
              0.4444444444444444,
              "#bd3786"
             ],
             [
              0.5555555555555556,
              "#d8576b"
             ],
             [
              0.6666666666666666,
              "#ed7953"
             ],
             [
              0.7777777777777778,
              "#fb9f3a"
             ],
             [
              0.8888888888888888,
              "#fdca26"
             ],
             [
              1,
              "#f0f921"
             ]
            ],
            "type": "histogram2dcontour"
           }
          ],
          "mesh3d": [
           {
            "colorbar": {
             "outlinewidth": 0,
             "ticks": ""
            },
            "type": "mesh3d"
           }
          ],
          "parcoords": [
           {
            "line": {
             "colorbar": {
              "outlinewidth": 0,
              "ticks": ""
             }
            },
            "type": "parcoords"
           }
          ],
          "pie": [
           {
            "automargin": true,
            "type": "pie"
           }
          ],
          "scatter": [
           {
            "fillpattern": {
             "fillmode": "overlay",
             "size": 10,
             "solidity": 0.2
            },
            "type": "scatter"
           }
          ],
          "scatter3d": [
           {
            "line": {
             "colorbar": {
              "outlinewidth": 0,
              "ticks": ""
             }
            },
            "marker": {
             "colorbar": {
              "outlinewidth": 0,
              "ticks": ""
             }
            },
            "type": "scatter3d"
           }
          ],
          "scattercarpet": [
           {
            "marker": {
             "colorbar": {
              "outlinewidth": 0,
              "ticks": ""
             }
            },
            "type": "scattercarpet"
           }
          ],
          "scattergeo": [
           {
            "marker": {
             "colorbar": {
              "outlinewidth": 0,
              "ticks": ""
             }
            },
            "type": "scattergeo"
           }
          ],
          "scattergl": [
           {
            "marker": {
             "colorbar": {
              "outlinewidth": 0,
              "ticks": ""
             }
            },
            "type": "scattergl"
           }
          ],
          "scattermapbox": [
           {
            "marker": {
             "colorbar": {
              "outlinewidth": 0,
              "ticks": ""
             }
            },
            "type": "scattermapbox"
           }
          ],
          "scatterpolar": [
           {
            "marker": {
             "colorbar": {
              "outlinewidth": 0,
              "ticks": ""
             }
            },
            "type": "scatterpolar"
           }
          ],
          "scatterpolargl": [
           {
            "marker": {
             "colorbar": {
              "outlinewidth": 0,
              "ticks": ""
             }
            },
            "type": "scatterpolargl"
           }
          ],
          "scatterternary": [
           {
            "marker": {
             "colorbar": {
              "outlinewidth": 0,
              "ticks": ""
             }
            },
            "type": "scatterternary"
           }
          ],
          "surface": [
           {
            "colorbar": {
             "outlinewidth": 0,
             "ticks": ""
            },
            "colorscale": [
             [
              0,
              "#0d0887"
             ],
             [
              0.1111111111111111,
              "#46039f"
             ],
             [
              0.2222222222222222,
              "#7201a8"
             ],
             [
              0.3333333333333333,
              "#9c179e"
             ],
             [
              0.4444444444444444,
              "#bd3786"
             ],
             [
              0.5555555555555556,
              "#d8576b"
             ],
             [
              0.6666666666666666,
              "#ed7953"
             ],
             [
              0.7777777777777778,
              "#fb9f3a"
             ],
             [
              0.8888888888888888,
              "#fdca26"
             ],
             [
              1,
              "#f0f921"
             ]
            ],
            "type": "surface"
           }
          ],
          "table": [
           {
            "cells": {
             "fill": {
              "color": "#EBF0F8"
             },
             "line": {
              "color": "white"
             }
            },
            "header": {
             "fill": {
              "color": "#C8D4E3"
             },
             "line": {
              "color": "white"
             }
            },
            "type": "table"
           }
          ]
         },
         "layout": {
          "annotationdefaults": {
           "arrowcolor": "#2a3f5f",
           "arrowhead": 0,
           "arrowwidth": 1
          },
          "autotypenumbers": "strict",
          "coloraxis": {
           "colorbar": {
            "outlinewidth": 0,
            "ticks": ""
           }
          },
          "colorscale": {
           "diverging": [
            [
             0,
             "#8e0152"
            ],
            [
             0.1,
             "#c51b7d"
            ],
            [
             0.2,
             "#de77ae"
            ],
            [
             0.3,
             "#f1b6da"
            ],
            [
             0.4,
             "#fde0ef"
            ],
            [
             0.5,
             "#f7f7f7"
            ],
            [
             0.6,
             "#e6f5d0"
            ],
            [
             0.7,
             "#b8e186"
            ],
            [
             0.8,
             "#7fbc41"
            ],
            [
             0.9,
             "#4d9221"
            ],
            [
             1,
             "#276419"
            ]
           ],
           "sequential": [
            [
             0,
             "#0d0887"
            ],
            [
             0.1111111111111111,
             "#46039f"
            ],
            [
             0.2222222222222222,
             "#7201a8"
            ],
            [
             0.3333333333333333,
             "#9c179e"
            ],
            [
             0.4444444444444444,
             "#bd3786"
            ],
            [
             0.5555555555555556,
             "#d8576b"
            ],
            [
             0.6666666666666666,
             "#ed7953"
            ],
            [
             0.7777777777777778,
             "#fb9f3a"
            ],
            [
             0.8888888888888888,
             "#fdca26"
            ],
            [
             1,
             "#f0f921"
            ]
           ],
           "sequentialminus": [
            [
             0,
             "#0d0887"
            ],
            [
             0.1111111111111111,
             "#46039f"
            ],
            [
             0.2222222222222222,
             "#7201a8"
            ],
            [
             0.3333333333333333,
             "#9c179e"
            ],
            [
             0.4444444444444444,
             "#bd3786"
            ],
            [
             0.5555555555555556,
             "#d8576b"
            ],
            [
             0.6666666666666666,
             "#ed7953"
            ],
            [
             0.7777777777777778,
             "#fb9f3a"
            ],
            [
             0.8888888888888888,
             "#fdca26"
            ],
            [
             1,
             "#f0f921"
            ]
           ]
          },
          "colorway": [
           "#636efa",
           "#EF553B",
           "#00cc96",
           "#ab63fa",
           "#FFA15A",
           "#19d3f3",
           "#FF6692",
           "#B6E880",
           "#FF97FF",
           "#FECB52"
          ],
          "font": {
           "color": "#2a3f5f"
          },
          "geo": {
           "bgcolor": "white",
           "lakecolor": "white",
           "landcolor": "#E5ECF6",
           "showlakes": true,
           "showland": true,
           "subunitcolor": "white"
          },
          "hoverlabel": {
           "align": "left"
          },
          "hovermode": "closest",
          "mapbox": {
           "style": "light"
          },
          "paper_bgcolor": "white",
          "plot_bgcolor": "#E5ECF6",
          "polar": {
           "angularaxis": {
            "gridcolor": "white",
            "linecolor": "white",
            "ticks": ""
           },
           "bgcolor": "#E5ECF6",
           "radialaxis": {
            "gridcolor": "white",
            "linecolor": "white",
            "ticks": ""
           }
          },
          "scene": {
           "xaxis": {
            "backgroundcolor": "#E5ECF6",
            "gridcolor": "white",
            "gridwidth": 2,
            "linecolor": "white",
            "showbackground": true,
            "ticks": "",
            "zerolinecolor": "white"
           },
           "yaxis": {
            "backgroundcolor": "#E5ECF6",
            "gridcolor": "white",
            "gridwidth": 2,
            "linecolor": "white",
            "showbackground": true,
            "ticks": "",
            "zerolinecolor": "white"
           },
           "zaxis": {
            "backgroundcolor": "#E5ECF6",
            "gridcolor": "white",
            "gridwidth": 2,
            "linecolor": "white",
            "showbackground": true,
            "ticks": "",
            "zerolinecolor": "white"
           }
          },
          "shapedefaults": {
           "line": {
            "color": "#2a3f5f"
           }
          },
          "ternary": {
           "aaxis": {
            "gridcolor": "white",
            "linecolor": "white",
            "ticks": ""
           },
           "baxis": {
            "gridcolor": "white",
            "linecolor": "white",
            "ticks": ""
           },
           "bgcolor": "#E5ECF6",
           "caxis": {
            "gridcolor": "white",
            "linecolor": "white",
            "ticks": ""
           }
          },
          "title": {
           "x": 0.05
          },
          "xaxis": {
           "automargin": true,
           "gridcolor": "white",
           "linecolor": "white",
           "ticks": "",
           "title": {
            "standoff": 15
           },
           "zerolinecolor": "white",
           "zerolinewidth": 2
          },
          "yaxis": {
           "automargin": true,
           "gridcolor": "white",
           "linecolor": "white",
           "ticks": "",
           "title": {
            "standoff": 15
           },
           "zerolinecolor": "white",
           "zerolinewidth": 2
          }
         }
        },
        "title": {
         "text": "Top 20 Average Test Mileage by Make-Model with Average Age"
        },
        "xaxis": {
         "anchor": "y",
         "domain": [
          0,
          1
         ],
         "showgrid": false,
         "showline": false,
         "showticklabels": true,
         "title": {
          "text": "Make-Model"
         }
        },
        "yaxis": {
         "anchor": "x",
         "domain": [
          0,
          1
         ],
         "showgrid": false,
         "showline": false,
         "title": {
          "text": "Average Test Mileage"
         }
        }
       }
      }
     },
     "metadata": {},
     "output_type": "display_data"
    }
   ],
   "source": [
    "import plotly.express as px\n",
    "\n",
    "# Calculate the average test mileage\n",
    "avg_mileage = mot.groupby(['make_model', 'make'])['test_mileage'].mean().reset_index()\n",
    "\n",
    "# Calculate the average age in years for each make_model as a proxy for size\n",
    "avg_age_years = mot.groupby(['make_model', 'make'])['age_years'].mean().reset_index()\n",
    "\n",
    "# Merge the average mileage data with the average age years\n",
    "merged_data = avg_mileage.merge(avg_age_years, on=['make_model', 'make'])\n",
    "\n",
    "# Sort the data by average mileage and select the top 20 for visualization\n",
    "top_avg_mileage = merged_data.sort_values(by='test_mileage', ascending=False).head(20)\n",
    "\n",
    "# Create a bubble chart\n",
    "fig = px.scatter(\n",
    "    top_avg_mileage,\n",
    "    x='make_model',\n",
    "    y='test_mileage',\n",
    "    size='age_years',  # Use average age in years for bubble size\n",
    "    color='make',  # Color by the extracted 'make'\n",
    "    hover_name='make_model', \n",
    "    size_max=60, \n",
    "    title='Top 20 Average Test Mileage by Make-Model with Average Age',\n",
    "    labels={'test_mileage': 'Average Test Mileage', 'age_years': 'Average Age (Years)', 'make': 'Make', 'make_model': 'Make-Model'}\n",
    ")\n",
    "\n",
    "# Customize the layout for plain white background and no grid lines\n",
    "fig.update_layout(\n",
    "    plot_bgcolor='white', # Set background to white\n",
    "    xaxis=dict(\n",
    "        showline=False, # Remove x-axis line\n",
    "        showgrid=False, # Remove x-axis grid lines\n",
    "        showticklabels=True,\n",
    "    ),\n",
    "    yaxis=dict(\n",
    "        showline=False, # Remove y-axis line\n",
    "        showgrid=False, # Remove y-axis grid lines\n",
    "        title='Average Test Mileage'\n",
    "    ),\n",
    "    paper_bgcolor='white', # Ensure that the entire background is white\n",
    ")\n",
    "\n",
    "# Show the figure\n",
    "fig.show()\n"
   ]
  },
  {
   "cell_type": "code",
   "execution_count": 12,
   "metadata": {
    "metadata": {}
   },
   "outputs": [
    {
     "data": {
      "application/vnd.plotly.v1+json": {
       "config": {
        "plotlyServerURL": "https://plot.ly"
       },
       "data": [
        {
         "alignmentgroup": "True",
         "hovertemplate": "make=%{x}<br>Test Result P Ratio=%{marker.color}<extra></extra>",
         "legendgroup": "",
         "marker": {
          "color": [
           0.8112841673953869,
           0.8053124495811554,
           0.7914218867096822,
           0.7871434467195906,
           0.7748761870687354,
           0.772265745075488,
           0.7710741267578469,
           0.7700034105074992,
           0.7611879470233399,
           0.7372192357691748,
           0.7366113212889627,
           0.7342831184967131,
           0.7207704353372838,
           0.7184898009016536,
           0.7027167381230283,
           0.6965800051447943
          ],
          "coloraxis": "coloraxis",
          "pattern": {
           "shape": ""
          }
         },
         "name": "",
         "offsetgroup": "",
         "orientation": "v",
         "showlegend": false,
         "textposition": "auto",
         "type": "bar",
         "x": [
          "BMW",
          "AUDI",
          "LAND ROVER",
          "MERCEDES-BENZ",
          "KIA",
          "HONDA",
          "TOYOTA",
          "HYUNDAI",
          "VOLKSWAGEN",
          "NISSAN",
          "FIAT",
          "FORD",
          "PEUGEOT",
          "VAUXHALL",
          "CITROEN",
          "RENAULT"
         ],
         "xaxis": "x",
         "y": [
          0.8112841673953869,
          0.8053124495811554,
          0.7914218867096822,
          0.7871434467195906,
          0.7748761870687354,
          0.772265745075488,
          0.7710741267578469,
          0.7700034105074992,
          0.7611879470233399,
          0.7372192357691748,
          0.7366113212889627,
          0.7342831184967131,
          0.7207704353372838,
          0.7184898009016536,
          0.7027167381230283,
          0.6965800051447943
         ],
         "yaxis": "y"
        }
       ],
       "layout": {
        "barmode": "relative",
        "coloraxis": {
         "colorbar": {
          "title": {
           "text": "Test Result P Ratio"
          }
         },
         "colorscale": [
          [
           0,
           "#440154"
          ],
          [
           0.1111111111111111,
           "#482878"
          ],
          [
           0.2222222222222222,
           "#3e4989"
          ],
          [
           0.3333333333333333,
           "#31688e"
          ],
          [
           0.4444444444444444,
           "#26828e"
          ],
          [
           0.5555555555555556,
           "#1f9e89"
          ],
          [
           0.6666666666666666,
           "#35b779"
          ],
          [
           0.7777777777777778,
           "#6ece58"
          ],
          [
           0.8888888888888888,
           "#b5de2b"
          ],
          [
           1,
           "#fde725"
          ]
         ]
        },
        "legend": {
         "tracegroupgap": 0
        },
        "paper_bgcolor": "white",
        "plot_bgcolor": "white",
        "template": {
         "data": {
          "bar": [
           {
            "error_x": {
             "color": "#2a3f5f"
            },
            "error_y": {
             "color": "#2a3f5f"
            },
            "marker": {
             "line": {
              "color": "#E5ECF6",
              "width": 0.5
             },
             "pattern": {
              "fillmode": "overlay",
              "size": 10,
              "solidity": 0.2
             }
            },
            "type": "bar"
           }
          ],
          "barpolar": [
           {
            "marker": {
             "line": {
              "color": "#E5ECF6",
              "width": 0.5
             },
             "pattern": {
              "fillmode": "overlay",
              "size": 10,
              "solidity": 0.2
             }
            },
            "type": "barpolar"
           }
          ],
          "carpet": [
           {
            "aaxis": {
             "endlinecolor": "#2a3f5f",
             "gridcolor": "white",
             "linecolor": "white",
             "minorgridcolor": "white",
             "startlinecolor": "#2a3f5f"
            },
            "baxis": {
             "endlinecolor": "#2a3f5f",
             "gridcolor": "white",
             "linecolor": "white",
             "minorgridcolor": "white",
             "startlinecolor": "#2a3f5f"
            },
            "type": "carpet"
           }
          ],
          "choropleth": [
           {
            "colorbar": {
             "outlinewidth": 0,
             "ticks": ""
            },
            "type": "choropleth"
           }
          ],
          "contour": [
           {
            "colorbar": {
             "outlinewidth": 0,
             "ticks": ""
            },
            "colorscale": [
             [
              0,
              "#0d0887"
             ],
             [
              0.1111111111111111,
              "#46039f"
             ],
             [
              0.2222222222222222,
              "#7201a8"
             ],
             [
              0.3333333333333333,
              "#9c179e"
             ],
             [
              0.4444444444444444,
              "#bd3786"
             ],
             [
              0.5555555555555556,
              "#d8576b"
             ],
             [
              0.6666666666666666,
              "#ed7953"
             ],
             [
              0.7777777777777778,
              "#fb9f3a"
             ],
             [
              0.8888888888888888,
              "#fdca26"
             ],
             [
              1,
              "#f0f921"
             ]
            ],
            "type": "contour"
           }
          ],
          "contourcarpet": [
           {
            "colorbar": {
             "outlinewidth": 0,
             "ticks": ""
            },
            "type": "contourcarpet"
           }
          ],
          "heatmap": [
           {
            "colorbar": {
             "outlinewidth": 0,
             "ticks": ""
            },
            "colorscale": [
             [
              0,
              "#0d0887"
             ],
             [
              0.1111111111111111,
              "#46039f"
             ],
             [
              0.2222222222222222,
              "#7201a8"
             ],
             [
              0.3333333333333333,
              "#9c179e"
             ],
             [
              0.4444444444444444,
              "#bd3786"
             ],
             [
              0.5555555555555556,
              "#d8576b"
             ],
             [
              0.6666666666666666,
              "#ed7953"
             ],
             [
              0.7777777777777778,
              "#fb9f3a"
             ],
             [
              0.8888888888888888,
              "#fdca26"
             ],
             [
              1,
              "#f0f921"
             ]
            ],
            "type": "heatmap"
           }
          ],
          "heatmapgl": [
           {
            "colorbar": {
             "outlinewidth": 0,
             "ticks": ""
            },
            "colorscale": [
             [
              0,
              "#0d0887"
             ],
             [
              0.1111111111111111,
              "#46039f"
             ],
             [
              0.2222222222222222,
              "#7201a8"
             ],
             [
              0.3333333333333333,
              "#9c179e"
             ],
             [
              0.4444444444444444,
              "#bd3786"
             ],
             [
              0.5555555555555556,
              "#d8576b"
             ],
             [
              0.6666666666666666,
              "#ed7953"
             ],
             [
              0.7777777777777778,
              "#fb9f3a"
             ],
             [
              0.8888888888888888,
              "#fdca26"
             ],
             [
              1,
              "#f0f921"
             ]
            ],
            "type": "heatmapgl"
           }
          ],
          "histogram": [
           {
            "marker": {
             "pattern": {
              "fillmode": "overlay",
              "size": 10,
              "solidity": 0.2
             }
            },
            "type": "histogram"
           }
          ],
          "histogram2d": [
           {
            "colorbar": {
             "outlinewidth": 0,
             "ticks": ""
            },
            "colorscale": [
             [
              0,
              "#0d0887"
             ],
             [
              0.1111111111111111,
              "#46039f"
             ],
             [
              0.2222222222222222,
              "#7201a8"
             ],
             [
              0.3333333333333333,
              "#9c179e"
             ],
             [
              0.4444444444444444,
              "#bd3786"
             ],
             [
              0.5555555555555556,
              "#d8576b"
             ],
             [
              0.6666666666666666,
              "#ed7953"
             ],
             [
              0.7777777777777778,
              "#fb9f3a"
             ],
             [
              0.8888888888888888,
              "#fdca26"
             ],
             [
              1,
              "#f0f921"
             ]
            ],
            "type": "histogram2d"
           }
          ],
          "histogram2dcontour": [
           {
            "colorbar": {
             "outlinewidth": 0,
             "ticks": ""
            },
            "colorscale": [
             [
              0,
              "#0d0887"
             ],
             [
              0.1111111111111111,
              "#46039f"
             ],
             [
              0.2222222222222222,
              "#7201a8"
             ],
             [
              0.3333333333333333,
              "#9c179e"
             ],
             [
              0.4444444444444444,
              "#bd3786"
             ],
             [
              0.5555555555555556,
              "#d8576b"
             ],
             [
              0.6666666666666666,
              "#ed7953"
             ],
             [
              0.7777777777777778,
              "#fb9f3a"
             ],
             [
              0.8888888888888888,
              "#fdca26"
             ],
             [
              1,
              "#f0f921"
             ]
            ],
            "type": "histogram2dcontour"
           }
          ],
          "mesh3d": [
           {
            "colorbar": {
             "outlinewidth": 0,
             "ticks": ""
            },
            "type": "mesh3d"
           }
          ],
          "parcoords": [
           {
            "line": {
             "colorbar": {
              "outlinewidth": 0,
              "ticks": ""
             }
            },
            "type": "parcoords"
           }
          ],
          "pie": [
           {
            "automargin": true,
            "type": "pie"
           }
          ],
          "scatter": [
           {
            "fillpattern": {
             "fillmode": "overlay",
             "size": 10,
             "solidity": 0.2
            },
            "type": "scatter"
           }
          ],
          "scatter3d": [
           {
            "line": {
             "colorbar": {
              "outlinewidth": 0,
              "ticks": ""
             }
            },
            "marker": {
             "colorbar": {
              "outlinewidth": 0,
              "ticks": ""
             }
            },
            "type": "scatter3d"
           }
          ],
          "scattercarpet": [
           {
            "marker": {
             "colorbar": {
              "outlinewidth": 0,
              "ticks": ""
             }
            },
            "type": "scattercarpet"
           }
          ],
          "scattergeo": [
           {
            "marker": {
             "colorbar": {
              "outlinewidth": 0,
              "ticks": ""
             }
            },
            "type": "scattergeo"
           }
          ],
          "scattergl": [
           {
            "marker": {
             "colorbar": {
              "outlinewidth": 0,
              "ticks": ""
             }
            },
            "type": "scattergl"
           }
          ],
          "scattermapbox": [
           {
            "marker": {
             "colorbar": {
              "outlinewidth": 0,
              "ticks": ""
             }
            },
            "type": "scattermapbox"
           }
          ],
          "scatterpolar": [
           {
            "marker": {
             "colorbar": {
              "outlinewidth": 0,
              "ticks": ""
             }
            },
            "type": "scatterpolar"
           }
          ],
          "scatterpolargl": [
           {
            "marker": {
             "colorbar": {
              "outlinewidth": 0,
              "ticks": ""
             }
            },
            "type": "scatterpolargl"
           }
          ],
          "scatterternary": [
           {
            "marker": {
             "colorbar": {
              "outlinewidth": 0,
              "ticks": ""
             }
            },
            "type": "scatterternary"
           }
          ],
          "surface": [
           {
            "colorbar": {
             "outlinewidth": 0,
             "ticks": ""
            },
            "colorscale": [
             [
              0,
              "#0d0887"
             ],
             [
              0.1111111111111111,
              "#46039f"
             ],
             [
              0.2222222222222222,
              "#7201a8"
             ],
             [
              0.3333333333333333,
              "#9c179e"
             ],
             [
              0.4444444444444444,
              "#bd3786"
             ],
             [
              0.5555555555555556,
              "#d8576b"
             ],
             [
              0.6666666666666666,
              "#ed7953"
             ],
             [
              0.7777777777777778,
              "#fb9f3a"
             ],
             [
              0.8888888888888888,
              "#fdca26"
             ],
             [
              1,
              "#f0f921"
             ]
            ],
            "type": "surface"
           }
          ],
          "table": [
           {
            "cells": {
             "fill": {
              "color": "#EBF0F8"
             },
             "line": {
              "color": "white"
             }
            },
            "header": {
             "fill": {
              "color": "#C8D4E3"
             },
             "line": {
              "color": "white"
             }
            },
            "type": "table"
           }
          ]
         },
         "layout": {
          "annotationdefaults": {
           "arrowcolor": "#2a3f5f",
           "arrowhead": 0,
           "arrowwidth": 1
          },
          "autotypenumbers": "strict",
          "coloraxis": {
           "colorbar": {
            "outlinewidth": 0,
            "ticks": ""
           }
          },
          "colorscale": {
           "diverging": [
            [
             0,
             "#8e0152"
            ],
            [
             0.1,
             "#c51b7d"
            ],
            [
             0.2,
             "#de77ae"
            ],
            [
             0.3,
             "#f1b6da"
            ],
            [
             0.4,
             "#fde0ef"
            ],
            [
             0.5,
             "#f7f7f7"
            ],
            [
             0.6,
             "#e6f5d0"
            ],
            [
             0.7,
             "#b8e186"
            ],
            [
             0.8,
             "#7fbc41"
            ],
            [
             0.9,
             "#4d9221"
            ],
            [
             1,
             "#276419"
            ]
           ],
           "sequential": [
            [
             0,
             "#0d0887"
            ],
            [
             0.1111111111111111,
             "#46039f"
            ],
            [
             0.2222222222222222,
             "#7201a8"
            ],
            [
             0.3333333333333333,
             "#9c179e"
            ],
            [
             0.4444444444444444,
             "#bd3786"
            ],
            [
             0.5555555555555556,
             "#d8576b"
            ],
            [
             0.6666666666666666,
             "#ed7953"
            ],
            [
             0.7777777777777778,
             "#fb9f3a"
            ],
            [
             0.8888888888888888,
             "#fdca26"
            ],
            [
             1,
             "#f0f921"
            ]
           ],
           "sequentialminus": [
            [
             0,
             "#0d0887"
            ],
            [
             0.1111111111111111,
             "#46039f"
            ],
            [
             0.2222222222222222,
             "#7201a8"
            ],
            [
             0.3333333333333333,
             "#9c179e"
            ],
            [
             0.4444444444444444,
             "#bd3786"
            ],
            [
             0.5555555555555556,
             "#d8576b"
            ],
            [
             0.6666666666666666,
             "#ed7953"
            ],
            [
             0.7777777777777778,
             "#fb9f3a"
            ],
            [
             0.8888888888888888,
             "#fdca26"
            ],
            [
             1,
             "#f0f921"
            ]
           ]
          },
          "colorway": [
           "#636efa",
           "#EF553B",
           "#00cc96",
           "#ab63fa",
           "#FFA15A",
           "#19d3f3",
           "#FF6692",
           "#B6E880",
           "#FF97FF",
           "#FECB52"
          ],
          "font": {
           "color": "#2a3f5f"
          },
          "geo": {
           "bgcolor": "white",
           "lakecolor": "white",
           "landcolor": "#E5ECF6",
           "showlakes": true,
           "showland": true,
           "subunitcolor": "white"
          },
          "hoverlabel": {
           "align": "left"
          },
          "hovermode": "closest",
          "mapbox": {
           "style": "light"
          },
          "paper_bgcolor": "white",
          "plot_bgcolor": "#E5ECF6",
          "polar": {
           "angularaxis": {
            "gridcolor": "white",
            "linecolor": "white",
            "ticks": ""
           },
           "bgcolor": "#E5ECF6",
           "radialaxis": {
            "gridcolor": "white",
            "linecolor": "white",
            "ticks": ""
           }
          },
          "scene": {
           "xaxis": {
            "backgroundcolor": "#E5ECF6",
            "gridcolor": "white",
            "gridwidth": 2,
            "linecolor": "white",
            "showbackground": true,
            "ticks": "",
            "zerolinecolor": "white"
           },
           "yaxis": {
            "backgroundcolor": "#E5ECF6",
            "gridcolor": "white",
            "gridwidth": 2,
            "linecolor": "white",
            "showbackground": true,
            "ticks": "",
            "zerolinecolor": "white"
           },
           "zaxis": {
            "backgroundcolor": "#E5ECF6",
            "gridcolor": "white",
            "gridwidth": 2,
            "linecolor": "white",
            "showbackground": true,
            "ticks": "",
            "zerolinecolor": "white"
           }
          },
          "shapedefaults": {
           "line": {
            "color": "#2a3f5f"
           }
          },
          "ternary": {
           "aaxis": {
            "gridcolor": "white",
            "linecolor": "white",
            "ticks": ""
           },
           "baxis": {
            "gridcolor": "white",
            "linecolor": "white",
            "ticks": ""
           },
           "bgcolor": "#E5ECF6",
           "caxis": {
            "gridcolor": "white",
            "linecolor": "white",
            "ticks": ""
           }
          },
          "title": {
           "x": 0.05
          },
          "xaxis": {
           "automargin": true,
           "gridcolor": "white",
           "linecolor": "white",
           "ticks": "",
           "title": {
            "standoff": 15
           },
           "zerolinecolor": "white",
           "zerolinewidth": 2
          },
          "yaxis": {
           "automargin": true,
           "gridcolor": "white",
           "linecolor": "white",
           "ticks": "",
           "title": {
            "standoff": 15
           },
           "zerolinecolor": "white",
           "zerolinewidth": 2
          }
         }
        },
        "title": {
         "text": "Makes with the Highest Ratio of Test Result P (Pass) with at least 1000K Tests"
        },
        "xaxis": {
         "anchor": "y",
         "domain": [
          0,
          1
         ],
         "showgrid": false,
         "showline": false,
         "showticklabels": true,
         "title": {
          "text": "make"
         }
        },
        "yaxis": {
         "anchor": "x",
         "domain": [
          0,
          1
         ],
         "showgrid": false,
         "showline": false,
         "title": {
          "text": "Test Result P Ratio"
         }
        }
       }
      }
     },
     "metadata": {},
     "output_type": "display_data"
    }
   ],
   "source": [
    "# Find the makes with the highest ratio of test_result = P, limit to makes with at least 1000K tests\n",
    "make_counts = mot['make'].value_counts()\n",
    "make_p_counts = mot[mot['test_result'] == 'P']['make'].value_counts()\n",
    "make_p_ratio = make_p_counts / make_counts\n",
    "make_p_ratio = make_p_ratio[make_counts > 1000000].sort_values(ascending=False)\n",
    "\n",
    "# Plot with Plotly\n",
    "fig = px.bar(\n",
    "    make_p_ratio,\n",
    "    x=make_p_ratio.index,\n",
    "    y=make_p_ratio.values,\n",
    "    color=make_p_ratio.values,\n",
    "    color_continuous_scale='Viridis',\n",
    "    labels={'x': 'Make', 'y': 'Test Result P Ratio', 'color': 'Test Result P Ratio'},\n",
    "    title='Makes with the Highest Ratio of Test Result P (Pass) with at least 1000K Tests'\n",
    ")\n",
    "\n",
    "# Customize the layout for plain white background and no grid lines\n",
    "fig.update_layout(\n",
    "    plot_bgcolor='white', # Set background to white\n",
    "    xaxis=dict(\n",
    "        showline=False, # Remove x-axis line\n",
    "        showgrid=False, # Remove x-axis grid lines\n",
    "        showticklabels=True,\n",
    "    ),\n",
    "    yaxis=dict(\n",
    "        showline=False, # Remove y-axis line\n",
    "        showgrid=False, # Remove y-axis grid lines\n",
    "        title='Test Result P Ratio'\n",
    "    ),\n",
    "    paper_bgcolor='white', # Ensure that the entire background is white\n",
    ")\n",
    "\n",
    "# Show the figure\n",
    "fig.show()"
   ]
  },
  {
   "cell_type": "code",
   "execution_count": 13,
   "metadata": {
    "metadata": {}
   },
   "outputs": [
    {
     "ename": "",
     "evalue": "",
     "output_type": "error",
     "traceback": [
      "\u001b[1;31mThe Kernel crashed while executing code in the current cell or a previous cell. \n",
      "\u001b[1;31mPlease review the code in the cell(s) to identify a possible cause of the failure. \n",
      "\u001b[1;31mClick <a href='https://aka.ms/vscodeJupyterKernelCrash'>here</a> for more info. \n",
      "\u001b[1;31mView Jupyter <a href='command:jupyter.viewOutput'>log</a> for further details."
     ]
    }
   ],
   "source": [
    "# Train a Random Forest model to predict the test_result based on the make_model, age and test_mileage.\n",
    "from sklearn.ensemble import RandomForestClassifier\n",
    "from sklearn.model_selection import train_test_split\n",
    "from sklearn.metrics import classification_report\n",
    "\n",
    "# Prepare the data\n",
    "X = mot[['make_model', 'age_years', 'test_mileage']]\n",
    "y = mot['test_result']\n",
    "\n",
    "# Split the data into training and testing sets\n",
    "X_train, X_test, y_train, y_test = train_test_split(X, y, test_size=0.2, random_state=42)\n",
    "\n",
    "# Train the model\n",
    "rf = RandomForestClassifier(n_estimators=100, random_state=42)\n",
    "rf.fit(X_train, y_train)\n",
    "\n",
    "# Make predictions\n",
    "y_pred = rf.predict(X_test)\n",
    "\n",
    "# Evaluate the model\n",
    "print(classification_report(y_test, y_pred))\n",
    "\n",
    "# Calculate the feature importances\n",
    "importances = rf.feature_importances_\n",
    "features = X.columns\n",
    "\n",
    "# Create a dataframe of features and their importances\n",
    "feature_importances = pd.DataFrame({'feature': features, 'importance': importances})\n",
    "feature_importances = feature_importances.sort_values(by='importance', ascending=False)\n",
    "\n",
    "# Plot the feature importances\n",
    "plt.figure(figsize=(10, 6))\n",
    "sns.barplot(x='importance', y='feature', data=feature_importances.head(10), palette='viridis')\n",
    "plt.title('Top 10 Feature Importances for Test Result Prediction')\n",
    "plt.xlabel('Importance')\n",
    "plt.ylabel('Feature')\n",
    "plt.show()\n"
   ]
  }
 ],
 "metadata": {
  "kernelspec": {
   "display_name": "tf",
   "language": "python",
   "name": "python3"
  },
  "language_info": {
   "codemirror_mode": {
    "name": "ipython",
    "version": 3
   },
   "file_extension": ".py",
   "mimetype": "text/x-python",
   "name": "python",
   "nbconvert_exporter": "python",
   "pygments_lexer": "ipython3",
   "version": "3.9.18"
  }
 },
 "nbformat": 4,
 "nbformat_minor": 2
}
