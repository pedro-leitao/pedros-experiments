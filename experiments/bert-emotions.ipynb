{
 "cells": [
  {
   "cell_type": "markdown",
   "metadata": {},
   "source": [
    "# Fine-tuning a BERT model for Classification\n",
    "\n",
    "Fine-tuning a [BERT](https://huggingface.co/docs/transformers/en/model_doc/bert) (Bidirectional Encoder Representations from Transformers) model for classification tasks involves adapting this pre-trained model to perform specific text classification tasks. Here’s a straightforward introduction to the concept.\n",
    "\n",
    "BERT is a type of transformer model that was pre-trained on a large corpus of text. It uses a mechanism known as [attention](https://arxiv.org/abs/1706.03762), allowing the model to weigh the importance of different words relative to others for a better understanding of context. This model was designed to pre-train deep bidirectional representations by jointly conditioning on both left and right context in all layers. As a result, the pre-trained BERT model can be fine-tuned with just one additional output layer to create state-of-the-art models for a wide range of tasks, such as question answering and sentiment analysis, without substantial modifications.\n",
    "\n",
    "The [Transformers library](https://huggingface.co/docs/transformers/en/index), provides a collection of pre-trained models like BERT, GPT (Generative Pre-trained Transformer), and others for Natural Language Processing (NLP). The library offers APIs to easily import and use these models. Both BERT and GPT are based on the transformer architecture but serve different purposes; BERT is designed to refine the understanding of sentence context and relations, making it ideal for classification tasks. In contrast, GPT is oriented towards generating text based on the input given.\n",
    "\n",
    "Fine-tuning BERT for classification involves:\n",
    "1. **Initializing BERT with pre-trained weights**: These weights have learned underlying patterns in language from its training dataset, typically datasets like Wikipedia.\n",
    "2. **Adding a classification layer**: This layer will make predictions based on the representations from BERT.\n",
    "3. **Training the model on a specific dataset**: This step adapts BERT’s weights slightly to the nuances of the classification task at hand, without losing the generalized understanding it has developed.\n",
    "\n",
    "This process customizes BERT to effectively perform on specific classification tasks by leveraging both its pre-trained general understanding of language and its capacity to adapt to particular contexts.\n",
    "\n",
    "Let's start with a very simple classification example, where we will fine-tune a pre-trained BERT model to classify text into a set of emotion classes."
   ]
  },
  {
   "cell_type": "markdown",
   "metadata": {},
   "source": [
    "## TensorFlow and Transformers library\n",
    "\n",
    "For context, here are the versions of TensorFlow, the Transformers library and TensorFlow-Metal used in this experiment."
   ]
  },
  {
   "cell_type": "code",
   "execution_count": 1,
   "metadata": {
    "editable": true,
    "slideshow": {
     "slide_type": ""
    },
    "tags": [
     "hide-input"
    ]
   },
   "outputs": [
    {
     "name": "stdout",
     "output_type": "stream",
     "text": [
      "TensorFlow Version: 2.16.1\n",
      "Transformers Version: 4.39.3\n",
      "tensorflow-metal              1.1.0\n"
     ]
    }
   ],
   "source": [
    "# Import the libraries\n",
    "import tensorflow as tf\n",
    "from transformers import __version__ as transformers_version\n",
    "\n",
    "# Print TensorFlow and Keras version\n",
    "print(\"TensorFlow Version:\", tf.__version__)\n",
    "\n",
    "# Print Transformers (Hugging Face BERT) version\n",
    "print(\"Transformers Version:\", transformers_version)\n",
    "\n",
    "!pip list | grep tensorflow-metal\n"
   ]
  },
  {
   "cell_type": "markdown",
   "metadata": {},
   "source": [
    "## Loading the dataset\n",
    "\n",
    "We will use the [Emotion Dataset](https://huggingface.co/datasets/emotion) from the Hugging Face datasets library. This dataset contains text samples labeled with one of six emotions: sadness, joy, love, anger, fear and surprise. We will use this dataset to fine-tune a pre-trained BERT model for text classification. In this case we will use the `kaggle` library to download the dataset directly."
   ]
  },
  {
   "cell_type": "code",
   "execution_count": 2,
   "metadata": {
    "editable": true,
    "slideshow": {
     "slide_type": ""
    },
    "tags": [
     "hide-input"
    ]
   },
   "outputs": [
    {
     "name": "stdout",
     "output_type": "stream",
     "text": [
      "Dataset URL: https://www.kaggle.com/datasets/nelgiriyewithana/emotions\n",
      "License(s): other\n",
      "Downloading emotions.zip to .data\n",
      " 96%|████████████████████████████████████▎ | 15.0M/15.7M [00:02<00:00, 8.81MB/s]\n",
      "100%|██████████████████████████████████████| 15.7M/15.7M [00:02<00:00, 7.10MB/s]\n"
     ]
    },
    {
     "data": {
      "text/html": [
       "<div>\n",
       "<style scoped>\n",
       "    .dataframe tbody tr th:only-of-type {\n",
       "        vertical-align: middle;\n",
       "    }\n",
       "\n",
       "    .dataframe tbody tr th {\n",
       "        vertical-align: top;\n",
       "    }\n",
       "\n",
       "    .dataframe thead th {\n",
       "        text-align: right;\n",
       "    }\n",
       "</style>\n",
       "<table border=\"1\" class=\"dataframe\">\n",
       "  <thead>\n",
       "    <tr style=\"text-align: right;\">\n",
       "      <th></th>\n",
       "      <th>text</th>\n",
       "      <th>label</th>\n",
       "    </tr>\n",
       "  </thead>\n",
       "  <tbody>\n",
       "    <tr>\n",
       "      <th>0</th>\n",
       "      <td>i just feel really helpless and heavy hearted</td>\n",
       "      <td>4</td>\n",
       "    </tr>\n",
       "    <tr>\n",
       "      <th>1</th>\n",
       "      <td>ive enjoyed being able to slouch about relax a...</td>\n",
       "      <td>0</td>\n",
       "    </tr>\n",
       "    <tr>\n",
       "      <th>2</th>\n",
       "      <td>i gave up my internship with the dmrg and am f...</td>\n",
       "      <td>4</td>\n",
       "    </tr>\n",
       "    <tr>\n",
       "      <th>3</th>\n",
       "      <td>i dont know i feel so lost</td>\n",
       "      <td>0</td>\n",
       "    </tr>\n",
       "    <tr>\n",
       "      <th>4</th>\n",
       "      <td>i am a kindergarten teacher and i am thoroughl...</td>\n",
       "      <td>4</td>\n",
       "    </tr>\n",
       "  </tbody>\n",
       "</table>\n",
       "</div>"
      ],
      "text/plain": [
       "                                                text  label\n",
       "0      i just feel really helpless and heavy hearted      4\n",
       "1  ive enjoyed being able to slouch about relax a...      0\n",
       "2  i gave up my internship with the dmrg and am f...      4\n",
       "3                         i dont know i feel so lost      0\n",
       "4  i am a kindergarten teacher and i am thoroughl...      4"
      ]
     },
     "execution_count": 2,
     "metadata": {},
     "output_type": "execute_result"
    }
   ],
   "source": [
    "import pandas as pd\n",
    "from sklearn.model_selection import train_test_split\n",
    "\n",
    "# Download dataset\n",
    "!kaggle datasets download -d nelgiriyewithana/emotions -p .data/ --unzip\n",
    "\n",
    "# Load the dataset\n",
    "data = pd.read_csv('.data/text.csv')\n",
    "\n",
    "# Drop the first column\n",
    "data = data.drop(data.columns[0], axis='columns')\n",
    "\n",
    "# Display the first few rows of the dataframe\n",
    "data.head()"
   ]
  },
  {
   "cell_type": "markdown",
   "metadata": {},
   "source": [
    "And let us take a look at the shape of the dataframe - as expected it has 6 target classes, and is composed of just over 400K samples."
   ]
  },
  {
   "cell_type": "code",
   "execution_count": 3,
   "metadata": {
    "editable": true,
    "slideshow": {
     "slide_type": ""
    },
    "tags": [
     "hide-input"
    ]
   },
   "outputs": [
    {
     "name": "stdout",
     "output_type": "stream",
     "text": [
      "(416809, 2)\n",
      "6\n"
     ]
    }
   ],
   "source": [
    "# Print the shape of the dataframe\n",
    "print(data.shape)\n",
    "\n",
    "# And let us count the number of unique categories\n",
    "n_categories = data['label'].nunique()\n",
    "print(n_categories)"
   ]
  },
  {
   "cell_type": "markdown",
   "metadata": {},
   "source": [
    "Labels have the following meanings:\n",
    "\n",
    "- 0: Sadness\n",
    "- 1: Joy\n",
    "- 2: Love\n",
    "- 3: Anger\n",
    "- 4: Fear\n",
    "- 5: Surprise\n"
   ]
  },
  {
   "cell_type": "markdown",
   "metadata": {},
   "source": [
    "It is also important to note that the dataset is imbalanced, with the majority of samples belonging to the 'sadness' and 'joy' class. This imbalance will be important to understand the results of the finetuned model later on."
   ]
  },
  {
   "cell_type": "code",
   "execution_count": 4,
   "metadata": {
    "editable": true,
    "slideshow": {
     "slide_type": ""
    },
    "tags": [
     "hide-input"
    ]
   },
   "outputs": [
    {
     "data": {
      "text/plain": [
       "label\n",
       "1    141067\n",
       "0    121187\n",
       "3     57317\n",
       "4     47712\n",
       "2     34554\n",
       "5     14972\n",
       "Name: count, dtype: int64"
      ]
     },
     "execution_count": 4,
     "metadata": {},
     "output_type": "execute_result"
    }
   ],
   "source": [
    "# Build a dictionary of categories\n",
    "categories = ['sadness', 'joy', 'love', 'anger', 'fear', 'surprise']\n",
    "\n",
    "# Count the number of texts in each category, and convert the numerical value to a textual one\n",
    "data['label'].value_counts()"
   ]
  },
  {
   "cell_type": "markdown",
   "metadata": {},
   "source": [
    "Now let us prepare a tokenizer, ready to be used with the BERT model. We will use the `distilbert-base-uncased` model, which is a smaller version of the BERT model, but which retains most of it's performance. This will allow us to train the model faster, and with less computational resources."
   ]
  },
  {
   "cell_type": "code",
   "execution_count": 5,
   "metadata": {
    "editable": true,
    "slideshow": {
     "slide_type": ""
    },
    "tags": [
     "hide-input"
    ]
   },
   "outputs": [],
   "source": [
    "from transformers import DistilBertTokenizer\n",
    "\n",
    "foundation_model_name = 'distilbert-base-uncased'\n",
    "\n",
    "# Load the BERT tokenizer\n",
    "tokenizer = DistilBertTokenizer.from_pretrained(foundation_model_name)"
   ]
  },
  {
   "cell_type": "markdown",
   "metadata": {},
   "source": [
    "## Preparing the data\n",
    "\n",
    "We also need to split the dataset into 'X' (features) and 'y' (target). We will also tokenize the text samples, and pad them to a fixed length of 512 tokens, which is the maximum length that the BERT model can handle. Notice how the tokenizer also adds special tokens to the input, such as the `[CLS]` token at the beginning of the input, and the `[SEP]` token at the end of the input. "
   ]
  },
  {
   "cell_type": "code",
   "execution_count": 6,
   "metadata": {
    "editable": true,
    "slideshow": {
     "slide_type": ""
    },
    "tags": [
     "hide-input"
    ]
   },
   "outputs": [
    {
     "name": "stdout",
     "output_type": "stream",
     "text": [
      "(416809, 512)\n"
     ]
    },
    {
     "data": {
      "text/plain": [
       "'[CLS] i just feel really helpless and heavy hearted [SEP] [PAD] [PAD] [PAD] [PAD] [PAD] [PAD] [PAD] [PAD] [PAD] [PAD] [PAD] [PAD] [PAD] [PAD] [PAD] [PAD] [PAD] [PAD] [PAD] [PAD] [PAD] [PAD] [PAD] [PAD] [PAD] [PAD] [PAD] [PAD] [PAD] [PAD] [PAD] [PAD] [PAD] [PAD] [PAD] [PAD] [PAD] [PAD] [PAD] [PAD] [PAD] [PAD] [PAD] [PAD] [PAD] [PAD] [PAD] [PAD] [PAD] [PAD] [PAD] [PAD] [PAD] [PAD] [PAD] [PAD] [PAD] [PAD] [PAD] [PAD] [PAD] [PAD] [PAD] [PAD] [PAD] [PAD] [PAD] [PAD] [PAD] [PAD] [PAD] [PAD] [PAD] [PAD] [PAD] [PAD] [PAD] [PAD] [PAD] [PAD] [PAD] [PAD] [PAD] [PAD] [PAD] [PAD] [PAD] [PAD] [PAD] [PAD] [PAD] [PAD] [PAD] [PAD] [PAD] [PAD] [PAD] [PAD] [PAD] [PAD] [PAD] [PAD] [PAD] [PAD] [PAD] [PAD] [PAD] [PAD] [PAD] [PAD] [PAD] [PAD] [PAD] [PAD] [PAD] [PAD] [PAD] [PAD] [PAD] [PAD] [PAD] [PAD] [PAD] [PAD] [PAD] [PAD] [PAD] [PAD] [PAD] [PAD] [PAD] [PAD] [PAD] [PAD] [PAD] [PAD] [PAD] [PAD] [PAD] [PAD] [PAD] [PAD] [PAD] [PAD] [PAD] [PAD] [PAD] [PAD] [PAD] [PAD] [PAD] [PAD] [PAD] [PAD] [PAD] [PAD] [PAD] [PAD] [PAD] [PAD] [PAD] [PAD] [PAD] [PAD] [PAD] [PAD] [PAD] [PAD] [PAD] [PAD] [PAD] [PAD] [PAD] [PAD] [PAD] [PAD] [PAD] [PAD] [PAD] [PAD] [PAD] [PAD] [PAD] [PAD] [PAD] [PAD] [PAD] [PAD] [PAD] [PAD] [PAD] [PAD] [PAD] [PAD] [PAD] [PAD] [PAD] [PAD] [PAD] [PAD] [PAD] [PAD] [PAD] [PAD] [PAD] [PAD] [PAD] [PAD] [PAD] [PAD] [PAD] [PAD] [PAD] [PAD] [PAD] [PAD] [PAD] [PAD] [PAD] [PAD] [PAD] [PAD] [PAD] [PAD] [PAD] [PAD] [PAD] [PAD] [PAD] [PAD] [PAD] [PAD] [PAD] [PAD] [PAD] [PAD] [PAD] [PAD] [PAD] [PAD] [PAD] [PAD] [PAD] [PAD] [PAD] [PAD] [PAD] [PAD] [PAD] [PAD] [PAD] [PAD] [PAD] [PAD] [PAD] [PAD] [PAD] [PAD] [PAD] [PAD] [PAD] [PAD] [PAD] [PAD] [PAD] [PAD] [PAD] [PAD] [PAD] [PAD] [PAD] [PAD] [PAD] [PAD] [PAD] [PAD] [PAD] [PAD] [PAD] [PAD] [PAD] [PAD] [PAD] [PAD] [PAD] [PAD] [PAD] [PAD] [PAD] [PAD] [PAD] [PAD] [PAD] [PAD] [PAD] [PAD] [PAD] [PAD] [PAD] [PAD] [PAD] [PAD] [PAD] [PAD] [PAD] [PAD] [PAD] [PAD] [PAD] [PAD] [PAD] [PAD] [PAD] [PAD] [PAD] [PAD] [PAD] [PAD] [PAD] [PAD] [PAD] [PAD] [PAD] [PAD] [PAD] [PAD] [PAD] [PAD] [PAD] [PAD] [PAD] [PAD] [PAD] [PAD] [PAD] [PAD] [PAD] [PAD] [PAD] [PAD] [PAD] [PAD] [PAD] [PAD] [PAD] [PAD] [PAD] [PAD] [PAD] [PAD] [PAD] [PAD] [PAD] [PAD] [PAD] [PAD] [PAD] [PAD] [PAD] [PAD] [PAD] [PAD] [PAD] [PAD] [PAD] [PAD] [PAD] [PAD] [PAD] [PAD] [PAD] [PAD] [PAD] [PAD] [PAD] [PAD] [PAD] [PAD] [PAD] [PAD] [PAD] [PAD] [PAD] [PAD] [PAD] [PAD] [PAD] [PAD] [PAD] [PAD] [PAD] [PAD] [PAD] [PAD] [PAD] [PAD] [PAD] [PAD] [PAD] [PAD] [PAD] [PAD] [PAD] [PAD] [PAD] [PAD] [PAD] [PAD] [PAD] [PAD] [PAD] [PAD] [PAD] [PAD] [PAD] [PAD] [PAD] [PAD] [PAD] [PAD] [PAD] [PAD] [PAD] [PAD] [PAD] [PAD] [PAD] [PAD] [PAD] [PAD] [PAD] [PAD] [PAD] [PAD] [PAD] [PAD] [PAD] [PAD] [PAD] [PAD] [PAD] [PAD] [PAD] [PAD] [PAD] [PAD] [PAD] [PAD] [PAD] [PAD] [PAD] [PAD] [PAD] [PAD] [PAD] [PAD] [PAD] [PAD] [PAD] [PAD] [PAD] [PAD] [PAD] [PAD] [PAD] [PAD] [PAD] [PAD] [PAD] [PAD] [PAD] [PAD] [PAD] [PAD] [PAD] [PAD] [PAD] [PAD] [PAD] [PAD] [PAD] [PAD] [PAD] [PAD] [PAD] [PAD] [PAD] [PAD] [PAD] [PAD] [PAD] [PAD] [PAD] [PAD] [PAD] [PAD] [PAD] [PAD] [PAD] [PAD] [PAD] [PAD]'"
      ]
     },
     "execution_count": 6,
     "metadata": {},
     "output_type": "execute_result"
    }
   ],
   "source": [
    "import numpy as np\n",
    "\n",
    "X = data['text']\n",
    "y = data['label']\n",
    "\n",
    "X_tokenized = [tokenizer(text, max_length=512, padding='max_length', truncation=True)['input_ids'] for text in X]\n",
    "X_tokenized = np.array(X_tokenized)\n",
    "\n",
    "# Show the shape of X_tokenized\n",
    "print(X_tokenized.shape)\n",
    "\n",
    "# And the first element\n",
    "X_tokenized[0]\n",
    "\n",
    "# And the decoded text of the first element\n",
    "tokenizer.decode(X_tokenized[0])"
   ]
  },
  {
   "cell_type": "markdown",
   "metadata": {},
   "source": [
    "As a last step before training the model, we will split the dataset into training and validation sets. We will use 80% of the data for training, and 20% for validation."
   ]
  },
  {
   "cell_type": "code",
   "execution_count": 7,
   "metadata": {
    "editable": true,
    "slideshow": {
     "slide_type": ""
    },
    "tags": [
     "hide-input"
    ]
   },
   "outputs": [
    {
     "name": "stdout",
     "output_type": "stream",
     "text": [
      "(333447, 512)\n",
      "(83362, 512)\n"
     ]
    }
   ],
   "source": [
    "from sklearn.model_selection import train_test_split\n",
    "\n",
    "# Split the dataset into training and testing sets, we do not use a contant random state as we want to have different splits each time we run the code\n",
    "\n",
    "X_tokenized_train, X_tokenized_test, y_train, y_test = train_test_split(X_tokenized, y, test_size=0.2)\n",
    "\n",
    "print(X_tokenized_train.shape)\n",
    "print(X_tokenized_test.shape)"
   ]
  },
  {
   "cell_type": "markdown",
   "metadata": {},
   "source": [
    "## Preparing the model\n",
    "\n",
    "We will use the `TFDistilBertForSequenceClassification` class from the Transformers library to create a model for text classification."
   ]
  },
  {
   "cell_type": "code",
   "execution_count": 8,
   "metadata": {
    "editable": true,
    "slideshow": {
     "slide_type": ""
    },
    "tags": [
     "hide-input"
    ]
   },
   "outputs": [
    {
     "name": "stderr",
     "output_type": "stream",
     "text": [
      "2024-04-20 16:33:52.952624: I metal_plugin/src/device/metal_device.cc:1154] Metal device set to: Apple M2\n",
      "2024-04-20 16:33:52.952656: I metal_plugin/src/device/metal_device.cc:296] systemMemory: 24.00 GB\n",
      "2024-04-20 16:33:52.952670: I metal_plugin/src/device/metal_device.cc:313] maxCacheSize: 8.00 GB\n",
      "2024-04-20 16:33:52.952700: I tensorflow/core/common_runtime/pluggable_device/pluggable_device_factory.cc:305] Could not identify NUMA node of platform GPU ID 0, defaulting to 0. Your kernel may not have been built with NUMA support.\n",
      "2024-04-20 16:33:52.952724: I tensorflow/core/common_runtime/pluggable_device/pluggable_device_factory.cc:271] Created TensorFlow device (/job:localhost/replica:0/task:0/device:GPU:0 with 0 MB memory) -> physical PluggableDevice (device: 0, name: METAL, pci bus id: <undefined>)\n",
      "Some weights of the PyTorch model were not used when initializing the TF 2.0 model TFDistilBertForSequenceClassification: ['vocab_transform.bias', 'vocab_projector.bias', 'vocab_transform.weight', 'vocab_layer_norm.weight', 'vocab_layer_norm.bias']\n",
      "- This IS expected if you are initializing TFDistilBertForSequenceClassification from a PyTorch model trained on another task or with another architecture (e.g. initializing a TFBertForSequenceClassification model from a BertForPreTraining model).\n",
      "- This IS NOT expected if you are initializing TFDistilBertForSequenceClassification from a PyTorch model that you expect to be exactly identical (e.g. initializing a TFBertForSequenceClassification model from a BertForSequenceClassification model).\n",
      "Some weights or buffers of the TF 2.0 model TFDistilBertForSequenceClassification were not initialized from the PyTorch model and are newly initialized: ['pre_classifier.weight', 'pre_classifier.bias', 'classifier.weight', 'classifier.bias']\n",
      "You should probably TRAIN this model on a down-stream task to be able to use it for predictions and inference.\n"
     ]
    },
    {
     "name": "stdout",
     "output_type": "stream",
     "text": [
      "DistilBertConfig {\n",
      "  \"_name_or_path\": \"distilbert-base-uncased\",\n",
      "  \"activation\": \"gelu\",\n",
      "  \"architectures\": [\n",
      "    \"DistilBertForMaskedLM\"\n",
      "  ],\n",
      "  \"attention_dropout\": 0.1,\n",
      "  \"dim\": 768,\n",
      "  \"dropout\": 0.1,\n",
      "  \"hidden_dim\": 3072,\n",
      "  \"id2label\": {\n",
      "    \"0\": \"LABEL_0\",\n",
      "    \"1\": \"LABEL_1\",\n",
      "    \"2\": \"LABEL_2\",\n",
      "    \"3\": \"LABEL_3\",\n",
      "    \"4\": \"LABEL_4\",\n",
      "    \"5\": \"LABEL_5\"\n",
      "  },\n",
      "  \"initializer_range\": 0.02,\n",
      "  \"label2id\": {\n",
      "    \"LABEL_0\": 0,\n",
      "    \"LABEL_1\": 1,\n",
      "    \"LABEL_2\": 2,\n",
      "    \"LABEL_3\": 3,\n",
      "    \"LABEL_4\": 4,\n",
      "    \"LABEL_5\": 5\n",
      "  },\n",
      "  \"max_position_embeddings\": 512,\n",
      "  \"model_type\": \"distilbert\",\n",
      "  \"n_heads\": 12,\n",
      "  \"n_layers\": 6,\n",
      "  \"pad_token_id\": 0,\n",
      "  \"qa_dropout\": 0.1,\n",
      "  \"seq_classif_dropout\": 0.2,\n",
      "  \"sinusoidal_pos_embds\": false,\n",
      "  \"tie_weights_\": true,\n",
      "  \"transformers_version\": \"4.39.3\",\n",
      "  \"vocab_size\": 30522\n",
      "}\n",
      "\n"
     ]
    }
   ],
   "source": [
    "from transformers import TFDistilBertForSequenceClassification\n",
    "from transformers import DistilBertConfig\n",
    "\n",
    "# Configure the model, there are a number of things we will leave untouched. \n",
    "model_config = DistilBertConfig.from_pretrained(foundation_model_name, num_labels=n_categories)\n",
    "\n",
    "#model = TFBertForSequenceClassification.from_pretrained(foundation_model_name, config=model_config)\n",
    "model = TFDistilBertForSequenceClassification.from_pretrained(foundation_model_name, config=model_config)\n",
    "\n",
    "# Print the model configuration\n",
    "print(model.config)\n"
   ]
  },
  {
   "cell_type": "markdown",
   "metadata": {},
   "source": [
    "Here's a brief overview of the model configuration above:\n",
    "\n",
    "- `dim` (Dimensionality of the Encoder Layers and Pooler Layer)\n",
    "\n",
    "    Value: 768\n",
    "\n",
    "    This parameter represents the size of the hidden layers, i.e., the dimensionality of the output vectors (embeddings) for each token in the input sequence. A dim of 768 means that every token processed by DistilBERT is converted into a vector with 768 elements. This is a standard dimension for smaller models like BERT-base, providing a good balance between computational efficiency and capacity to capture useful information in embeddings.\n",
    "\n",
    "- `hidden_dim` (Dimensionality of the Feed-Forward Layers within the Transformer)\n",
    "\n",
    "    Value: 3072\n",
    "\n",
    "    This parameter specifies the size of the feed-forward layers within each attention block of the model. The hidden_dim being 3072 means that these layers expand the 768-dimensional input embeddings to 3072 dimensions internally within the layer. This expansion allows the network to create and manipulate more complex features and relationships before projecting them back down to 768 dimensions to pass to the next layer.\n",
    "\n",
    "- `dropout` (Dropout Rate for Embeddings and Fully Connected Layers)\n",
    "\n",
    "    Value: 0.1\n",
    "\n",
    "    This parameter controls the dropout rate used on the output of each layer, before it is passed to the next layer. A dropout rate of 0.1 means that each element of the output vector from each layer (including the embeddings and the outputs of the hidden layers) has a 10% chance of being set to zero during training. This is a regularization technique used to prevent overfitting by reducing reliance on any single element within the feature vectors.\n",
    "\n",
    "- `attention_dropout` (Dropout Rate within Attention Mechanisms)\n",
    "\n",
    "    Value: 0.1\n",
    "\n",
    "    This parameter specifically controls the dropout rate for the attention scores in the attention mechanisms of the model. The attention_dropout of 0.1 implies that each attention score calculated (which determines how much each token should attend to every other token) has a 10% chance of being set to zero. This helps in making the attention mechanism robust, further helping to mitigate overfitting by ensuring that the model does not rely too heavily on specific parts of the input."
   ]
  },
  {
   "cell_type": "markdown",
   "metadata": {},
   "source": [
    "## Model output\n",
    "\n",
    "The model outputs a tuple containing the loss and the logits. The loss is used to train the model, while the logits are the raw output of the model, before the activation function is applied. The logits can be converted to probabilities by applying the softmax function.\n",
    "\n",
    "```{note}\n",
    "In classification models, 'logits' refer to the raw output values produced by the final layer of a neural network before passing through a softmax activation function or any other normalization method that converts them into probabilities. The term \"logit\" typically stems from logistic regression in statistics, where it refers to the log-odds of a probability; that is, the logarithm of the odds\n",
    "\n",
    "$$\n",
    "\\text{Log-Odds} = \\log\\left(\\frac{p}{1-p}\\right)\n",
    "$$\n",
    "\n",
    "where $\\mathbf{p}$ is the probability of a positive outcome. In the context of neural networks, logits preserve this idea of being indirectly related to probabilities (pre-transformation values).\n",
    "\n",
    "In neural networks:\n",
    "\n",
    "- The logits are the outputs of the last linear transformation (using weights and biases), applied to the input of the final layer (e.g., the output of all previous layers in a neural network).\n",
    "- Mathematically, if $\\mathbf{z}$ represents the input vector to the final layer and $\\mathbf{W}$ and $\\mathbf{b}$ are the weight matrix and bias vector of that layer, respectively, then the logits $\\mathbf{l}$ are computed as:\n",
    "\n",
    "$$\n",
    "\\mathbf{l} = z \\cdot W + b\n",
    "$$\n",
    "\n",
    "\n",
    "The logits serve several key purposes:\n",
    "\n",
    "- Pre-Activation Values: They are considered pre-activation because they are often subject to further transformations depending on the specific task (e.g., passing through a softmax function for classification tasks).\n",
    "- Basis for Probabilities: For classification tasks, the logits are transformed by the softmax function to derive probabilities. The softmax function is defined as:\n",
    "\n",
    "$$\n",
    "\\text{Softmax}(\\mathbf{l})_i = \\frac{e^{l_i}}{\\sum_k e^{l_k}}\n",
    "$$\n",
    "\n",
    "\n",
    "where $\\mathbf{e}$ is the exponential function, $\\mathbf{l}_i$ is the $\\mathbf{i}th$ logit, and the denominator is the sum of exponential values of all logits. This transformation maps the logits onto the $\\mathbf{(0,1)}$ interval, and they sum to 1, forming a valid probability distribution.\n",
    "\n",
    "- Interpretability: Before applying softmax, logits can be any real number (positive, negative, zero), which makes them less interpretable in terms of probabilities. However, their relative values are informative; a higher logit value for one class compared to another indicates a stronger preference for that class before normalization.\n",
    "- Training Stability and Performance: Working with logits directly (especially in the loss functions such as cross-entropy) often leads to more numerically stable algorithms. This is because manipulating probabilities (which can approach zero and cause computational issues due to underflow) is prone to numerical errors.\n",
    "```\n",
    "\n",
    "Let's illustrate this with an example. We will use the first sample from the validation set to get the model's prediction. We will first get the logits, and then convert them to probabilities using the softmax function. The class with the highest probability will be the model's prediction."
   ]
  },
  {
   "cell_type": "code",
   "execution_count": 9,
   "metadata": {
    "editable": true,
    "slideshow": {
     "slide_type": ""
    },
    "tags": [
     "hide-input"
    ]
   },
   "outputs": [
    {
     "name": "stdout",
     "output_type": "stream",
     "text": [
      "(1, 6)\n",
      "tf.Tensor([-0.07894903  0.0279115   0.07037467 -0.04731032 -0.05811661 -0.05221566], shape=(6,), dtype=float32)\n",
      "tf.Tensor([0.15737827 0.17512725 0.18272385 0.16243713 0.16069123 0.16164225], shape=(6,), dtype=float32)\n"
     ]
    }
   ],
   "source": [
    "sample = X_tokenized_train[0]\n",
    "result = model(sample)\n",
    "\n",
    "# Print the shape of the logits\n",
    "print(result.logits.shape)\n",
    "\n",
    "# Print the first element of the logits (this is a tensor with 6 elements)\n",
    "print(result.logits[0])\n",
    "\n",
    "# Print the probabilities of the first element\n",
    "print(tf.nn.softmax(result.logits[0]))\n"
   ]
  },
  {
   "cell_type": "markdown",
   "metadata": {},
   "source": [
    "## Compiling and fitting the model\n",
    "\n",
    "We are now ready to compile and fit the model. We will use the Adam optimizer with a learning rate of $8 \\times 10^{-5}$, and the sparse categorical cross-entropy loss function. We will train the model for five epochs, and use the validation set to monitor the model's performance. Note the number of parameters in the model - even though we are using a smaller version of BERT, the model still has over 66 million adjustable parameters. We will also set a checkpoint callback to save the best model weights during training, this will be a long running process, so saving checkpoints means we can stop the training and resume it later without losing knowledge acquired by the model training."
   ]
  },
  {
   "cell_type": "code",
   "execution_count": 10,
   "metadata": {
    "editable": true,
    "slideshow": {
     "slide_type": ""
    },
    "tags": [
     "hide-input"
    ]
   },
   "outputs": [
    {
     "name": "stdout",
     "output_type": "stream",
     "text": [
      "Model: \"tf_distil_bert_for_sequence_classification\"\n",
      "_________________________________________________________________\n",
      " Layer (type)                Output Shape              Param #   \n",
      "=================================================================\n",
      " distilbert (TFDistilBertMa  multiple                  66362880  \n",
      " inLayer)                                                        \n",
      "                                                                 \n",
      " pre_classifier (Dense)      multiple                  590592    \n",
      "                                                                 \n",
      " classifier (Dense)          multiple                  4614      \n",
      "                                                                 \n",
      " dropout_19 (Dropout)        multiple                  0         \n",
      "                                                                 \n",
      "=================================================================\n",
      "Total params: 66958086 (255.42 MB)\n",
      "Trainable params: 66958086 (255.42 MB)\n",
      "Non-trainable params: 0 (0.00 Byte)\n",
      "_________________________________________________________________\n"
     ]
    }
   ],
   "source": [
    "import tensorflow as tf\n",
    "\n",
    "batch_size = 32\n",
    "epochs = 5\n",
    "\n",
    "checkpoint_path = '.data/bert-emotions.keras'\n",
    "checkpoint_callback = tf.keras.callbacks.ModelCheckpoint(\n",
    "    filepath=checkpoint_path,\n",
    "    save_weights_only=True,\n",
    "    save_best_only=True,\n",
    "    save_freq=batch_size, # Save after every batch\n",
    "    mode='max', # Save the model that maximizes the monitored quantity\n",
    "    monitor='accuracy')\n",
    "\n",
    "# Now let us train the model, we are going for a faster learning rate than the usual 5e-5 for BERT models\n",
    "optimizer = tf.keras.optimizers.legacy.Adam(learning_rate=8e-5)\n",
    "loss = tf.keras.losses.SparseCategoricalCrossentropy(from_logits=True)\n",
    "metrics = [\n",
    "    tf.keras.metrics.SparseCategoricalAccuracy(name='accuracy'),\n",
    "]\n",
    "model.compile(optimizer = optimizer, loss=loss, metrics=metrics)\n",
    "model.summary()"
   ]
  },
  {
   "cell_type": "markdown",
   "metadata": {},
   "source": [
    "We want to check for any available checkpoints before starting the training process. If there are any, we will load the latest checkpoint and resume training from there."
   ]
  },
  {
   "cell_type": "code",
   "execution_count": 11,
   "metadata": {
    "editable": true,
    "slideshow": {
     "slide_type": ""
    },
    "tags": [
     "hide-input"
    ]
   },
   "outputs": [
    {
     "name": "stdout",
     "output_type": "stream",
     "text": [
      "Loaded checkpoint weights, continuing training...\n"
     ]
    }
   ],
   "source": [
    "# Load the latest checkpoint weights, if available\n",
    "try:\n",
    "    model.load_weights(checkpoint_path)\n",
    "    print(\"Loaded checkpoint weights, continuing training...\")\n",
    "except Exception as e:\n",
    "    print(\"Failed to load checkpoint weights, starting anew: \", e)"
   ]
  },
  {
   "cell_type": "markdown",
   "metadata": {},
   "source": [
    "Before we run the training, let's take a look at some of the predictions made by the model on the validation set. We will use the model to predict the classes of five random samples in the validation set, and compare the predictions with the actual labels.\n",
    "\n",
    "BERT tokenizers play a crucial role in preparing text data for processing by the BERT model by converting text into a format that the model can understand. A critical part of this process involves the use of special tokens that help the model interpret the structure and meaning of the input data. Here’s a breakdown of these special tokens set by BERT tokenizers:\n",
    "\n",
    "```{note}\n",
    "- [CLS] Token\n",
    "\n",
    "Purpose: This token stands for \"classification\" and is used at the beginning of every text input. This is crucial for tasks that require a single output from the model, such as sentiment analysis or other classification tasks. The [CLS] token's final hidden state (i.e., the output of the transformer associated with this token) is used as the aggregate sequence representation for classification tasks.\n",
    "\n",
    "Usage Example: If your input is \"Hello, world!\", then the processed input starts with [CLS]: [CLS] Hello, world!.\n",
    "- [SEP] Token\n",
    "\n",
    "Purpose: The \"separator\" token is used to separate distinct segments of text inputs. It can also mark the end of a single sentence or the text sequence. In tasks involving multiple inputs (e.g., question answering formats that involve a question and a passage), [SEP] is used to separate the two different pieces.\n",
    "\n",
    "Usage Example: In a question answering setup where the question is \"What is your name?\" and the passage is \"My name is Sarah.\", the input would appear as: [CLS] What is your name? [SEP] My name is Sarah. [SEP]\n",
    "- [PAD] Token\n",
    "Purpose: Padding tokens are used to ensure that all sequences in a batch of text inputs are of the same length. Models generally require inputs to be of consistent size and shape, and padding allows shorter inputs to be extended to the required fixed length.\n",
    "\n",
    "Usage Example: For batching purposes, if the maximum sequence length is set to 10, and our input sequence is [CLS] Hi [SEP], which has only 3 tokens, it will be padded as: [CLS] Hi [SEP] [PAD] [PAD] [PAD] [PAD] [PAD] [PAD] [PAD].\n",
    "\n",
    "\n",
    "- [MASK] Token\n",
    "Purpose: Used predominantly in the training of BERT for masked language modeling. The [MASK] token replaces some percentage of the input tokens at random; then, the model learns to predict the original value of the masked tokens, based solely on the context provided by the other, non-masked, tokens. This process is fundamental to BERT’s bidirectional training approach.\n",
    "\n",
    "Usage Example: If we take the sentence \"I enjoy watching football\", and \"watching\" is chosen to be masked, the input would look like: [CLS] I enjoy [MASK] football [SEP]\n",
    "```"
   ]
  },
  {
   "cell_type": "code",
   "execution_count": 12,
   "metadata": {
    "editable": true,
    "slideshow": {
     "slide_type": ""
    },
    "tags": [
     "hide-input"
    ]
   },
   "outputs": [
    {
     "name": "stdout",
     "output_type": "stream",
     "text": [
      "Text:  [CLS] i honestly feel that calling violent crime our farms are experiencing an organized racially motivated genocide campaign to be a pseudo issue obstructing many of us from understanding and dealing with the real cause of rural homicides [SEP] [PAD] [PAD] [PAD] [PAD] [PAD] [PAD] [PAD] [PAD] [PAD] [PAD] [PAD] [PAD] [PAD] [PAD] [PAD] [PAD] [PAD] [PAD] [PAD] [PAD] [PAD] [PAD] [PAD] [PAD] [PAD] [PAD] [PAD] [PAD] [PAD] [PAD] [PAD] [PAD] [PAD] [PAD] [PAD] [PAD] [PAD] [PAD] [PAD] [PAD] [PAD] [PAD] [PAD] [PAD] [PAD] [PAD] [PAD] [PAD] [PAD] [PAD] [PAD] [PAD] [PAD] [PAD] [PAD] [PAD] [PAD] [PAD] [PAD] [PAD] [PAD] [PAD] [PAD] [PAD] [PAD] [PAD] [PAD] [PAD] [PAD] [PAD] [PAD] [PAD] [PAD] [PAD] [PAD] [PAD] [PAD] [PAD] [PAD] [PAD] [PAD] [PAD] [PAD] [PAD] [PAD] [PAD] [PAD] [PAD] [PAD] [PAD] [PAD] [PAD] [PAD] [PAD] [PAD] [PAD] [PAD] [PAD] [PAD] [PAD] [PAD] [PAD] [PAD] [PAD] [PAD] [PAD] [PAD] [PAD] [PAD] [PAD] [PAD] [PAD] [PAD] [PAD] [PAD] [PAD] [PAD] [PAD] [PAD] [PAD] [PAD] [PAD] [PAD] [PAD] [PAD] [PAD] [PAD] [PAD] [PAD] [PAD] [PAD] [PAD] [PAD] [PAD] [PAD] [PAD] [PAD] [PAD] [PAD] [PAD] [PAD] [PAD] [PAD] [PAD] [PAD] [PAD] [PAD] [PAD] [PAD] [PAD] [PAD] [PAD] [PAD] [PAD] [PAD] [PAD] [PAD] [PAD] [PAD] [PAD] [PAD] [PAD] [PAD] [PAD] [PAD] [PAD] [PAD] [PAD] [PAD] [PAD] [PAD] [PAD] [PAD] [PAD] [PAD] [PAD] [PAD] [PAD] [PAD] [PAD] [PAD] [PAD] [PAD] [PAD] [PAD] [PAD] [PAD] [PAD] [PAD] [PAD] [PAD] [PAD] [PAD] [PAD] [PAD] [PAD] [PAD] [PAD] [PAD] [PAD] [PAD] [PAD] [PAD] [PAD] [PAD] [PAD] [PAD] [PAD] [PAD] [PAD] [PAD] [PAD] [PAD] [PAD] [PAD] [PAD] [PAD] [PAD] [PAD] [PAD] [PAD] [PAD] [PAD] [PAD] [PAD] [PAD] [PAD] [PAD] [PAD] [PAD] [PAD] [PAD] [PAD] [PAD] [PAD] [PAD] [PAD] [PAD] [PAD] [PAD] [PAD] [PAD] [PAD] [PAD] [PAD] [PAD] [PAD] [PAD] [PAD] [PAD] [PAD] [PAD] [PAD] [PAD] [PAD] [PAD] [PAD] [PAD] [PAD] [PAD] [PAD] [PAD] [PAD] [PAD] [PAD] [PAD] [PAD] [PAD] [PAD] [PAD] [PAD] [PAD] [PAD] [PAD] [PAD] [PAD] [PAD] [PAD] [PAD] [PAD] [PAD] [PAD] [PAD] [PAD] [PAD] [PAD] [PAD] [PAD] [PAD] [PAD] [PAD] [PAD] [PAD] [PAD] [PAD] [PAD] [PAD] [PAD] [PAD] [PAD] [PAD] [PAD] [PAD] [PAD] [PAD] [PAD] [PAD] [PAD] [PAD] [PAD] [PAD] [PAD] [PAD] [PAD] [PAD] [PAD] [PAD] [PAD] [PAD] [PAD] [PAD] [PAD] [PAD] [PAD] [PAD] [PAD] [PAD] [PAD] [PAD] [PAD] [PAD] [PAD] [PAD] [PAD] [PAD] [PAD] [PAD] [PAD] [PAD] [PAD] [PAD] [PAD] [PAD] [PAD] [PAD] [PAD] [PAD] [PAD] [PAD] [PAD] [PAD] [PAD] [PAD] [PAD] [PAD] [PAD] [PAD] [PAD] [PAD] [PAD] [PAD] [PAD] [PAD] [PAD] [PAD] [PAD] [PAD] [PAD] [PAD] [PAD] [PAD] [PAD] [PAD] [PAD] [PAD] [PAD] [PAD] [PAD] [PAD] [PAD] [PAD] [PAD] [PAD] [PAD] [PAD] [PAD] [PAD] [PAD] [PAD] [PAD] [PAD] [PAD] [PAD] [PAD] [PAD] [PAD] [PAD] [PAD] [PAD] [PAD] [PAD] [PAD] [PAD] [PAD] [PAD] [PAD] [PAD] [PAD] [PAD] [PAD] [PAD] [PAD] [PAD] [PAD] [PAD] [PAD] [PAD] [PAD] [PAD] [PAD] [PAD] [PAD] [PAD] [PAD] [PAD] [PAD] [PAD] [PAD] [PAD] [PAD] [PAD] [PAD] [PAD] [PAD] [PAD] [PAD] [PAD] [PAD] [PAD] [PAD] [PAD] [PAD] [PAD] [PAD] [PAD] [PAD] [PAD] [PAD] [PAD] [PAD] [PAD] [PAD] [PAD] [PAD] [PAD] [PAD] [PAD] [PAD] [PAD] [PAD] [PAD] [PAD] [PAD] [PAD] [PAD] [PAD] [PAD] [PAD]\n",
      "Predicted category:  fear\n",
      "Actual category:  anger\n",
      "\n",
      "Text:  [CLS] i don t know but this feels kind of strange to me like it s going back to her debut days [SEP] [PAD] [PAD] [PAD] [PAD] [PAD] [PAD] [PAD] [PAD] [PAD] [PAD] [PAD] [PAD] [PAD] [PAD] [PAD] [PAD] [PAD] [PAD] [PAD] [PAD] [PAD] [PAD] [PAD] [PAD] [PAD] [PAD] [PAD] [PAD] [PAD] [PAD] [PAD] [PAD] [PAD] [PAD] [PAD] [PAD] [PAD] [PAD] [PAD] [PAD] [PAD] [PAD] [PAD] [PAD] [PAD] [PAD] [PAD] [PAD] [PAD] [PAD] [PAD] [PAD] [PAD] [PAD] [PAD] [PAD] [PAD] [PAD] [PAD] [PAD] [PAD] [PAD] [PAD] [PAD] [PAD] [PAD] [PAD] [PAD] [PAD] [PAD] [PAD] [PAD] [PAD] [PAD] [PAD] [PAD] [PAD] [PAD] [PAD] [PAD] [PAD] [PAD] [PAD] [PAD] [PAD] [PAD] [PAD] [PAD] [PAD] [PAD] [PAD] [PAD] [PAD] [PAD] [PAD] [PAD] [PAD] [PAD] [PAD] [PAD] [PAD] [PAD] [PAD] [PAD] [PAD] [PAD] [PAD] [PAD] [PAD] [PAD] [PAD] [PAD] [PAD] [PAD] [PAD] [PAD] [PAD] [PAD] [PAD] [PAD] [PAD] [PAD] [PAD] [PAD] [PAD] [PAD] [PAD] [PAD] [PAD] [PAD] [PAD] [PAD] [PAD] [PAD] [PAD] [PAD] [PAD] [PAD] [PAD] [PAD] [PAD] [PAD] [PAD] [PAD] [PAD] [PAD] [PAD] [PAD] [PAD] [PAD] [PAD] [PAD] [PAD] [PAD] [PAD] [PAD] [PAD] [PAD] [PAD] [PAD] [PAD] [PAD] [PAD] [PAD] [PAD] [PAD] [PAD] [PAD] [PAD] [PAD] [PAD] [PAD] [PAD] [PAD] [PAD] [PAD] [PAD] [PAD] [PAD] [PAD] [PAD] [PAD] [PAD] [PAD] [PAD] [PAD] [PAD] [PAD] [PAD] [PAD] [PAD] [PAD] [PAD] [PAD] [PAD] [PAD] [PAD] [PAD] [PAD] [PAD] [PAD] [PAD] [PAD] [PAD] [PAD] [PAD] [PAD] [PAD] [PAD] [PAD] [PAD] [PAD] [PAD] [PAD] [PAD] [PAD] [PAD] [PAD] [PAD] [PAD] [PAD] [PAD] [PAD] [PAD] [PAD] [PAD] [PAD] [PAD] [PAD] [PAD] [PAD] [PAD] [PAD] [PAD] [PAD] [PAD] [PAD] [PAD] [PAD] [PAD] [PAD] [PAD] [PAD] [PAD] [PAD] [PAD] [PAD] [PAD] [PAD] [PAD] [PAD] [PAD] [PAD] [PAD] [PAD] [PAD] [PAD] [PAD] [PAD] [PAD] [PAD] [PAD] [PAD] [PAD] [PAD] [PAD] [PAD] [PAD] [PAD] [PAD] [PAD] [PAD] [PAD] [PAD] [PAD] [PAD] [PAD] [PAD] [PAD] [PAD] [PAD] [PAD] [PAD] [PAD] [PAD] [PAD] [PAD] [PAD] [PAD] [PAD] [PAD] [PAD] [PAD] [PAD] [PAD] [PAD] [PAD] [PAD] [PAD] [PAD] [PAD] [PAD] [PAD] [PAD] [PAD] [PAD] [PAD] [PAD] [PAD] [PAD] [PAD] [PAD] [PAD] [PAD] [PAD] [PAD] [PAD] [PAD] [PAD] [PAD] [PAD] [PAD] [PAD] [PAD] [PAD] [PAD] [PAD] [PAD] [PAD] [PAD] [PAD] [PAD] [PAD] [PAD] [PAD] [PAD] [PAD] [PAD] [PAD] [PAD] [PAD] [PAD] [PAD] [PAD] [PAD] [PAD] [PAD] [PAD] [PAD] [PAD] [PAD] [PAD] [PAD] [PAD] [PAD] [PAD] [PAD] [PAD] [PAD] [PAD] [PAD] [PAD] [PAD] [PAD] [PAD] [PAD] [PAD] [PAD] [PAD] [PAD] [PAD] [PAD] [PAD] [PAD] [PAD] [PAD] [PAD] [PAD] [PAD] [PAD] [PAD] [PAD] [PAD] [PAD] [PAD] [PAD] [PAD] [PAD] [PAD] [PAD] [PAD] [PAD] [PAD] [PAD] [PAD] [PAD] [PAD] [PAD] [PAD] [PAD] [PAD] [PAD] [PAD] [PAD] [PAD] [PAD] [PAD] [PAD] [PAD] [PAD] [PAD] [PAD] [PAD] [PAD] [PAD] [PAD] [PAD] [PAD] [PAD] [PAD] [PAD] [PAD] [PAD] [PAD] [PAD] [PAD] [PAD] [PAD] [PAD] [PAD] [PAD] [PAD] [PAD] [PAD] [PAD] [PAD] [PAD] [PAD] [PAD] [PAD] [PAD] [PAD] [PAD] [PAD] [PAD] [PAD] [PAD] [PAD] [PAD] [PAD] [PAD] [PAD] [PAD] [PAD] [PAD] [PAD] [PAD] [PAD] [PAD] [PAD] [PAD] [PAD] [PAD] [PAD] [PAD] [PAD] [PAD] [PAD] [PAD] [PAD] [PAD] [PAD] [PAD] [PAD] [PAD] [PAD] [PAD] [PAD] [PAD] [PAD] [PAD] [PAD] [PAD] [PAD] [PAD] [PAD] [PAD] [PAD] [PAD]\n",
      "Predicted category:  surprise\n",
      "Actual category:  fear\n",
      "\n",
      "Text:  [CLS] i promptly went to bed proud as punch but feeling lousy [SEP] [PAD] [PAD] [PAD] [PAD] [PAD] [PAD] [PAD] [PAD] [PAD] [PAD] [PAD] [PAD] [PAD] [PAD] [PAD] [PAD] [PAD] [PAD] [PAD] [PAD] [PAD] [PAD] [PAD] [PAD] [PAD] [PAD] [PAD] [PAD] [PAD] [PAD] [PAD] [PAD] [PAD] [PAD] [PAD] [PAD] [PAD] [PAD] [PAD] [PAD] [PAD] [PAD] [PAD] [PAD] [PAD] [PAD] [PAD] [PAD] [PAD] [PAD] [PAD] [PAD] [PAD] [PAD] [PAD] [PAD] [PAD] [PAD] [PAD] [PAD] [PAD] [PAD] [PAD] [PAD] [PAD] [PAD] [PAD] [PAD] [PAD] [PAD] [PAD] [PAD] [PAD] [PAD] [PAD] [PAD] [PAD] [PAD] [PAD] [PAD] [PAD] [PAD] [PAD] [PAD] [PAD] [PAD] [PAD] [PAD] [PAD] [PAD] [PAD] [PAD] [PAD] [PAD] [PAD] [PAD] [PAD] [PAD] [PAD] [PAD] [PAD] [PAD] [PAD] [PAD] [PAD] [PAD] [PAD] [PAD] [PAD] [PAD] [PAD] [PAD] [PAD] [PAD] [PAD] [PAD] [PAD] [PAD] [PAD] [PAD] [PAD] [PAD] [PAD] [PAD] [PAD] [PAD] [PAD] [PAD] [PAD] [PAD] [PAD] [PAD] [PAD] [PAD] [PAD] [PAD] [PAD] [PAD] [PAD] [PAD] [PAD] [PAD] [PAD] [PAD] [PAD] [PAD] [PAD] [PAD] [PAD] [PAD] [PAD] [PAD] [PAD] [PAD] [PAD] [PAD] [PAD] [PAD] [PAD] [PAD] [PAD] [PAD] [PAD] [PAD] [PAD] [PAD] [PAD] [PAD] [PAD] [PAD] [PAD] [PAD] [PAD] [PAD] [PAD] [PAD] [PAD] [PAD] [PAD] [PAD] [PAD] [PAD] [PAD] [PAD] [PAD] [PAD] [PAD] [PAD] [PAD] [PAD] [PAD] [PAD] [PAD] [PAD] [PAD] [PAD] [PAD] [PAD] [PAD] [PAD] [PAD] [PAD] [PAD] [PAD] [PAD] [PAD] [PAD] [PAD] [PAD] [PAD] [PAD] [PAD] [PAD] [PAD] [PAD] [PAD] [PAD] [PAD] [PAD] [PAD] [PAD] [PAD] [PAD] [PAD] [PAD] [PAD] [PAD] [PAD] [PAD] [PAD] [PAD] [PAD] [PAD] [PAD] [PAD] [PAD] [PAD] [PAD] [PAD] [PAD] [PAD] [PAD] [PAD] [PAD] [PAD] [PAD] [PAD] [PAD] [PAD] [PAD] [PAD] [PAD] [PAD] [PAD] [PAD] [PAD] [PAD] [PAD] [PAD] [PAD] [PAD] [PAD] [PAD] [PAD] [PAD] [PAD] [PAD] [PAD] [PAD] [PAD] [PAD] [PAD] [PAD] [PAD] [PAD] [PAD] [PAD] [PAD] [PAD] [PAD] [PAD] [PAD] [PAD] [PAD] [PAD] [PAD] [PAD] [PAD] [PAD] [PAD] [PAD] [PAD] [PAD] [PAD] [PAD] [PAD] [PAD] [PAD] [PAD] [PAD] [PAD] [PAD] [PAD] [PAD] [PAD] [PAD] [PAD] [PAD] [PAD] [PAD] [PAD] [PAD] [PAD] [PAD] [PAD] [PAD] [PAD] [PAD] [PAD] [PAD] [PAD] [PAD] [PAD] [PAD] [PAD] [PAD] [PAD] [PAD] [PAD] [PAD] [PAD] [PAD] [PAD] [PAD] [PAD] [PAD] [PAD] [PAD] [PAD] [PAD] [PAD] [PAD] [PAD] [PAD] [PAD] [PAD] [PAD] [PAD] [PAD] [PAD] [PAD] [PAD] [PAD] [PAD] [PAD] [PAD] [PAD] [PAD] [PAD] [PAD] [PAD] [PAD] [PAD] [PAD] [PAD] [PAD] [PAD] [PAD] [PAD] [PAD] [PAD] [PAD] [PAD] [PAD] [PAD] [PAD] [PAD] [PAD] [PAD] [PAD] [PAD] [PAD] [PAD] [PAD] [PAD] [PAD] [PAD] [PAD] [PAD] [PAD] [PAD] [PAD] [PAD] [PAD] [PAD] [PAD] [PAD] [PAD] [PAD] [PAD] [PAD] [PAD] [PAD] [PAD] [PAD] [PAD] [PAD] [PAD] [PAD] [PAD] [PAD] [PAD] [PAD] [PAD] [PAD] [PAD] [PAD] [PAD] [PAD] [PAD] [PAD] [PAD] [PAD] [PAD] [PAD] [PAD] [PAD] [PAD] [PAD] [PAD] [PAD] [PAD] [PAD] [PAD] [PAD] [PAD] [PAD] [PAD] [PAD] [PAD] [PAD] [PAD] [PAD] [PAD] [PAD] [PAD] [PAD] [PAD] [PAD] [PAD] [PAD] [PAD] [PAD] [PAD] [PAD] [PAD] [PAD] [PAD] [PAD] [PAD] [PAD] [PAD] [PAD] [PAD] [PAD] [PAD] [PAD] [PAD] [PAD] [PAD] [PAD] [PAD] [PAD] [PAD] [PAD] [PAD] [PAD] [PAD] [PAD] [PAD] [PAD] [PAD] [PAD] [PAD] [PAD] [PAD] [PAD] [PAD] [PAD] [PAD] [PAD] [PAD] [PAD] [PAD] [PAD] [PAD] [PAD] [PAD]\n",
      "Predicted category:  sadness\n",
      "Actual category:  sadness\n",
      "\n",
      "Text:  [CLS] i have to organize and do a bunch of work for my dad to come and steal the show or make me feel unimportant [SEP] [PAD] [PAD] [PAD] [PAD] [PAD] [PAD] [PAD] [PAD] [PAD] [PAD] [PAD] [PAD] [PAD] [PAD] [PAD] [PAD] [PAD] [PAD] [PAD] [PAD] [PAD] [PAD] [PAD] [PAD] [PAD] [PAD] [PAD] [PAD] [PAD] [PAD] [PAD] [PAD] [PAD] [PAD] [PAD] [PAD] [PAD] [PAD] [PAD] [PAD] [PAD] [PAD] [PAD] [PAD] [PAD] [PAD] [PAD] [PAD] [PAD] [PAD] [PAD] [PAD] [PAD] [PAD] [PAD] [PAD] [PAD] [PAD] [PAD] [PAD] [PAD] [PAD] [PAD] [PAD] [PAD] [PAD] [PAD] [PAD] [PAD] [PAD] [PAD] [PAD] [PAD] [PAD] [PAD] [PAD] [PAD] [PAD] [PAD] [PAD] [PAD] [PAD] [PAD] [PAD] [PAD] [PAD] [PAD] [PAD] [PAD] [PAD] [PAD] [PAD] [PAD] [PAD] [PAD] [PAD] [PAD] [PAD] [PAD] [PAD] [PAD] [PAD] [PAD] [PAD] [PAD] [PAD] [PAD] [PAD] [PAD] [PAD] [PAD] [PAD] [PAD] [PAD] [PAD] [PAD] [PAD] [PAD] [PAD] [PAD] [PAD] [PAD] [PAD] [PAD] [PAD] [PAD] [PAD] [PAD] [PAD] [PAD] [PAD] [PAD] [PAD] [PAD] [PAD] [PAD] [PAD] [PAD] [PAD] [PAD] [PAD] [PAD] [PAD] [PAD] [PAD] [PAD] [PAD] [PAD] [PAD] [PAD] [PAD] [PAD] [PAD] [PAD] [PAD] [PAD] [PAD] [PAD] [PAD] [PAD] [PAD] [PAD] [PAD] [PAD] [PAD] [PAD] [PAD] [PAD] [PAD] [PAD] [PAD] [PAD] [PAD] [PAD] [PAD] [PAD] [PAD] [PAD] [PAD] [PAD] [PAD] [PAD] [PAD] [PAD] [PAD] [PAD] [PAD] [PAD] [PAD] [PAD] [PAD] [PAD] [PAD] [PAD] [PAD] [PAD] [PAD] [PAD] [PAD] [PAD] [PAD] [PAD] [PAD] [PAD] [PAD] [PAD] [PAD] [PAD] [PAD] [PAD] [PAD] [PAD] [PAD] [PAD] [PAD] [PAD] [PAD] [PAD] [PAD] [PAD] [PAD] [PAD] [PAD] [PAD] [PAD] [PAD] [PAD] [PAD] [PAD] [PAD] [PAD] [PAD] [PAD] [PAD] [PAD] [PAD] [PAD] [PAD] [PAD] [PAD] [PAD] [PAD] [PAD] [PAD] [PAD] [PAD] [PAD] [PAD] [PAD] [PAD] [PAD] [PAD] [PAD] [PAD] [PAD] [PAD] [PAD] [PAD] [PAD] [PAD] [PAD] [PAD] [PAD] [PAD] [PAD] [PAD] [PAD] [PAD] [PAD] [PAD] [PAD] [PAD] [PAD] [PAD] [PAD] [PAD] [PAD] [PAD] [PAD] [PAD] [PAD] [PAD] [PAD] [PAD] [PAD] [PAD] [PAD] [PAD] [PAD] [PAD] [PAD] [PAD] [PAD] [PAD] [PAD] [PAD] [PAD] [PAD] [PAD] [PAD] [PAD] [PAD] [PAD] [PAD] [PAD] [PAD] [PAD] [PAD] [PAD] [PAD] [PAD] [PAD] [PAD] [PAD] [PAD] [PAD] [PAD] [PAD] [PAD] [PAD] [PAD] [PAD] [PAD] [PAD] [PAD] [PAD] [PAD] [PAD] [PAD] [PAD] [PAD] [PAD] [PAD] [PAD] [PAD] [PAD] [PAD] [PAD] [PAD] [PAD] [PAD] [PAD] [PAD] [PAD] [PAD] [PAD] [PAD] [PAD] [PAD] [PAD] [PAD] [PAD] [PAD] [PAD] [PAD] [PAD] [PAD] [PAD] [PAD] [PAD] [PAD] [PAD] [PAD] [PAD] [PAD] [PAD] [PAD] [PAD] [PAD] [PAD] [PAD] [PAD] [PAD] [PAD] [PAD] [PAD] [PAD] [PAD] [PAD] [PAD] [PAD] [PAD] [PAD] [PAD] [PAD] [PAD] [PAD] [PAD] [PAD] [PAD] [PAD] [PAD] [PAD] [PAD] [PAD] [PAD] [PAD] [PAD] [PAD] [PAD] [PAD] [PAD] [PAD] [PAD] [PAD] [PAD] [PAD] [PAD] [PAD] [PAD] [PAD] [PAD] [PAD] [PAD] [PAD] [PAD] [PAD] [PAD] [PAD] [PAD] [PAD] [PAD] [PAD] [PAD] [PAD] [PAD] [PAD] [PAD] [PAD] [PAD] [PAD] [PAD] [PAD] [PAD] [PAD] [PAD] [PAD] [PAD] [PAD] [PAD] [PAD] [PAD] [PAD] [PAD] [PAD] [PAD] [PAD] [PAD] [PAD] [PAD] [PAD] [PAD] [PAD] [PAD] [PAD] [PAD] [PAD] [PAD] [PAD] [PAD] [PAD] [PAD] [PAD] [PAD] [PAD] [PAD] [PAD] [PAD] [PAD] [PAD] [PAD] [PAD] [PAD] [PAD] [PAD] [PAD] [PAD] [PAD] [PAD] [PAD] [PAD] [PAD] [PAD]\n",
      "Predicted category:  sadness\n",
      "Actual category:  sadness\n",
      "\n",
      "Text:  [CLS] i feel less ugly but when i look into the mirror i know i look like shit [SEP] [PAD] [PAD] [PAD] [PAD] [PAD] [PAD] [PAD] [PAD] [PAD] [PAD] [PAD] [PAD] [PAD] [PAD] [PAD] [PAD] [PAD] [PAD] [PAD] [PAD] [PAD] [PAD] [PAD] [PAD] [PAD] [PAD] [PAD] [PAD] [PAD] [PAD] [PAD] [PAD] [PAD] [PAD] [PAD] [PAD] [PAD] [PAD] [PAD] [PAD] [PAD] [PAD] [PAD] [PAD] [PAD] [PAD] [PAD] [PAD] [PAD] [PAD] [PAD] [PAD] [PAD] [PAD] [PAD] [PAD] [PAD] [PAD] [PAD] [PAD] [PAD] [PAD] [PAD] [PAD] [PAD] [PAD] [PAD] [PAD] [PAD] [PAD] [PAD] [PAD] [PAD] [PAD] [PAD] [PAD] [PAD] [PAD] [PAD] [PAD] [PAD] [PAD] [PAD] [PAD] [PAD] [PAD] [PAD] [PAD] [PAD] [PAD] [PAD] [PAD] [PAD] [PAD] [PAD] [PAD] [PAD] [PAD] [PAD] [PAD] [PAD] [PAD] [PAD] [PAD] [PAD] [PAD] [PAD] [PAD] [PAD] [PAD] [PAD] [PAD] [PAD] [PAD] [PAD] [PAD] [PAD] [PAD] [PAD] [PAD] [PAD] [PAD] [PAD] [PAD] [PAD] [PAD] [PAD] [PAD] [PAD] [PAD] [PAD] [PAD] [PAD] [PAD] [PAD] [PAD] [PAD] [PAD] [PAD] [PAD] [PAD] [PAD] [PAD] [PAD] [PAD] [PAD] [PAD] [PAD] [PAD] [PAD] [PAD] [PAD] [PAD] [PAD] [PAD] [PAD] [PAD] [PAD] [PAD] [PAD] [PAD] [PAD] [PAD] [PAD] [PAD] [PAD] [PAD] [PAD] [PAD] [PAD] [PAD] [PAD] [PAD] [PAD] [PAD] [PAD] [PAD] [PAD] [PAD] [PAD] [PAD] [PAD] [PAD] [PAD] [PAD] [PAD] [PAD] [PAD] [PAD] [PAD] [PAD] [PAD] [PAD] [PAD] [PAD] [PAD] [PAD] [PAD] [PAD] [PAD] [PAD] [PAD] [PAD] [PAD] [PAD] [PAD] [PAD] [PAD] [PAD] [PAD] [PAD] [PAD] [PAD] [PAD] [PAD] [PAD] [PAD] [PAD] [PAD] [PAD] [PAD] [PAD] [PAD] [PAD] [PAD] [PAD] [PAD] [PAD] [PAD] [PAD] [PAD] [PAD] [PAD] [PAD] [PAD] [PAD] [PAD] [PAD] [PAD] [PAD] [PAD] [PAD] [PAD] [PAD] [PAD] [PAD] [PAD] [PAD] [PAD] [PAD] [PAD] [PAD] [PAD] [PAD] [PAD] [PAD] [PAD] [PAD] [PAD] [PAD] [PAD] [PAD] [PAD] [PAD] [PAD] [PAD] [PAD] [PAD] [PAD] [PAD] [PAD] [PAD] [PAD] [PAD] [PAD] [PAD] [PAD] [PAD] [PAD] [PAD] [PAD] [PAD] [PAD] [PAD] [PAD] [PAD] [PAD] [PAD] [PAD] [PAD] [PAD] [PAD] [PAD] [PAD] [PAD] [PAD] [PAD] [PAD] [PAD] [PAD] [PAD] [PAD] [PAD] [PAD] [PAD] [PAD] [PAD] [PAD] [PAD] [PAD] [PAD] [PAD] [PAD] [PAD] [PAD] [PAD] [PAD] [PAD] [PAD] [PAD] [PAD] [PAD] [PAD] [PAD] [PAD] [PAD] [PAD] [PAD] [PAD] [PAD] [PAD] [PAD] [PAD] [PAD] [PAD] [PAD] [PAD] [PAD] [PAD] [PAD] [PAD] [PAD] [PAD] [PAD] [PAD] [PAD] [PAD] [PAD] [PAD] [PAD] [PAD] [PAD] [PAD] [PAD] [PAD] [PAD] [PAD] [PAD] [PAD] [PAD] [PAD] [PAD] [PAD] [PAD] [PAD] [PAD] [PAD] [PAD] [PAD] [PAD] [PAD] [PAD] [PAD] [PAD] [PAD] [PAD] [PAD] [PAD] [PAD] [PAD] [PAD] [PAD] [PAD] [PAD] [PAD] [PAD] [PAD] [PAD] [PAD] [PAD] [PAD] [PAD] [PAD] [PAD] [PAD] [PAD] [PAD] [PAD] [PAD] [PAD] [PAD] [PAD] [PAD] [PAD] [PAD] [PAD] [PAD] [PAD] [PAD] [PAD] [PAD] [PAD] [PAD] [PAD] [PAD] [PAD] [PAD] [PAD] [PAD] [PAD] [PAD] [PAD] [PAD] [PAD] [PAD] [PAD] [PAD] [PAD] [PAD] [PAD] [PAD] [PAD] [PAD] [PAD] [PAD] [PAD] [PAD] [PAD] [PAD] [PAD] [PAD] [PAD] [PAD] [PAD] [PAD] [PAD] [PAD] [PAD] [PAD] [PAD] [PAD] [PAD] [PAD] [PAD] [PAD] [PAD] [PAD] [PAD] [PAD] [PAD] [PAD] [PAD] [PAD] [PAD] [PAD] [PAD] [PAD] [PAD] [PAD] [PAD] [PAD] [PAD] [PAD] [PAD] [PAD] [PAD] [PAD] [PAD] [PAD] [PAD] [PAD] [PAD] [PAD] [PAD] [PAD] [PAD] [PAD] [PAD] [PAD] [PAD] [PAD] [PAD] [PAD]\n",
      "Predicted category:  sadness\n",
      "Actual category:  sadness\n",
      "\n"
     ]
    }
   ],
   "source": [
    "# Randomly sample 5 elements from X_tokenized_train without replacement\n",
    "random_indexes = np.random.choice(len(X_tokenized_test), size=5, replace=False)\n",
    "random_sample = X_tokenized_test[random_indexes]\n",
    "result = model(random_sample)\n",
    "\n",
    "# Show the original text, the predicted category and the actual category\n",
    "for i, index in enumerate(random_indexes):\n",
    "    print(\"Text: \", tokenizer.decode(X_tokenized_test[index]))\n",
    "    print(\"Predicted category: \", categories[np.argmax(result.logits[i])])\n",
    "    print(\"Actual category: \", categories[y_test.iloc[index]])\n",
    "    print()"
   ]
  },
  {
   "cell_type": "markdown",
   "metadata": {},
   "source": [
    "Finally let us train the model and evaluate it's performance. We will use the validation set to evaluate the model's performance, and we will set an early stopping callback to stop the training process if the validation loss does not improve for 3 epochs."
   ]
  },
  {
   "cell_type": "code",
   "execution_count": 29,
   "metadata": {
    "editable": true,
    "slideshow": {
     "slide_type": ""
    },
    "tags": [
     "hide-input"
    ]
   },
   "outputs": [
    {
     "name": "stdout",
     "output_type": "stream",
     "text": [
      "   32/10421 [..............................] - ETA: 13:14:14 - loss: 0.1553 - accuracy: 0.9189"
     ]
    }
   ],
   "source": [
    "# Run the training\n",
    "\n",
    "# Add a callback to stop the training when the validation loss does not improve\n",
    "stop_callback = tf.keras.callbacks.EarlyStopping(monitor='val_loss', patience=3)\n",
    "\n",
    "model.fit(\n",
    "    X_tokenized_train,\n",
    "    y_train,\n",
    "    validation_data=(X_tokenized_test, y_test),\n",
    "    epochs=epochs,\n",
    "    batch_size=batch_size,\n",
    "    callbacks=[checkpoint_callback, stop_callback])\n",
    "\n",
    "\n",
    "# Save the model\n",
    "model.save_pretrained('.data/bert-emotions.model')"
   ]
  },
  {
   "cell_type": "markdown",
   "metadata": {},
   "source": [
    "## Evaluating performance\n",
    "\n",
    "We can evaluate the model's performance by plotting a confusion matrix of the predictions on the validation set as training progresses (we are checkpointing progress, so we can stop and restart training at will). This will help us understand how well the model is performing on each class. We will also calculate the classification report, which will give us a summary of the model's performance on each class, including metrics like precision, recall, and F1 score."
   ]
  },
  {
   "cell_type": "code",
   "execution_count": 26,
   "metadata": {
    "editable": true,
    "slideshow": {
     "slide_type": ""
    },
    "tags": [
     "hide-input"
    ]
   },
   "outputs": [
    {
     "name": "stdout",
     "output_type": "stream",
     "text": [
      "2606/2606 [==============================] - 3030s 1s/step\n"
     ]
    },
    {
     "data": {
      "image/png": "[encoded data removed]",
      "text/plain": [
       "<Figure size 1000x700 with 2 Axes>"
      ]
     },
     "metadata": {},
     "output_type": "display_data"
    }
   ],
   "source": [
    "import numpy as np\n",
    "from sklearn.metrics import confusion_matrix\n",
    "import seaborn as sns\n",
    "import matplotlib.pyplot as plt\n",
    "from scipy.special import softmax\n",
    "import matplotlib.colors as mcolors\n",
    "\n",
    "# Get the probabilities of the categories\n",
    "\n",
    "# Assuming your model has been trained and you have your test set ready\n",
    "# Predict the probabilities on the test set\n",
    "probabilities = model.predict(X_tokenized_test)\n",
    "\n",
    "# Extract logits from the model's output\n",
    "logits = probabilities.logits\n",
    "\n",
    "# Apply softmax to logits to get probabilities\n",
    "probabilities = softmax(logits, axis=1)\n",
    "\n",
    "# Convert probabilities to predicted classes\n",
    "predictions = np.argmax(probabilities, axis=1)\n",
    "\n",
    "# Generate the confusion matrix\n",
    "cm = confusion_matrix(y_test, predictions)\n",
    "\n",
    "# Define a custom colormap\n",
    "cmap = mcolors.LinearSegmentedColormap.from_list(\n",
    "    name='red_green_map', \n",
    "    colors=['red', 'yellow', 'green']\n",
    ")\n",
    "\n",
    "# Normalize the colormap to ensure that the diagonal (correct predictions) is green\n",
    "norm = mcolors.TwoSlopeNorm(vmin=0, vcenter=np.mean(cm), vmax=np.max(cm))\n",
    "\n",
    "# Plot the confusion matrix using Seaborn with the custom colormap\n",
    "plt.figure(figsize=(10,7))\n",
    "sns.heatmap(cm, annot=True, fmt='d', cmap=cmap, norm=norm)\n",
    "plt.xlabel('Predicted Labels')\n",
    "plt.ylabel('True Labels')\n",
    "plt.title('Confusion Matrix')\n",
    "plt.show()"
   ]
  },
  {
   "cell_type": "markdown",
   "metadata": {},
   "source": [
    "Now let us also print the classification report, which will give us a summary of the model's performance on each class."
   ]
  },
  {
   "cell_type": "code",
   "execution_count": 28,
   "metadata": {
    "editable": true,
    "slideshow": {
     "slide_type": ""
    },
    "tags": [
     "hide-input"
    ]
   },
   "outputs": [
    {
     "name": "stdout",
     "output_type": "stream",
     "text": [
      "              precision    recall  f1-score   support\n",
      "\n",
      "     sadness       0.78      1.00      0.87     24368\n",
      "         joy       0.94      0.91      0.92     28023\n",
      "        love       0.88      0.75      0.81      6962\n",
      "       anger       0.95      0.64      0.77     11539\n",
      "        fear       0.99      0.74      0.85      9522\n",
      "    surprise       0.72      0.97      0.82      2948\n",
      "\n",
      "    accuracy                           0.87     83362\n",
      "   macro avg       0.88      0.83      0.84     83362\n",
      "weighted avg       0.88      0.87      0.86     83362\n",
      "\n"
     ]
    }
   ],
   "source": [
    "# Print the classification report\n",
    "from sklearn.metrics import classification_report\n",
    "\n",
    "print(classification_report(y_test, predictions, target_names=categories))"
   ]
  },
  {
   "cell_type": "markdown",
   "metadata": {},
   "source": [
    "The classification report evaluates the performance of a model across multiple classes (in our case sadness, joy, love, anger, fear, surprise). Each class's performance is assessed using precision, recall, and the F1-score alongside the number of samples (support) for each class.\n",
    "\n",
    "Starting with **precision**, which indicates the accuracy of positive predictions for each emotion, the model performs best at predicting fear with a precision of 0.99, suggesting that nearly all predictions made by the model for fear are correct. Anger and joy also have high precision scores (0.95 and 0.94, respectively), meaning the model is reliable when it predicts these emotions. In contrast, surprise has the lowest precision at 0.72, indicating a higher rate of false positives for this class - this is to be expected, as it is the class which shows less often in the dataset.\n",
    "\n",
    "**Recall**, or the ability of the model to find all relevant cases within a dataset, is perfect for sadness at 1.00, meaning the model identifies all instances of sadness in the dataset. Surprise and joy also have high recall rates (0.97 and 0.91, respectively), showing that the model is capable of detecting most instances of these emotions. Anger has the lowest recall at 0.64.\n",
    "\n",
    "The **F1-score** provides a balance between precision and recall, taking into account both false positives and false negatives. Joy scores the highest with an F1-score of 0.92, indicative of a well-balanced precision and recall. Sadness and fear follow with F1-scores of 0.87 and 0.85, respectively. Anger, despite its high precision, has a lower F1-score of 0.77 due to its poor recall rate.\n",
    "\n",
    "The **support** column shows the number of actual occurrences of each class in the dataset, which informs us about the imbalance in the dataset's composition. Joy has the highest number of samples at 28,023, followed by sadness at 24,368, which might explain the model's effectiveness at identifying these emotions due to more extensive training data.\n",
    "\n",
    "Overall, the model achieves an **accuracy** of 0.87 across all predictions, which is quite high. The macro average for precision, recall, and F1-score are 0.88, 0.83, and 0.84 respectively, indicating good general performance across all classes. The weighted average, which accounts for the support of each class, shows similar performance with values of 0.88 for precision and 0.86 for F1-score, suggesting consistent performance weighted by the prevalence of each emotion in the dataset. This report highlights strengths in identifying sadness, joy, and fear effectively while pointing out weaknesses in detecting all instances of anger accurately."
   ]
  },
  {
   "cell_type": "markdown",
   "metadata": {},
   "source": [
    "## Final remarks\n",
    "\n",
    "In this experiment, we fine-tuned a pre-trained BERT model for text classification using the TensorFlow and Transformers libraries. We used the Emotion Dataset from the Hugging Face datasets library, which contains text samples labeled with one of six emotions: sadness, joy, love, anger, fear, and surprise. We used the `distilbert-base-uncased` model to create a text classification model and trained it on the dataset. We evaluated the model's performance using the validation set and calculated metrics like precision, recall, and F1-score for each class. The model achieved an accuracy of 0.87 and showed strengths in identifying sadness, joy, and fear effectively. The classification report provided a detailed summary of the model's performance on each class, highlighting areas of strength and areas for improvement."
   ]
  }
 ],
 "metadata": {
  "kernelspec": {
   "display_name": "Python 3 (ipykernel)",
   "language": "python",
   "name": "python3"
  },
  "language_info": {
   "codemirror_mode": {
    "name": "ipython",
    "version": 3
   },
   "file_extension": ".py",
   "mimetype": "text/x-python",
   "name": "python",
   "nbconvert_exporter": "python",
   "pygments_lexer": "ipython3",
   "version": "3.9.18"
  },
  "myst": {
    "html_meta": {
        "description": "This notebook demonstrates how to fine-tune a pre-trained BERT model for text classification using the TensorFlow and Transformers libraries. We use the Emotion Dataset from the Hugging Face datasets library, which contains text samples labeled with one of six emotions: sadness, joy, love, anger, fear, and surprise. We use the `distilbert-base-uncased` model to create a text classification model and train it on the dataset. We evaluate the model's performance using the validation set and calculate metrics like precision, recall, and F1-score for each class.",
        "keywords": "Machine Learning, Natural Language Processing, BERT, Text Classification, Emotion Recognition, TensorFlow, Transformers, Hugging Face, Classification Report, Confusion Matrix, Pedro, Pedro Leitao"
    }
}
 },
 "nbformat": 4,
 "nbformat_minor": 4
}
