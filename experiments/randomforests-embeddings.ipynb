{
 "cells": [
  {
   "cell_type": "code",
   "execution_count": 1,
   "metadata": {},
   "outputs": [
    {
     "name": "stdout",
     "output_type": "stream",
     "text": [
      "Warning: Looks like you're using an outdated API Version, please consider updating (server 1.6.14 / client 1.6.12)\n",
      "Dataset URL: https://www.kaggle.com/datasets/jp797498e/twitter-entity-sentiment-analysis\n",
      "License(s): CC0-1.0\n",
      "Downloading twitter-entity-sentiment-analysis.zip to .data\n",
      "100%|██████████████████████████████████████| 1.99M/1.99M [00:00<00:00, 5.77MB/s]\n",
      "100%|██████████████████████████████████████| 1.99M/1.99M [00:00<00:00, 5.33MB/s]\n"
     ]
    }
   ],
   "source": [
    "# Download the dataset\n",
    "\n",
    "!kaggle datasets download -d jp797498e/twitter-entity-sentiment-analysis -p .data/ --unzip"
   ]
  },
  {
   "cell_type": "code",
   "execution_count": 2,
   "metadata": {},
   "outputs": [
    {
     "data": {
      "text/html": [
       "<div>\n",
       "<style scoped>\n",
       "    .dataframe tbody tr th:only-of-type {\n",
       "        vertical-align: middle;\n",
       "    }\n",
       "\n",
       "    .dataframe tbody tr th {\n",
       "        vertical-align: top;\n",
       "    }\n",
       "\n",
       "    .dataframe thead th {\n",
       "        text-align: right;\n",
       "    }\n",
       "</style>\n",
       "<table border=\"1\" class=\"dataframe\">\n",
       "  <thead>\n",
       "    <tr style=\"text-align: right;\">\n",
       "      <th></th>\n",
       "      <th>id</th>\n",
       "      <th>tag</th>\n",
       "      <th>sentiment</th>\n",
       "      <th>text</th>\n",
       "    </tr>\n",
       "  </thead>\n",
       "  <tbody>\n",
       "    <tr>\n",
       "      <th>0</th>\n",
       "      <td>2401</td>\n",
       "      <td>Borderlands</td>\n",
       "      <td>Positive</td>\n",
       "      <td>I am coming to the borders and I will kill you...</td>\n",
       "    </tr>\n",
       "    <tr>\n",
       "      <th>1</th>\n",
       "      <td>2401</td>\n",
       "      <td>Borderlands</td>\n",
       "      <td>Positive</td>\n",
       "      <td>im getting on borderlands and i will kill you ...</td>\n",
       "    </tr>\n",
       "    <tr>\n",
       "      <th>2</th>\n",
       "      <td>2401</td>\n",
       "      <td>Borderlands</td>\n",
       "      <td>Positive</td>\n",
       "      <td>im coming on borderlands and i will murder you...</td>\n",
       "    </tr>\n",
       "    <tr>\n",
       "      <th>3</th>\n",
       "      <td>2401</td>\n",
       "      <td>Borderlands</td>\n",
       "      <td>Positive</td>\n",
       "      <td>im getting on borderlands 2 and i will murder ...</td>\n",
       "    </tr>\n",
       "    <tr>\n",
       "      <th>4</th>\n",
       "      <td>2401</td>\n",
       "      <td>Borderlands</td>\n",
       "      <td>Positive</td>\n",
       "      <td>im getting into borderlands and i can murder y...</td>\n",
       "    </tr>\n",
       "    <tr>\n",
       "      <th>...</th>\n",
       "      <td>...</td>\n",
       "      <td>...</td>\n",
       "      <td>...</td>\n",
       "      <td>...</td>\n",
       "    </tr>\n",
       "    <tr>\n",
       "      <th>74676</th>\n",
       "      <td>9200</td>\n",
       "      <td>Nvidia</td>\n",
       "      <td>Positive</td>\n",
       "      <td>Just realized that the Windows partition of my...</td>\n",
       "    </tr>\n",
       "    <tr>\n",
       "      <th>74677</th>\n",
       "      <td>9200</td>\n",
       "      <td>Nvidia</td>\n",
       "      <td>Positive</td>\n",
       "      <td>Just realized that my Mac window partition is ...</td>\n",
       "    </tr>\n",
       "    <tr>\n",
       "      <th>74678</th>\n",
       "      <td>9200</td>\n",
       "      <td>Nvidia</td>\n",
       "      <td>Positive</td>\n",
       "      <td>Just realized the windows partition of my Mac ...</td>\n",
       "    </tr>\n",
       "    <tr>\n",
       "      <th>74679</th>\n",
       "      <td>9200</td>\n",
       "      <td>Nvidia</td>\n",
       "      <td>Positive</td>\n",
       "      <td>Just realized between the windows partition of...</td>\n",
       "    </tr>\n",
       "    <tr>\n",
       "      <th>74680</th>\n",
       "      <td>9200</td>\n",
       "      <td>Nvidia</td>\n",
       "      <td>Positive</td>\n",
       "      <td>Just like the windows partition of my Mac is l...</td>\n",
       "    </tr>\n",
       "  </tbody>\n",
       "</table>\n",
       "<p>74681 rows × 4 columns</p>\n",
       "</div>"
      ],
      "text/plain": [
       "         id          tag sentiment  \\\n",
       "0      2401  Borderlands  Positive   \n",
       "1      2401  Borderlands  Positive   \n",
       "2      2401  Borderlands  Positive   \n",
       "3      2401  Borderlands  Positive   \n",
       "4      2401  Borderlands  Positive   \n",
       "...     ...          ...       ...   \n",
       "74676  9200       Nvidia  Positive   \n",
       "74677  9200       Nvidia  Positive   \n",
       "74678  9200       Nvidia  Positive   \n",
       "74679  9200       Nvidia  Positive   \n",
       "74680  9200       Nvidia  Positive   \n",
       "\n",
       "                                                    text  \n",
       "0      I am coming to the borders and I will kill you...  \n",
       "1      im getting on borderlands and i will kill you ...  \n",
       "2      im coming on borderlands and i will murder you...  \n",
       "3      im getting on borderlands 2 and i will murder ...  \n",
       "4      im getting into borderlands and i can murder y...  \n",
       "...                                                  ...  \n",
       "74676  Just realized that the Windows partition of my...  \n",
       "74677  Just realized that my Mac window partition is ...  \n",
       "74678  Just realized the windows partition of my Mac ...  \n",
       "74679  Just realized between the windows partition of...  \n",
       "74680  Just like the windows partition of my Mac is l...  \n",
       "\n",
       "[74681 rows x 4 columns]"
      ]
     },
     "execution_count": 2,
     "metadata": {},
     "output_type": "execute_result"
    }
   ],
   "source": [
    "# Load dataset\n",
    "import pandas as pd\n",
    "import numpy as np\n",
    "\n",
    "sentiment = pd.read_csv('.data/twitter_training.csv')\n",
    "sentiment_validation = pd.read_csv('.data/twitter_validation.csv')\n",
    "\n",
    "# Add column names\n",
    "sentiment.columns = ['id', 'tag', 'sentiment', 'text']\n",
    "sentiment_validation.columns = ['id', 'tag', 'sentiment', 'text']\n",
    "\n",
    "sentiment"
   ]
  },
  {
   "cell_type": "code",
   "execution_count": 3,
   "metadata": {},
   "outputs": [],
   "source": [
    "# Filter for Positive/Negative only\n",
    "sentiment = sentiment[sentiment['sentiment'].isin(['Positive', 'Negative'])]\n",
    "sentiment_validation = sentiment_validation[sentiment_validation['sentiment'].isin(['Positive', 'Negative'])]"
   ]
  },
  {
   "cell_type": "code",
   "execution_count": 4,
   "metadata": {},
   "outputs": [
    {
     "data": {
      "text/plain": [
       "sentiment\n",
       "Negative    22542\n",
       "Positive    20831\n",
       "Name: count, dtype: int64"
      ]
     },
     "execution_count": 4,
     "metadata": {},
     "output_type": "execute_result"
    }
   ],
   "source": [
    "sentiment['sentiment'].value_counts()"
   ]
  },
  {
   "cell_type": "code",
   "execution_count": 5,
   "metadata": {},
   "outputs": [
    {
     "data": {
      "text/plain": [
       "sentiment\n",
       "Positive    277\n",
       "Negative    266\n",
       "Name: count, dtype: int64"
      ]
     },
     "execution_count": 5,
     "metadata": {},
     "output_type": "execute_result"
    }
   ],
   "source": [
    "sentiment_validation['sentiment'].value_counts()"
   ]
  },
  {
   "cell_type": "code",
   "execution_count": 6,
   "metadata": {},
   "outputs": [],
   "source": [
    "# Validate that 'text' is not null or empty\n",
    "sentiment = sentiment.dropna(subset=['text'])\n",
    "sentiment_validation = sentiment_validation.dropna(subset=['text'])"
   ]
  },
  {
   "cell_type": "code",
   "execution_count": 7,
   "metadata": {},
   "outputs": [
    {
     "name": "stderr",
     "output_type": "stream",
     "text": [
      "2024-05-25 16:32:24.573027: I metal_plugin/src/device/metal_device.cc:1154] Metal device set to: Apple M2 Pro\n",
      "2024-05-25 16:32:24.573065: I metal_plugin/src/device/metal_device.cc:296] systemMemory: 16.00 GB\n",
      "2024-05-25 16:32:24.573075: I metal_plugin/src/device/metal_device.cc:313] maxCacheSize: 5.33 GB\n",
      "2024-05-25 16:32:24.573115: I tensorflow/core/common_runtime/pluggable_device/pluggable_device_factory.cc:305] Could not identify NUMA node of platform GPU ID 0, defaulting to 0. Your kernel may not have been built with NUMA support.\n",
      "2024-05-25 16:32:24.573138: I tensorflow/core/common_runtime/pluggable_device/pluggable_device_factory.cc:271] Created TensorFlow device (/job:localhost/replica:0/task:0/device:GPU:0 with 0 MB memory) -> physical PluggableDevice (device: 0, name: METAL, pci bus id: <undefined>)\n",
      "Some weights of the PyTorch model were not used when initializing the TF 2.0 model TFBertModel: ['cls.predictions.transform.dense.bias', 'cls.predictions.transform.LayerNorm.weight', 'cls.predictions.bias', 'cls.seq_relationship.bias', 'cls.seq_relationship.weight', 'cls.predictions.transform.LayerNorm.bias', 'cls.predictions.transform.dense.weight']\n",
      "- This IS expected if you are initializing TFBertModel from a PyTorch model trained on another task or with another architecture (e.g. initializing a TFBertForSequenceClassification model from a BertForPreTraining model).\n",
      "- This IS NOT expected if you are initializing TFBertModel from a PyTorch model that you expect to be exactly identical (e.g. initializing a TFBertForSequenceClassification model from a BertForSequenceClassification model).\n",
      "All the weights of TFBertModel were initialized from the PyTorch model.\n",
      "If your task is similar to the task the model of the checkpoint was trained on, you can already use TFBertModel for predictions without further training.\n"
     ]
    },
    {
     "name": "stdout",
     "output_type": "stream",
     "text": [
      "1000,2000,3000,4000,5000,6000,7000,8000,9000,10000,11000,12000,13000,14000,15000,16000,17000,18000,19000,20000,21000,22000,23000,24000,25000,26000,27000,28000,29000,30000,31000,32000,33000,34000,35000,36000,37000,38000,39000,40000,41000,42000,43000,Sentiment DataFrame with BERT Embeddings\n",
      "     id          tag sentiment  \\\n",
      "0  2401  Borderlands  Positive   \n",
      "1  2401  Borderlands  Positive   \n",
      "2  2401  Borderlands  Positive   \n",
      "3  2401  Borderlands  Positive   \n",
      "4  2401  Borderlands  Positive   \n",
      "\n",
      "                                                text  \\\n",
      "0  I am coming to the borders and I will kill you...   \n",
      "1  im getting on borderlands and i will kill you ...   \n",
      "2  im coming on borderlands and i will murder you...   \n",
      "3  im getting on borderlands 2 and i will murder ...   \n",
      "4  im getting into borderlands and i can murder y...   \n",
      "\n",
      "                                           embedding  \n",
      "0  [0.19273372, -0.11226941, 0.17335339, -0.18106...  \n",
      "1  [0.33810177, 0.057169184, 0.4759693, -0.036217...  \n",
      "2  [0.448893, 0.03900575, 0.4786713, -0.005726489...  \n",
      "3  [0.40309918, -0.035907622, 0.5685759, 0.010016...  \n",
      "4  [0.43010965, -0.10140726, 0.41650018, -0.09925...  \n",
      "\n",
      "Sentiment Validation DataFrame with BERT Embeddings\n",
      "      id                   tag sentiment  \\\n",
      "1   8312             Microsoft  Negative   \n",
      "2   4371                 CS-GO  Negative   \n",
      "4   6273                  FIFA  Negative   \n",
      "5   7925             MaddenNFL  Positive   \n",
      "6  11332  TomClancysRainbowSix  Positive   \n",
      "\n",
      "                                                text  \\\n",
      "1  @Microsoft Why do I pay for WORD when it funct...   \n",
      "2  CSGO matchmaking is so full of closet hacking,...   \n",
      "4  Hi @EAHelp I’ve had Madeleine McCann in my cel...   \n",
      "5  Thank you @EAMaddenNFL!! \\n\\nNew TE Austin Hoo...   \n",
      "6  Rocket League, Sea of Thieves or Rainbow Six: ...   \n",
      "\n",
      "                                           embedding  \n",
      "1  [-0.0023485075, 0.47378182, 0.356037, -0.10252...  \n",
      "2  [0.5130215, 0.17316799, 0.20181845, 0.09437159...  \n",
      "4  [0.11426464, -0.0057702335, 0.4746528, -0.3113...  \n",
      "5  [0.31520963, -0.032318614, 0.550331, -0.233222...  \n",
      "6  [0.10426211, -0.18284327, 0.5755719, 0.0956821...  \n"
     ]
    }
   ],
   "source": [
    "# Compute an embedding, using BERT.\n",
    "import tensorflow as tf\n",
    "from transformers import BertTokenizer, TFBertModel\n",
    "\n",
    "# Load the pre-trained BERT model and tokenizer\n",
    "tokenizer = BertTokenizer.from_pretrained('bert-base-uncased')\n",
    "model = TFBertModel.from_pretrained('bert-base-uncased')\n",
    "\n",
    "count = 0\n",
    "\n",
    "# Function to compute the embedding for a single sentence\n",
    "def get_embedding(text):\n",
    "    global count\n",
    "    inputs = tokenizer(text, return_tensors='tf', truncation=True, padding=True, max_length=512)\n",
    "    outputs = model(inputs)\n",
    "    count += 1\n",
    "    if count % 1000 == 0:\n",
    "        print(f'{count},', end='')\n",
    "    return tf.reduce_mean(outputs.last_hidden_state, axis=1).numpy().squeeze()\n",
    "\n",
    "# Compute embeddings for each text in both DataFrames\n",
    "sentiment['embedding'] = sentiment['text'].apply(get_embedding)\n",
    "sentiment_validation['embedding'] = sentiment_validation['text'].apply(get_embedding)\n",
    "\n",
    "# Display the DataFrames with the embeddings\n",
    "print(\"Sentiment DataFrame with BERT Embeddings\")\n",
    "print(sentiment.head())\n",
    "\n",
    "print(\"\\nSentiment Validation DataFrame with BERT Embeddings\")\n",
    "print(sentiment_validation.head())"
   ]
  },
  {
   "cell_type": "code",
   "execution_count": 8,
   "metadata": {},
   "outputs": [],
   "source": [
    "# Drop the 'tag' and 'id' columns\n",
    "sentiment = sentiment.drop(columns=['tag', 'id'])\n",
    "sentiment_validation = sentiment_validation.drop(columns=['tag', 'id'])"
   ]
  },
  {
   "cell_type": "code",
   "execution_count": 18,
   "metadata": {},
   "outputs": [
    {
     "name": "stdout",
     "output_type": "stream",
     "text": [
      "(43012, 3)\n",
      "(543, 3)\n",
      "  sentiment                                               text  \\\n",
      "0  Positive  I am coming to the borders and I will kill you...   \n",
      "1  Positive  im getting on borderlands and i will kill you ...   \n",
      "2  Positive  im coming on borderlands and i will murder you...   \n",
      "3  Positive  im getting on borderlands 2 and i will murder ...   \n",
      "4  Positive  im getting into borderlands and i can murder y...   \n",
      "\n",
      "                                           embedding  \n",
      "0  [0.19273372, -0.11226941, 0.17335339, -0.18106...  \n",
      "1  [0.33810177, 0.057169184, 0.4759693, -0.036217...  \n",
      "2  [0.448893, 0.03900575, 0.4786713, -0.005726489...  \n",
      "3  [0.40309918, -0.035907622, 0.5685759, 0.010016...  \n",
      "4  [0.43010965, -0.10140726, 0.41650018, -0.09925...  \n",
      "embedding\n",
      "768    43012\n",
      "Name: count, dtype: int64\n"
     ]
    }
   ],
   "source": [
    "print(sentiment.shape)\n",
    "print(sentiment_validation.shape)\n",
    "print(sentiment.head())\n",
    "# Show the embeddings length\n",
    "print(sentiment['embedding'].apply(lambda x: len(x)).value_counts())"
   ]
  },
  {
   "cell_type": "code",
   "execution_count": 42,
   "metadata": {},
   "outputs": [
    {
     "name": "stdout",
     "output_type": "stream",
     "text": [
      "Test Accuracy: 0.8886434964547251\n",
      "Classification Report:\n",
      "              precision    recall  f1-score   support\n",
      "\n",
      "    Negative       0.89      0.90      0.89      4481\n",
      "    Positive       0.89      0.87      0.88      4122\n",
      "\n",
      "    accuracy                           0.89      8603\n",
      "   macro avg       0.89      0.89      0.89      8603\n",
      "weighted avg       0.89      0.89      0.89      8603\n",
      "\n"
     ]
    }
   ],
   "source": [
    "import numpy as np\n",
    "from sklearn.ensemble import RandomForestClassifier\n",
    "from sklearn.metrics import classification_report, accuracy_score\n",
    "from sklearn.model_selection import train_test_split\n",
    "\n",
    "# Assuming the embeddings are already added to the DataFrames\n",
    "\n",
    "# Extract features (embeddings) and labels\n",
    "X = np.vstack(sentiment['embedding'].values)\n",
    "y = sentiment['sentiment'].values\n",
    "\n",
    "# Split the dataset into training and test sets\n",
    "X_train, X_test, y_train, y_test = train_test_split(X, y, test_size=0.2, random_state=42)\n",
    "\n",
    "# Train the Random Forest Classifier\n",
    "rf_model = RandomForestClassifier(n_estimators=200, random_state=42, n_jobs=-1)\n",
    "rf_model.fit(X_train, y_train)\n",
    "\n",
    "# Predict on the test set\n",
    "y_pred = rf_model.predict(X_test)\n",
    "\n",
    "# Evaluate the model\n",
    "accuracy = accuracy_score(y_test, y_pred)\n",
    "report = classification_report(y_test, y_pred)\n",
    "\n",
    "print(f'Test Accuracy: {accuracy}')\n",
    "print(f'Classification Report:\\n{report}')\n"
   ]
  },
  {
   "cell_type": "code",
   "execution_count": 43,
   "metadata": {},
   "outputs": [
    {
     "name": "stdout",
     "output_type": "stream",
     "text": [
      "Validation Accuracy: 0.9429097605893186\n",
      "Classification Report:\n",
      "              precision    recall  f1-score   support\n",
      "\n",
      "    Negative       0.92      0.96      0.94       266\n",
      "    Positive       0.96      0.92      0.94       277\n",
      "\n",
      "    accuracy                           0.94       543\n",
      "   macro avg       0.94      0.94      0.94       543\n",
      "weighted avg       0.94      0.94      0.94       543\n",
      "\n"
     ]
    }
   ],
   "source": [
    "# Predict on the validation set\n",
    "X_val = np.vstack(sentiment_validation['embedding'].values)\n",
    "y_val = sentiment_validation['sentiment'].values\n",
    "\n",
    "y_val_pred = rf_model.predict(X_val)\n",
    "\n",
    "# Evaluate the model on the validation set\n",
    "accuracy_val = accuracy_score(y_val, y_val_pred)\n",
    "report_val = classification_report(y_val, y_val_pred)\n",
    "\n",
    "print(f'Validation Accuracy: {accuracy_val}')\n",
    "print(f'Classification Report:\\n{report_val}')"
   ]
  },
  {
   "cell_type": "code",
   "execution_count": 44,
   "metadata": {},
   "outputs": [
    {
     "data": {
      "image/png": "[encoded data removed]",
      "text/plain": [
       "<Figure size 640x480 with 2 Axes>"
      ]
     },
     "metadata": {},
     "output_type": "display_data"
    }
   ],
   "source": [
    "# Show the confusion matrix\n",
    "from sklearn.metrics import confusion_matrix\n",
    "import seaborn as sns\n",
    "import matplotlib.pyplot as plt\n",
    "\n",
    "cm = confusion_matrix(y_val, y_val_pred)\n",
    "sns.heatmap(cm, annot=True, fmt='d', cmap='summer_r', xticklabels=['Negative', 'Positive'], yticklabels=['Negative', 'Positive'])\n",
    "plt.xlabel('Predicted')\n",
    "plt.ylabel('Actual')\n",
    "plt.title('Confusion Matrix')\n",
    "plt.show()"
   ]
  },
  {
   "cell_type": "code",
   "execution_count": 45,
   "metadata": {},
   "outputs": [
    {
     "ename": "TypeError",
     "evalue": "model() missing 2 required positional arguments: 'X_train' and 'y_train'",
     "output_type": "error",
     "traceback": [
      "\u001b[0;31m---------------------------------------------------------------------------\u001b[0m",
      "\u001b[0;31mTypeError\u001b[0m                                 Traceback (most recent call last)",
      "Cell \u001b[0;32mIn[45], line 94\u001b[0m\n\u001b[1;32m     91\u001b[0m sentences, true_sentiments \u001b[38;5;241m=\u001b[39m \u001b[38;5;28mzip\u001b[39m(\u001b[38;5;241m*\u001b[39mtest_sentences)\n\u001b[1;32m     93\u001b[0m \u001b[38;5;66;03m# Generate embeddings for the test sentences\u001b[39;00m\n\u001b[0;32m---> 94\u001b[0m test_embeddings \u001b[38;5;241m=\u001b[39m np\u001b[38;5;241m.\u001b[39marray([get_embedding(sentence) \u001b[38;5;28;01mfor\u001b[39;00m sentence \u001b[38;5;129;01min\u001b[39;00m sentences])\n\u001b[1;32m     96\u001b[0m \u001b[38;5;66;03m# Predict the sentiments using the trained model\u001b[39;00m\n\u001b[1;32m     97\u001b[0m predictions \u001b[38;5;241m=\u001b[39m rf_model\u001b[38;5;241m.\u001b[39mpredict(test_embeddings)\n",
      "Cell \u001b[0;32mIn[45], line 94\u001b[0m, in \u001b[0;36m<listcomp>\u001b[0;34m(.0)\u001b[0m\n\u001b[1;32m     91\u001b[0m sentences, true_sentiments \u001b[38;5;241m=\u001b[39m \u001b[38;5;28mzip\u001b[39m(\u001b[38;5;241m*\u001b[39mtest_sentences)\n\u001b[1;32m     93\u001b[0m \u001b[38;5;66;03m# Generate embeddings for the test sentences\u001b[39;00m\n\u001b[0;32m---> 94\u001b[0m test_embeddings \u001b[38;5;241m=\u001b[39m np\u001b[38;5;241m.\u001b[39marray([\u001b[43mget_embedding\u001b[49m\u001b[43m(\u001b[49m\u001b[43msentence\u001b[49m\u001b[43m)\u001b[49m \u001b[38;5;28;01mfor\u001b[39;00m sentence \u001b[38;5;129;01min\u001b[39;00m sentences])\n\u001b[1;32m     96\u001b[0m \u001b[38;5;66;03m# Predict the sentiments using the trained model\u001b[39;00m\n\u001b[1;32m     97\u001b[0m predictions \u001b[38;5;241m=\u001b[39m rf_model\u001b[38;5;241m.\u001b[39mpredict(test_embeddings)\n",
      "Cell \u001b[0;32mIn[7], line 15\u001b[0m, in \u001b[0;36mget_embedding\u001b[0;34m(text)\u001b[0m\n\u001b[1;32m     13\u001b[0m \u001b[38;5;28;01mglobal\u001b[39;00m count\n\u001b[1;32m     14\u001b[0m inputs \u001b[38;5;241m=\u001b[39m tokenizer(text, return_tensors\u001b[38;5;241m=\u001b[39m\u001b[38;5;124m'\u001b[39m\u001b[38;5;124mtf\u001b[39m\u001b[38;5;124m'\u001b[39m, truncation\u001b[38;5;241m=\u001b[39m\u001b[38;5;28;01mTrue\u001b[39;00m, padding\u001b[38;5;241m=\u001b[39m\u001b[38;5;28;01mTrue\u001b[39;00m, max_length\u001b[38;5;241m=\u001b[39m\u001b[38;5;241m512\u001b[39m)\n\u001b[0;32m---> 15\u001b[0m outputs \u001b[38;5;241m=\u001b[39m \u001b[43mmodel\u001b[49m\u001b[43m(\u001b[49m\u001b[43minputs\u001b[49m\u001b[43m)\u001b[49m\n\u001b[1;32m     16\u001b[0m count \u001b[38;5;241m+\u001b[39m\u001b[38;5;241m=\u001b[39m \u001b[38;5;241m1\u001b[39m\n\u001b[1;32m     17\u001b[0m \u001b[38;5;28;01mif\u001b[39;00m count \u001b[38;5;241m%\u001b[39m \u001b[38;5;241m1000\u001b[39m \u001b[38;5;241m==\u001b[39m \u001b[38;5;241m0\u001b[39m:\n",
      "\u001b[0;31mTypeError\u001b[0m: model() missing 2 required positional arguments: 'X_train' and 'y_train'"
     ]
    }
   ],
   "source": [
    "import numpy as np\n",
    "from sklearn.metrics import accuracy_score\n",
    "\n",
    "# Test sentences with their corresponding true sentiments (Positive/Negative)\n",
    "test_sentences = [\n",
    "    (\"This icecream is delicious!\", \"Positive\"),\n",
    "    (\"I hate this phone.\", \"Negative\"),\n",
    "    (\"I love this car.\", \"Positive\"),\n",
    "    (\"I don't like this book.\", \"Negative\"),\n",
    "    (\"This sandwich couldn't be worse!\", \"Negative\"),\n",
    "    (\"I'm in love with this song.\", \"Positive\"),\n",
    "    (\"Why is this happening to me?\", \"Negative\"),\n",
    "    (\"This is the worst day ever.\", \"Negative\"),\n",
    "    (\"Ha! Ha! Ha! This is so funny\", \"Positive\"),\n",
    "    (\"I'm so sad right now.\", \"Negative\"),\n",
    "    (\"That phone really sucks.\", \"Negative\"),\n",
    "    (\"What a fantastic performance!\", \"Positive\"),\n",
    "    (\"This place is amazing!\", \"Positive\"),\n",
    "    (\"I'm extremely disappointed in this service.\", \"Negative\"),\n",
    "    (\"This is the best thing ever!\", \"Positive\"),\n",
    "    (\"I can't stand this anymore.\", \"Negative\"),\n",
    "    (\"This movie is a masterpiece.\", \"Positive\"),\n",
    "    (\"I feel utterly miserable.\", \"Negative\"),\n",
    "    (\"What a wonderful surprise!\", \"Positive\"),\n",
    "    (\"This is a total disaster.\", \"Negative\"),\n",
    "    (\"I'm thrilled with the results.\", \"Positive\"),\n",
    "    (\"I detest this kind of behavior.\", \"Negative\"),\n",
    "    (\"This experience was phenomenal.\", \"Positive\"),\n",
    "    (\"I regret buying this product.\", \"Negative\"),\n",
    "    (\"I'm ecstatic about the news!\", \"Positive\"),\n",
    "    (\"This is utterly ridiculous.\", \"Negative\"),\n",
    "    (\"I couldn't be happier with my decision.\", \"Positive\"),\n",
    "    (\"This is an absolute failure.\", \"Negative\"),\n",
    "    (\"I'm over the moon with joy!\", \"Positive\"),\n",
    "    (\"This is the last straw.\", \"Negative\"),\n",
    "    (\"I'm feeling great today!\", \"Positive\"),\n",
    "    (\"This product is amazing!\", \"Positive\"),\n",
    "    (\"I'm very unhappy with this.\", \"Negative\"),\n",
    "    (\"What a terrible experience!\", \"Negative\"),\n",
    "    (\"This is just perfect.\", \"Positive\"),\n",
    "    (\"I love the way this looks.\", \"Positive\"),\n",
    "    (\"I'm so frustrated right now.\", \"Negative\"),\n",
    "    (\"This is absolutely fantastic!\", \"Positive\"),\n",
    "    (\"I can't believe how bad this is.\", \"Negative\"),\n",
    "    (\"I'm delighted with the outcome.\", \"Positive\"),\n",
    "    (\"This is so disappointing.\", \"Negative\"),\n",
    "    (\"What a lovely day!\", \"Positive\"),\n",
    "    (\"I'm completely heartbroken.\", \"Negative\"),\n",
    "    (\"This is pure bliss.\", \"Positive\"),\n",
    "    (\"I despise this kind of thing.\", \"Negative\"),\n",
    "    (\"I'm overjoyed with the results.\", \"Positive\"),\n",
    "    (\"This is simply dreadful.\", \"Negative\"),\n",
    "    (\"I'm very pleased with this.\", \"Positive\"),\n",
    "    (\"This is a nightmare.\", \"Negative\"),\n",
    "    (\"I'm so happy right now!\", \"Positive\"),\n",
    "    (\"This is not acceptable.\", \"Negative\"),\n",
    "    (\"I'm really enjoying this.\", \"Positive\"),\n",
    "    (\"This is absolutely horrible.\", \"Negative\"),\n",
    "    (\"I love spending time here.\", \"Positive\"),\n",
    "    (\"This is the most frustrating thing ever.\", \"Negative\"),\n",
    "    (\"I'm incredibly satisfied with this.\", \"Positive\"),\n",
    "    (\"This is a complete mess.\", \"Negative\"),\n",
    "    (\"What an extraordinary event!\", \"Positive\"),\n",
    "    (\"This is beyond disappointing.\", \"Negative\"),\n",
    "    (\"I'm elated with my progress.\", \"Positive\"),\n",
    "    (\"This is such a waste of time.\", \"Negative\"),\n",
    "    (\"I'm absolutely thrilled!\", \"Positive\"),\n",
    "    (\"This situation is unbearable.\", \"Negative\"),\n",
    "    (\"I can't express how happy I am.\", \"Positive\"),\n",
    "    (\"This is a total failure.\", \"Negative\"),\n",
    "    (\"I'm so grateful for this opportunity.\", \"Positive\"),\n",
    "    (\"This is driving me crazy.\", \"Negative\"),\n",
    "    (\"I'm in awe of this beauty.\", \"Positive\"),\n",
    "    (\"This is utterly pointless.\", \"Negative\"),\n",
    "    (\"I'm having the time of my life!\", \"Positive\"),\n",
    "    (\"This is so infuriating.\", \"Negative\"),\n",
    "    (\"I absolutely love this place.\", \"Positive\"),\n",
    "    (\"This is the worst experience ever.\", \"Negative\"),\n",
    "    (\"I'm overjoyed to be here.\", \"Positive\"),\n",
    "    (\"This is a huge disappointment.\", \"Negative\"),\n",
    "    (\"I'm very content with this.\", \"Positive\"),\n",
    "    (\"This is the most annoying thing.\", \"Negative\"),\n",
    "    (\"I'm extremely happy with the results.\", \"Positive\"),\n",
    "    (\"This is totally unacceptable.\", \"Negative\"),\n",
    "    (\"I'm so excited about this!\", \"Positive\"),\n",
    "    (\"This is very upsetting.\", \"Negative\")\n",
    "]\n",
    "\n",
    "\n",
    "# Separate the sentences and their true sentiments\n",
    "sentences, true_sentiments = zip(*test_sentences)\n",
    "\n",
    "# Generate embeddings for the test sentences\n",
    "test_embeddings = np.array([get_embedding(sentence) for sentence in sentences])\n",
    "\n",
    "# Predict the sentiments using the trained model\n",
    "predictions = rf_model.predict(test_embeddings)\n",
    "\n",
    "# Print the results and calculate accuracy\n",
    "correct_predictions = 0\n",
    "for sentence, true_sentiment, prediction in zip(sentences, true_sentiments, predictions):\n",
    "    is_correct = prediction == true_sentiment\n",
    "    if is_correct:\n",
    "        correct_predictions += 1\n",
    "    print(f'Sentence: {sentence}', end=' | ')\n",
    "    print(f'True Sentiment: {true_sentiment}', end=' | ')\n",
    "    print(f'Predicted Sentiment: {prediction}', end=' | ')\n",
    "    print(f'Correct: {is_correct}')\n",
    "    print()\n",
    "\n",
    "# Calculate and print the accuracy\n",
    "accuracy = correct_predictions / len(sentences)\n",
    "print(f'Accuracy: {accuracy * 100:.2f}%')\n"
   ]
  }
 ],
 "metadata": {
  "kernelspec": {
   "display_name": "ml-env",
   "language": "python",
   "name": "python3"
  },
  "language_info": {
   "codemirror_mode": {
    "name": "ipython",
    "version": 3
   },
   "file_extension": ".py",
   "mimetype": "text/x-python",
   "name": "python",
   "nbconvert_exporter": "python",
   "pygments_lexer": "ipython3",
   "version": "3.9.18"
  }
 },
 "nbformat": 4,
 "nbformat_minor": 2
}
